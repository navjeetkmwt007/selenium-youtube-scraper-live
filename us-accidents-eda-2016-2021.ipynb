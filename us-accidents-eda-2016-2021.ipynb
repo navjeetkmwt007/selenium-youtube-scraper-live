{
 "cells": [
  {
   "cell_type": "code",
   "execution_count": 1,
   "id": "3431ba84",
   "metadata": {
    "_cell_guid": "b1076dfc-b9ad-4769-8c92-a6c4dae69d19",
    "_uuid": "8f2839f25d086af736a60e9eeb907d3b93b6e0e5",
    "execution": {
     "iopub.execute_input": "2023-01-11T12:37:20.526813Z",
     "iopub.status.busy": "2023-01-11T12:37:20.526316Z",
     "iopub.status.idle": "2023-01-11T12:37:20.545280Z",
     "shell.execute_reply": "2023-01-11T12:37:20.544379Z"
    },
    "papermill": {
     "duration": 0.04829,
     "end_time": "2023-01-11T12:37:20.547932",
     "exception": false,
     "start_time": "2023-01-11T12:37:20.499642",
     "status": "completed"
    },
    "tags": []
   },
   "outputs": [
    {
     "name": "stdout",
     "output_type": "stream",
     "text": [
      "/kaggle/input/us-accidents/US_Accidents_Dec21_updated.csv\n"
     ]
    }
   ],
   "source": [
    "# This Python 3 environment comes with many helpful analytics libraries installed\n",
    "# It is defined by the kaggle/python Docker image: https://github.com/kaggle/docker-python\n",
    "# For example, here's several helpful packages to load\n",
    "\n",
    "import numpy as np # linear algebra\n",
    "import pandas as pd # data processing, CSV file I/O (e.g. pd.read_csv)\n",
    "\n",
    "# Input data files are available in the read-only \"../input/\" directory\n",
    "# For example, running this (by clicking run or pressing Shift+Enter) will list all files under the input directory\n",
    "\n",
    "import os\n",
    "for dirname, _, filenames in os.walk('/kaggle/input'):\n",
    "    for filename in filenames:\n",
    "        print(os.path.join(dirname, filename))\n",
    "\n",
    "# You can write up to 20GB to the current directory (/kaggle/working/) that gets preserved as output when you create a version using \"Save & Run All\" \n",
    "# You can also write temporary files to /kaggle/temp/, but they won't be saved outside of the current session"
   ]
  },
  {
   "cell_type": "markdown",
   "id": "e916bc2c",
   "metadata": {
    "papermill": {
     "duration": 0.019696,
     "end_time": "2023-01-11T12:37:20.587951",
     "exception": false,
     "start_time": "2023-01-11T12:37:20.568255",
     "status": "completed"
    },
    "tags": []
   },
   "source": [
    "# **US Accidents 2016 - 2021 Exploratory Data Analysis**\n",
    "\n",
    "Dataset Source: Kaggle\n",
    "\n",
    "Dataset_Name: US_car_accidents_2016-2021\n",
    "\n",
    "Source_link: https://www.kaggle.com/datasets/sobhanmoosavi/us-accidents\n",
    "\n",
    "Size 1.5GB\n",
    "\n",
    "Description:\n",
    "This dataset contains the number of accidents occured in 49 states of the US. \n",
    "This dataset has been collected in real-time, using multiple Traffic APIs from February 2016 to Dec 2021, that provide streaming traffic incident (or event) data. These APIs broadcast traffic data captured by a variety of entities, such as the US and state departments of transportation, law enforcement agencies, traffic cameras, and traffic sensors within the road-networks. Currently, there are about 2.8 million accident records in this dataset."
   ]
  },
  {
   "cell_type": "markdown",
   "id": "cc5c4c3b",
   "metadata": {
    "papermill": {
     "duration": 0.019682,
     "end_time": "2023-01-11T12:37:20.627561",
     "exception": false,
     "start_time": "2023-01-11T12:37:20.607879",
     "status": "completed"
    },
    "tags": []
   },
   "source": [
    "Step 1: Download the Data"
   ]
  },
  {
   "cell_type": "markdown",
   "id": "a43ccdeb",
   "metadata": {
    "papermill": {
     "duration": 0.019529,
     "end_time": "2023-01-11T12:37:20.667124",
     "exception": false,
     "start_time": "2023-01-11T12:37:20.647595",
     "status": "completed"
    },
    "tags": []
   },
   "source": [
    "Import Libraries"
   ]
  },
  {
   "cell_type": "code",
   "execution_count": 2,
   "id": "72f48c73",
   "metadata": {
    "execution": {
     "iopub.execute_input": "2023-01-11T12:37:20.708457Z",
     "iopub.status.busy": "2023-01-11T12:37:20.708015Z",
     "iopub.status.idle": "2023-01-11T12:37:21.837737Z",
     "shell.execute_reply": "2023-01-11T12:37:21.836069Z"
    },
    "papermill": {
     "duration": 1.153413,
     "end_time": "2023-01-11T12:37:21.840452",
     "exception": false,
     "start_time": "2023-01-11T12:37:20.687039",
     "status": "completed"
    },
    "tags": []
   },
   "outputs": [],
   "source": [
    "import pandas as pd\n",
    "import seaborn as sns\n",
    "sns.set_style(\"darkgrid\")\n",
    "import matplotlib.pyplot as plt"
   ]
  },
  {
   "cell_type": "code",
   "execution_count": 3,
   "id": "aaf32a3f",
   "metadata": {
    "execution": {
     "iopub.execute_input": "2023-01-11T12:37:21.883729Z",
     "iopub.status.busy": "2023-01-11T12:37:21.883261Z",
     "iopub.status.idle": "2023-01-11T12:37:21.888309Z",
     "shell.execute_reply": "2023-01-11T12:37:21.887111Z"
    },
    "papermill": {
     "duration": 0.029225,
     "end_time": "2023-01-11T12:37:21.890484",
     "exception": false,
     "start_time": "2023-01-11T12:37:21.861259",
     "status": "completed"
    },
    "tags": []
   },
   "outputs": [],
   "source": [
    "data_filename= './us-accidents/US_Accidents_Dec21_updated.csv'"
   ]
  },
  {
   "cell_type": "markdown",
   "id": "9a10c3d3",
   "metadata": {
    "papermill": {
     "duration": 0.01988,
     "end_time": "2023-01-11T12:37:21.930664",
     "exception": false,
     "start_time": "2023-01-11T12:37:21.910784",
     "status": "completed"
    },
    "tags": []
   },
   "source": [
    "Dataset abbrevations:\n",
    "1-ID - This is a unique identifier of the accident record.\n",
    "\n",
    "2-Severity - Shows the severity of the accident, a number between 1 and 4, where 1 indicates the least impact on traffic (i.e., short delay as a result of the accident) and 4 indicates a significant impact on traffic (i.e., long delay).\n",
    "\n",
    "3-Start_Time - Shows start time of the accident in local time zone.\n",
    "\n",
    "4-End_Time - Shows end time of the accident in local time zone. End time here refers to when the impact of accident on traffic flow\n",
    "\n",
    "5-Start_Lat - Shows latitude in GPS coordinate of the start point.\n",
    "\n",
    "6-Start_Lng - Shows longitude in GPS coordinate of the start point.\n",
    "\n",
    "7-End_Lat - Shows latitude in GPS coordinate of the end point.\n",
    "\n",
    "8-End_Lng - Shows longitude in GPS coordinate of the end point.\n",
    "\n",
    "9-Distance(mi) - The length of the road extent affected by the accident.\n",
    "\n",
    "10-Description - Shows natural language description of the accident.\n",
    "\n",
    "11-Number - Shows the street number in address record.\n",
    "\n",
    "12-Street - Shows the street name in address record.\n",
    "\n",
    "13-Side - Shows the relative side of the street (Right/Left) in address record.\n",
    "\n",
    "14-City - Shows the city in address record.\n",
    "\n",
    "15-County - Shows the county in address record.\n",
    "\n",
    "16-State - Shows the state in address record.\n",
    "\n",
    "17-Zipcode - Shows the zipcode in address record.\n",
    "\n",
    "18-Country - Shows the country in address record.\n",
    "\n",
    "19-Timezone - Shows timezone based on the location of the accident (eastern, central, etc.).\n",
    "\n",
    "20-Airport_Code - Denotes an airport-based weather station which is the closest one to location of the accident.\n",
    "\n",
    "21-Weather_Timestamp - Shows the time-stamp of weather observation record (in local time).\n",
    "\n",
    "22-Temperature(F) - Shows the temperature (in Fahrenheit).\n",
    "\n",
    "23-Wind_Chill(F) - Shows the wind chill (in Fahrenheit).\n",
    "\n",
    "24-Humidity(%) - Shows the humidity (in percentage).\n",
    "\n",
    "25-Pressure(in) - Shows the air pressure (in inches).\n",
    "\n",
    "26-Visibility(mi) - Shows visibility (in miles).\n",
    "\n",
    "27-Wind_Direction - Shows wind direction.\n",
    "\n",
    "28-Wind_Speed(mph) - Shows wind speed (in miles per hour).\n",
    "\n",
    "29-Precipitation(in) - Shows precipitation amount in inches, if there is any.\n",
    "\n",
    "30-Weather_Condition - Shows the weather condition (rain, snow, thunderstorm, fog, etc.)\n",
    "\n",
    "31-Amenity - A POI annotation which indicates presence of amenity in a nearby location.\n",
    "\n",
    "32-Bump - A POI annotation which indicates presence of speed bump or hump in a nearby location.\n",
    "\n",
    "33-Crossing - A POI annotation which indicates presence of crossing in a nearby location.\n",
    "\n",
    "34-Give_Way - A POI annotation which indicates presence of give_way in a nearby location.\n",
    "\n",
    "35-Junction - A POI annotation which indicates presence of junction in a nearby location.\n",
    "\n",
    "36-No_Exit - A POI annotation which indicates presence of junction in a nearby location.\n",
    "\n",
    "37-Railway - A POI annotation which indicates presence of railway in a nearby location.\n",
    "\n",
    "38-Roundabout - A POI annotation which indicates presence of roundabout in a nearby location.\n",
    "\n",
    "39-Station - A POI annotation which indicates presence of station in a nearby location.\n",
    "\n",
    "40-Stop - A POI annotation which indicates presence of stop in a nearby location.\n",
    "\n",
    "41-Traffic_Calming - A POI annotation which indicates presence of traffic_calming in a nearby location.\n",
    "\n",
    "42-Traffic_Signal - A POI annotation which indicates presence of traffic_signal in a nearby location.\n",
    "\n",
    "43-Turning_Loop - A POI annotation which indicates presence of turning_loop in a nearby location.\n",
    "\n",
    "44-Sunrise_Sunset - Shows the period of day (i.e. day or night) based on sunrise/sunset.\n",
    "\n",
    "45-Civil_Twilight - Shows the period of day (i.e. day or night) based on civil twilight.\n",
    "\n",
    "46-Nautical_Twilight - Shows the period of day (i.e. day or night) based on nautical twilight.\n",
    "\n",
    "47-Astronomical_Twilight - Shows the period of day (i.e. day or night) based on astronomical twilight."
   ]
  },
  {
   "cell_type": "markdown",
   "id": "9127282e",
   "metadata": {
    "papermill": {
     "duration": 0.020122,
     "end_time": "2023-01-11T12:37:21.973507",
     "exception": false,
     "start_time": "2023-01-11T12:37:21.953385",
     "status": "completed"
    },
    "tags": []
   },
   "source": [
    "Step 2: Data Preparation and Cleaning\n",
    "\n",
    "Load the file using Pandas\n",
    "Look at some information about the data and the columns\n",
    "Fix the missing or incorrect values"
   ]
  },
  {
   "cell_type": "code",
   "execution_count": 4,
   "id": "d8c4ae5d",
   "metadata": {
    "execution": {
     "iopub.execute_input": "2023-01-11T12:37:22.015914Z",
     "iopub.status.busy": "2023-01-11T12:37:22.015511Z",
     "iopub.status.idle": "2023-01-11T12:38:10.784146Z",
     "shell.execute_reply": "2023-01-11T12:38:10.782671Z"
    },
    "papermill": {
     "duration": 48.792863,
     "end_time": "2023-01-11T12:38:10.786936",
     "exception": false,
     "start_time": "2023-01-11T12:37:21.994073",
     "status": "completed"
    },
    "tags": []
   },
   "outputs": [],
   "source": [
    "df = pd.read_csv('/kaggle/input/us-accidents/US_Accidents_Dec21_updated.csv')"
   ]
  },
  {
   "cell_type": "code",
   "execution_count": 5,
   "id": "2d3d2ae5",
   "metadata": {
    "execution": {
     "iopub.execute_input": "2023-01-11T12:38:10.829767Z",
     "iopub.status.busy": "2023-01-11T12:38:10.829212Z",
     "iopub.status.idle": "2023-01-11T12:38:10.868430Z",
     "shell.execute_reply": "2023-01-11T12:38:10.867236Z"
    },
    "papermill": {
     "duration": 0.064049,
     "end_time": "2023-01-11T12:38:10.871221",
     "exception": false,
     "start_time": "2023-01-11T12:38:10.807172",
     "status": "completed"
    },
    "tags": []
   },
   "outputs": [
    {
     "data": {
      "text/html": [
       "<div>\n",
       "<style scoped>\n",
       "    .dataframe tbody tr th:only-of-type {\n",
       "        vertical-align: middle;\n",
       "    }\n",
       "\n",
       "    .dataframe tbody tr th {\n",
       "        vertical-align: top;\n",
       "    }\n",
       "\n",
       "    .dataframe thead th {\n",
       "        text-align: right;\n",
       "    }\n",
       "</style>\n",
       "<table border=\"1\" class=\"dataframe\">\n",
       "  <thead>\n",
       "    <tr style=\"text-align: right;\">\n",
       "      <th></th>\n",
       "      <th>ID</th>\n",
       "      <th>Severity</th>\n",
       "      <th>Start_Time</th>\n",
       "      <th>End_Time</th>\n",
       "      <th>Start_Lat</th>\n",
       "      <th>Start_Lng</th>\n",
       "      <th>End_Lat</th>\n",
       "      <th>End_Lng</th>\n",
       "      <th>Distance(mi)</th>\n",
       "      <th>Description</th>\n",
       "      <th>...</th>\n",
       "      <th>Roundabout</th>\n",
       "      <th>Station</th>\n",
       "      <th>Stop</th>\n",
       "      <th>Traffic_Calming</th>\n",
       "      <th>Traffic_Signal</th>\n",
       "      <th>Turning_Loop</th>\n",
       "      <th>Sunrise_Sunset</th>\n",
       "      <th>Civil_Twilight</th>\n",
       "      <th>Nautical_Twilight</th>\n",
       "      <th>Astronomical_Twilight</th>\n",
       "    </tr>\n",
       "  </thead>\n",
       "  <tbody>\n",
       "    <tr>\n",
       "      <th>0</th>\n",
       "      <td>A-1</td>\n",
       "      <td>3</td>\n",
       "      <td>2016-02-08 00:37:08</td>\n",
       "      <td>2016-02-08 06:37:08</td>\n",
       "      <td>40.108910</td>\n",
       "      <td>-83.092860</td>\n",
       "      <td>40.112060</td>\n",
       "      <td>-83.031870</td>\n",
       "      <td>3.230</td>\n",
       "      <td>Between Sawmill Rd/Exit 20 and OH-315/Olentang...</td>\n",
       "      <td>...</td>\n",
       "      <td>False</td>\n",
       "      <td>False</td>\n",
       "      <td>False</td>\n",
       "      <td>False</td>\n",
       "      <td>False</td>\n",
       "      <td>False</td>\n",
       "      <td>Night</td>\n",
       "      <td>Night</td>\n",
       "      <td>Night</td>\n",
       "      <td>Night</td>\n",
       "    </tr>\n",
       "    <tr>\n",
       "      <th>1</th>\n",
       "      <td>A-2</td>\n",
       "      <td>2</td>\n",
       "      <td>2016-02-08 05:56:20</td>\n",
       "      <td>2016-02-08 11:56:20</td>\n",
       "      <td>39.865420</td>\n",
       "      <td>-84.062800</td>\n",
       "      <td>39.865010</td>\n",
       "      <td>-84.048730</td>\n",
       "      <td>0.747</td>\n",
       "      <td>At OH-4/OH-235/Exit 41 - Accident.</td>\n",
       "      <td>...</td>\n",
       "      <td>False</td>\n",
       "      <td>False</td>\n",
       "      <td>False</td>\n",
       "      <td>False</td>\n",
       "      <td>False</td>\n",
       "      <td>False</td>\n",
       "      <td>Night</td>\n",
       "      <td>Night</td>\n",
       "      <td>Night</td>\n",
       "      <td>Night</td>\n",
       "    </tr>\n",
       "    <tr>\n",
       "      <th>2</th>\n",
       "      <td>A-3</td>\n",
       "      <td>2</td>\n",
       "      <td>2016-02-08 06:15:39</td>\n",
       "      <td>2016-02-08 12:15:39</td>\n",
       "      <td>39.102660</td>\n",
       "      <td>-84.524680</td>\n",
       "      <td>39.102090</td>\n",
       "      <td>-84.523960</td>\n",
       "      <td>0.055</td>\n",
       "      <td>At I-71/US-50/Exit 1 - Accident.</td>\n",
       "      <td>...</td>\n",
       "      <td>False</td>\n",
       "      <td>False</td>\n",
       "      <td>False</td>\n",
       "      <td>False</td>\n",
       "      <td>False</td>\n",
       "      <td>False</td>\n",
       "      <td>Night</td>\n",
       "      <td>Night</td>\n",
       "      <td>Night</td>\n",
       "      <td>Day</td>\n",
       "    </tr>\n",
       "    <tr>\n",
       "      <th>3</th>\n",
       "      <td>A-4</td>\n",
       "      <td>2</td>\n",
       "      <td>2016-02-08 06:51:45</td>\n",
       "      <td>2016-02-08 12:51:45</td>\n",
       "      <td>41.062130</td>\n",
       "      <td>-81.537840</td>\n",
       "      <td>41.062170</td>\n",
       "      <td>-81.535470</td>\n",
       "      <td>0.123</td>\n",
       "      <td>At Dart Ave/Exit 21 - Accident.</td>\n",
       "      <td>...</td>\n",
       "      <td>False</td>\n",
       "      <td>False</td>\n",
       "      <td>False</td>\n",
       "      <td>False</td>\n",
       "      <td>False</td>\n",
       "      <td>False</td>\n",
       "      <td>Night</td>\n",
       "      <td>Night</td>\n",
       "      <td>Day</td>\n",
       "      <td>Day</td>\n",
       "    </tr>\n",
       "    <tr>\n",
       "      <th>4</th>\n",
       "      <td>A-5</td>\n",
       "      <td>3</td>\n",
       "      <td>2016-02-08 07:53:43</td>\n",
       "      <td>2016-02-08 13:53:43</td>\n",
       "      <td>39.172393</td>\n",
       "      <td>-84.492792</td>\n",
       "      <td>39.170476</td>\n",
       "      <td>-84.501798</td>\n",
       "      <td>0.500</td>\n",
       "      <td>At Mitchell Ave/Exit 6 - Accident.</td>\n",
       "      <td>...</td>\n",
       "      <td>False</td>\n",
       "      <td>False</td>\n",
       "      <td>False</td>\n",
       "      <td>False</td>\n",
       "      <td>False</td>\n",
       "      <td>False</td>\n",
       "      <td>Day</td>\n",
       "      <td>Day</td>\n",
       "      <td>Day</td>\n",
       "      <td>Day</td>\n",
       "    </tr>\n",
       "  </tbody>\n",
       "</table>\n",
       "<p>5 rows × 47 columns</p>\n",
       "</div>"
      ],
      "text/plain": [
       "    ID  Severity           Start_Time             End_Time  Start_Lat  \\\n",
       "0  A-1         3  2016-02-08 00:37:08  2016-02-08 06:37:08  40.108910   \n",
       "1  A-2         2  2016-02-08 05:56:20  2016-02-08 11:56:20  39.865420   \n",
       "2  A-3         2  2016-02-08 06:15:39  2016-02-08 12:15:39  39.102660   \n",
       "3  A-4         2  2016-02-08 06:51:45  2016-02-08 12:51:45  41.062130   \n",
       "4  A-5         3  2016-02-08 07:53:43  2016-02-08 13:53:43  39.172393   \n",
       "\n",
       "   Start_Lng    End_Lat    End_Lng  Distance(mi)  \\\n",
       "0 -83.092860  40.112060 -83.031870         3.230   \n",
       "1 -84.062800  39.865010 -84.048730         0.747   \n",
       "2 -84.524680  39.102090 -84.523960         0.055   \n",
       "3 -81.537840  41.062170 -81.535470         0.123   \n",
       "4 -84.492792  39.170476 -84.501798         0.500   \n",
       "\n",
       "                                         Description  ...  Roundabout Station  \\\n",
       "0  Between Sawmill Rd/Exit 20 and OH-315/Olentang...  ...       False   False   \n",
       "1                 At OH-4/OH-235/Exit 41 - Accident.  ...       False   False   \n",
       "2                   At I-71/US-50/Exit 1 - Accident.  ...       False   False   \n",
       "3                    At Dart Ave/Exit 21 - Accident.  ...       False   False   \n",
       "4                 At Mitchell Ave/Exit 6 - Accident.  ...       False   False   \n",
       "\n",
       "    Stop Traffic_Calming Traffic_Signal Turning_Loop Sunrise_Sunset  \\\n",
       "0  False           False          False        False          Night   \n",
       "1  False           False          False        False          Night   \n",
       "2  False           False          False        False          Night   \n",
       "3  False           False          False        False          Night   \n",
       "4  False           False          False        False            Day   \n",
       "\n",
       "  Civil_Twilight Nautical_Twilight Astronomical_Twilight  \n",
       "0          Night             Night                 Night  \n",
       "1          Night             Night                 Night  \n",
       "2          Night             Night                   Day  \n",
       "3          Night               Day                   Day  \n",
       "4            Day               Day                   Day  \n",
       "\n",
       "[5 rows x 47 columns]"
      ]
     },
     "execution_count": 5,
     "metadata": {},
     "output_type": "execute_result"
    }
   ],
   "source": [
    "df.head(5)"
   ]
  },
  {
   "cell_type": "code",
   "execution_count": 6,
   "id": "b720369f",
   "metadata": {
    "execution": {
     "iopub.execute_input": "2023-01-11T12:38:10.914059Z",
     "iopub.status.busy": "2023-01-11T12:38:10.913400Z",
     "iopub.status.idle": "2023-01-11T12:38:10.921111Z",
     "shell.execute_reply": "2023-01-11T12:38:10.920093Z"
    },
    "papermill": {
     "duration": 0.031596,
     "end_time": "2023-01-11T12:38:10.923211",
     "exception": false,
     "start_time": "2023-01-11T12:38:10.891615",
     "status": "completed"
    },
    "tags": []
   },
   "outputs": [
    {
     "data": {
      "text/plain": [
       "Index(['ID', 'Severity', 'Start_Time', 'End_Time', 'Start_Lat', 'Start_Lng',\n",
       "       'End_Lat', 'End_Lng', 'Distance(mi)', 'Description', 'Number', 'Street',\n",
       "       'Side', 'City', 'County', 'State', 'Zipcode', 'Country', 'Timezone',\n",
       "       'Airport_Code', 'Weather_Timestamp', 'Temperature(F)', 'Wind_Chill(F)',\n",
       "       'Humidity(%)', 'Pressure(in)', 'Visibility(mi)', 'Wind_Direction',\n",
       "       'Wind_Speed(mph)', 'Precipitation(in)', 'Weather_Condition', 'Amenity',\n",
       "       'Bump', 'Crossing', 'Give_Way', 'Junction', 'No_Exit', 'Railway',\n",
       "       'Roundabout', 'Station', 'Stop', 'Traffic_Calming', 'Traffic_Signal',\n",
       "       'Turning_Loop', 'Sunrise_Sunset', 'Civil_Twilight', 'Nautical_Twilight',\n",
       "       'Astronomical_Twilight'],\n",
       "      dtype='object')"
      ]
     },
     "execution_count": 6,
     "metadata": {},
     "output_type": "execute_result"
    }
   ],
   "source": [
    "df.columns"
   ]
  },
  {
   "cell_type": "code",
   "execution_count": 7,
   "id": "e1306382",
   "metadata": {
    "execution": {
     "iopub.execute_input": "2023-01-11T12:38:10.971736Z",
     "iopub.status.busy": "2023-01-11T12:38:10.971211Z",
     "iopub.status.idle": "2023-01-11T12:38:10.995317Z",
     "shell.execute_reply": "2023-01-11T12:38:10.994063Z"
    },
    "papermill": {
     "duration": 0.053125,
     "end_time": "2023-01-11T12:38:10.998778",
     "exception": false,
     "start_time": "2023-01-11T12:38:10.945653",
     "status": "completed"
    },
    "tags": []
   },
   "outputs": [
    {
     "name": "stdout",
     "output_type": "stream",
     "text": [
      "<class 'pandas.core.frame.DataFrame'>\n",
      "RangeIndex: 2845342 entries, 0 to 2845341\n",
      "Data columns (total 47 columns):\n",
      " #   Column                 Dtype  \n",
      "---  ------                 -----  \n",
      " 0   ID                     object \n",
      " 1   Severity               int64  \n",
      " 2   Start_Time             object \n",
      " 3   End_Time               object \n",
      " 4   Start_Lat              float64\n",
      " 5   Start_Lng              float64\n",
      " 6   End_Lat                float64\n",
      " 7   End_Lng                float64\n",
      " 8   Distance(mi)           float64\n",
      " 9   Description            object \n",
      " 10  Number                 float64\n",
      " 11  Street                 object \n",
      " 12  Side                   object \n",
      " 13  City                   object \n",
      " 14  County                 object \n",
      " 15  State                  object \n",
      " 16  Zipcode                object \n",
      " 17  Country                object \n",
      " 18  Timezone               object \n",
      " 19  Airport_Code           object \n",
      " 20  Weather_Timestamp      object \n",
      " 21  Temperature(F)         float64\n",
      " 22  Wind_Chill(F)          float64\n",
      " 23  Humidity(%)            float64\n",
      " 24  Pressure(in)           float64\n",
      " 25  Visibility(mi)         float64\n",
      " 26  Wind_Direction         object \n",
      " 27  Wind_Speed(mph)        float64\n",
      " 28  Precipitation(in)      float64\n",
      " 29  Weather_Condition      object \n",
      " 30  Amenity                bool   \n",
      " 31  Bump                   bool   \n",
      " 32  Crossing               bool   \n",
      " 33  Give_Way               bool   \n",
      " 34  Junction               bool   \n",
      " 35  No_Exit                bool   \n",
      " 36  Railway                bool   \n",
      " 37  Roundabout             bool   \n",
      " 38  Station                bool   \n",
      " 39  Stop                   bool   \n",
      " 40  Traffic_Calming        bool   \n",
      " 41  Traffic_Signal         bool   \n",
      " 42  Turning_Loop           bool   \n",
      " 43  Sunrise_Sunset         object \n",
      " 44  Civil_Twilight         object \n",
      " 45  Nautical_Twilight      object \n",
      " 46  Astronomical_Twilight  object \n",
      "dtypes: bool(13), float64(13), int64(1), object(20)\n",
      "memory usage: 773.4+ MB\n"
     ]
    }
   ],
   "source": [
    "df.info()"
   ]
  },
  {
   "cell_type": "code",
   "execution_count": 8,
   "id": "6f8666df",
   "metadata": {
    "execution": {
     "iopub.execute_input": "2023-01-11T12:38:11.044168Z",
     "iopub.status.busy": "2023-01-11T12:38:11.043543Z",
     "iopub.status.idle": "2023-01-11T12:38:11.049084Z",
     "shell.execute_reply": "2023-01-11T12:38:11.048323Z"
    },
    "papermill": {
     "duration": 0.030138,
     "end_time": "2023-01-11T12:38:11.051150",
     "exception": false,
     "start_time": "2023-01-11T12:38:11.021012",
     "status": "completed"
    },
    "tags": []
   },
   "outputs": [
    {
     "data": {
      "text/plain": [
       "47"
      ]
     },
     "execution_count": 8,
     "metadata": {},
     "output_type": "execute_result"
    }
   ],
   "source": [
    "len(df.columns)"
   ]
  },
  {
   "cell_type": "code",
   "execution_count": 9,
   "id": "ef643425",
   "metadata": {
    "execution": {
     "iopub.execute_input": "2023-01-11T12:38:11.095248Z",
     "iopub.status.busy": "2023-01-11T12:38:11.094639Z",
     "iopub.status.idle": "2023-01-11T12:38:11.336770Z",
     "shell.execute_reply": "2023-01-11T12:38:11.335326Z"
    },
    "papermill": {
     "duration": 0.267135,
     "end_time": "2023-01-11T12:38:11.339296",
     "exception": false,
     "start_time": "2023-01-11T12:38:11.072161",
     "status": "completed"
    },
    "tags": []
   },
   "outputs": [
    {
     "data": {
      "text/html": [
       "<div>\n",
       "<style scoped>\n",
       "    .dataframe tbody tr th:only-of-type {\n",
       "        vertical-align: middle;\n",
       "    }\n",
       "\n",
       "    .dataframe tbody tr th {\n",
       "        vertical-align: top;\n",
       "    }\n",
       "\n",
       "    .dataframe thead th {\n",
       "        text-align: right;\n",
       "    }\n",
       "</style>\n",
       "<table border=\"1\" class=\"dataframe\">\n",
       "  <thead>\n",
       "    <tr style=\"text-align: right;\">\n",
       "      <th></th>\n",
       "      <th>State</th>\n",
       "      <th>count</th>\n",
       "    </tr>\n",
       "  </thead>\n",
       "  <tbody>\n",
       "    <tr>\n",
       "      <th>0</th>\n",
       "      <td>AL</td>\n",
       "      <td>19322</td>\n",
       "    </tr>\n",
       "    <tr>\n",
       "      <th>1</th>\n",
       "      <td>AR</td>\n",
       "      <td>10935</td>\n",
       "    </tr>\n",
       "    <tr>\n",
       "      <th>2</th>\n",
       "      <td>AZ</td>\n",
       "      <td>56504</td>\n",
       "    </tr>\n",
       "    <tr>\n",
       "      <th>3</th>\n",
       "      <td>CA</td>\n",
       "      <td>795868</td>\n",
       "    </tr>\n",
       "    <tr>\n",
       "      <th>4</th>\n",
       "      <td>CO</td>\n",
       "      <td>25340</td>\n",
       "    </tr>\n",
       "    <tr>\n",
       "      <th>5</th>\n",
       "      <td>CT</td>\n",
       "      <td>29762</td>\n",
       "    </tr>\n",
       "    <tr>\n",
       "      <th>6</th>\n",
       "      <td>DC</td>\n",
       "      <td>9133</td>\n",
       "    </tr>\n",
       "    <tr>\n",
       "      <th>7</th>\n",
       "      <td>DE</td>\n",
       "      <td>4842</td>\n",
       "    </tr>\n",
       "    <tr>\n",
       "      <th>8</th>\n",
       "      <td>FL</td>\n",
       "      <td>401388</td>\n",
       "    </tr>\n",
       "    <tr>\n",
       "      <th>9</th>\n",
       "      <td>GA</td>\n",
       "      <td>40086</td>\n",
       "    </tr>\n",
       "    <tr>\n",
       "      <th>10</th>\n",
       "      <td>IA</td>\n",
       "      <td>9607</td>\n",
       "    </tr>\n",
       "    <tr>\n",
       "      <th>11</th>\n",
       "      <td>ID</td>\n",
       "      <td>8544</td>\n",
       "    </tr>\n",
       "    <tr>\n",
       "      <th>12</th>\n",
       "      <td>IL</td>\n",
       "      <td>47105</td>\n",
       "    </tr>\n",
       "    <tr>\n",
       "      <th>13</th>\n",
       "      <td>IN</td>\n",
       "      <td>20850</td>\n",
       "    </tr>\n",
       "    <tr>\n",
       "      <th>14</th>\n",
       "      <td>KS</td>\n",
       "      <td>9033</td>\n",
       "    </tr>\n",
       "    <tr>\n",
       "      <th>15</th>\n",
       "      <td>KY</td>\n",
       "      <td>6638</td>\n",
       "    </tr>\n",
       "    <tr>\n",
       "      <th>16</th>\n",
       "      <td>LA</td>\n",
       "      <td>47232</td>\n",
       "    </tr>\n",
       "    <tr>\n",
       "      <th>17</th>\n",
       "      <td>MA</td>\n",
       "      <td>6392</td>\n",
       "    </tr>\n",
       "    <tr>\n",
       "      <th>18</th>\n",
       "      <td>MD</td>\n",
       "      <td>65085</td>\n",
       "    </tr>\n",
       "    <tr>\n",
       "      <th>19</th>\n",
       "      <td>ME</td>\n",
       "      <td>2193</td>\n",
       "    </tr>\n",
       "    <tr>\n",
       "      <th>20</th>\n",
       "      <td>MI</td>\n",
       "      <td>43843</td>\n",
       "    </tr>\n",
       "    <tr>\n",
       "      <th>21</th>\n",
       "      <td>MN</td>\n",
       "      <td>97185</td>\n",
       "    </tr>\n",
       "    <tr>\n",
       "      <th>22</th>\n",
       "      <td>MO</td>\n",
       "      <td>29633</td>\n",
       "    </tr>\n",
       "    <tr>\n",
       "      <th>23</th>\n",
       "      <td>MS</td>\n",
       "      <td>5320</td>\n",
       "    </tr>\n",
       "    <tr>\n",
       "      <th>24</th>\n",
       "      <td>MT</td>\n",
       "      <td>15964</td>\n",
       "    </tr>\n",
       "    <tr>\n",
       "      <th>25</th>\n",
       "      <td>NC</td>\n",
       "      <td>91362</td>\n",
       "    </tr>\n",
       "    <tr>\n",
       "      <th>26</th>\n",
       "      <td>ND</td>\n",
       "      <td>2258</td>\n",
       "    </tr>\n",
       "    <tr>\n",
       "      <th>27</th>\n",
       "      <td>NE</td>\n",
       "      <td>3320</td>\n",
       "    </tr>\n",
       "    <tr>\n",
       "      <th>28</th>\n",
       "      <td>NH</td>\n",
       "      <td>3866</td>\n",
       "    </tr>\n",
       "    <tr>\n",
       "      <th>29</th>\n",
       "      <td>NJ</td>\n",
       "      <td>52902</td>\n",
       "    </tr>\n",
       "    <tr>\n",
       "      <th>30</th>\n",
       "      <td>NM</td>\n",
       "      <td>2370</td>\n",
       "    </tr>\n",
       "    <tr>\n",
       "      <th>31</th>\n",
       "      <td>NV</td>\n",
       "      <td>6197</td>\n",
       "    </tr>\n",
       "    <tr>\n",
       "      <th>32</th>\n",
       "      <td>NY</td>\n",
       "      <td>108049</td>\n",
       "    </tr>\n",
       "    <tr>\n",
       "      <th>33</th>\n",
       "      <td>OH</td>\n",
       "      <td>24409</td>\n",
       "    </tr>\n",
       "    <tr>\n",
       "      <th>34</th>\n",
       "      <td>OK</td>\n",
       "      <td>8806</td>\n",
       "    </tr>\n",
       "    <tr>\n",
       "      <th>35</th>\n",
       "      <td>OR</td>\n",
       "      <td>126341</td>\n",
       "    </tr>\n",
       "    <tr>\n",
       "      <th>36</th>\n",
       "      <td>PA</td>\n",
       "      <td>99975</td>\n",
       "    </tr>\n",
       "    <tr>\n",
       "      <th>37</th>\n",
       "      <td>RI</td>\n",
       "      <td>4451</td>\n",
       "    </tr>\n",
       "    <tr>\n",
       "      <th>38</th>\n",
       "      <td>SC</td>\n",
       "      <td>89216</td>\n",
       "    </tr>\n",
       "    <tr>\n",
       "      <th>39</th>\n",
       "      <td>SD</td>\n",
       "      <td>201</td>\n",
       "    </tr>\n",
       "    <tr>\n",
       "      <th>40</th>\n",
       "      <td>TN</td>\n",
       "      <td>52613</td>\n",
       "    </tr>\n",
       "    <tr>\n",
       "      <th>41</th>\n",
       "      <td>TX</td>\n",
       "      <td>149037</td>\n",
       "    </tr>\n",
       "    <tr>\n",
       "      <th>42</th>\n",
       "      <td>UT</td>\n",
       "      <td>49193</td>\n",
       "    </tr>\n",
       "    <tr>\n",
       "      <th>43</th>\n",
       "      <td>VA</td>\n",
       "      <td>113535</td>\n",
       "    </tr>\n",
       "    <tr>\n",
       "      <th>44</th>\n",
       "      <td>VT</td>\n",
       "      <td>365</td>\n",
       "    </tr>\n",
       "    <tr>\n",
       "      <th>45</th>\n",
       "      <td>WA</td>\n",
       "      <td>32554</td>\n",
       "    </tr>\n",
       "    <tr>\n",
       "      <th>46</th>\n",
       "      <td>WI</td>\n",
       "      <td>7896</td>\n",
       "    </tr>\n",
       "    <tr>\n",
       "      <th>47</th>\n",
       "      <td>WV</td>\n",
       "      <td>7632</td>\n",
       "    </tr>\n",
       "    <tr>\n",
       "      <th>48</th>\n",
       "      <td>WY</td>\n",
       "      <td>990</td>\n",
       "    </tr>\n",
       "  </tbody>\n",
       "</table>\n",
       "</div>"
      ],
      "text/plain": [
       "   State   count\n",
       "0     AL   19322\n",
       "1     AR   10935\n",
       "2     AZ   56504\n",
       "3     CA  795868\n",
       "4     CO   25340\n",
       "5     CT   29762\n",
       "6     DC    9133\n",
       "7     DE    4842\n",
       "8     FL  401388\n",
       "9     GA   40086\n",
       "10    IA    9607\n",
       "11    ID    8544\n",
       "12    IL   47105\n",
       "13    IN   20850\n",
       "14    KS    9033\n",
       "15    KY    6638\n",
       "16    LA   47232\n",
       "17    MA    6392\n",
       "18    MD   65085\n",
       "19    ME    2193\n",
       "20    MI   43843\n",
       "21    MN   97185\n",
       "22    MO   29633\n",
       "23    MS    5320\n",
       "24    MT   15964\n",
       "25    NC   91362\n",
       "26    ND    2258\n",
       "27    NE    3320\n",
       "28    NH    3866\n",
       "29    NJ   52902\n",
       "30    NM    2370\n",
       "31    NV    6197\n",
       "32    NY  108049\n",
       "33    OH   24409\n",
       "34    OK    8806\n",
       "35    OR  126341\n",
       "36    PA   99975\n",
       "37    RI    4451\n",
       "38    SC   89216\n",
       "39    SD     201\n",
       "40    TN   52613\n",
       "41    TX  149037\n",
       "42    UT   49193\n",
       "43    VA  113535\n",
       "44    VT     365\n",
       "45    WA   32554\n",
       "46    WI    7896\n",
       "47    WV    7632\n",
       "48    WY     990"
      ]
     },
     "execution_count": 9,
     "metadata": {},
     "output_type": "execute_result"
    }
   ],
   "source": [
    "total_state = df.groupby(['State']).size().reset_index(name='count')   #Total number of States and their accident count\n",
    "total_state"
   ]
  },
  {
   "cell_type": "markdown",
   "id": "42ff0e08",
   "metadata": {
    "papermill": {
     "duration": 0.021156,
     "end_time": "2023-01-11T12:38:11.381850",
     "exception": false,
     "start_time": "2023-01-11T12:38:11.360694",
     "status": "completed"
    },
    "tags": []
   },
   "source": [
    "Statistical Information/ Numeric Data"
   ]
  },
  {
   "cell_type": "code",
   "execution_count": 10,
   "id": "e11b0aaf",
   "metadata": {
    "execution": {
     "iopub.execute_input": "2023-01-11T12:38:11.428793Z",
     "iopub.status.busy": "2023-01-11T12:38:11.428365Z",
     "iopub.status.idle": "2023-01-11T12:38:13.564593Z",
     "shell.execute_reply": "2023-01-11T12:38:13.563336Z"
    },
    "papermill": {
     "duration": 2.162597,
     "end_time": "2023-01-11T12:38:13.567127",
     "exception": false,
     "start_time": "2023-01-11T12:38:11.404530",
     "status": "completed"
    },
    "tags": []
   },
   "outputs": [
    {
     "data": {
      "text/html": [
       "<div>\n",
       "<style scoped>\n",
       "    .dataframe tbody tr th:only-of-type {\n",
       "        vertical-align: middle;\n",
       "    }\n",
       "\n",
       "    .dataframe tbody tr th {\n",
       "        vertical-align: top;\n",
       "    }\n",
       "\n",
       "    .dataframe thead th {\n",
       "        text-align: right;\n",
       "    }\n",
       "</style>\n",
       "<table border=\"1\" class=\"dataframe\">\n",
       "  <thead>\n",
       "    <tr style=\"text-align: right;\">\n",
       "      <th></th>\n",
       "      <th>Severity</th>\n",
       "      <th>Start_Lat</th>\n",
       "      <th>Start_Lng</th>\n",
       "      <th>End_Lat</th>\n",
       "      <th>End_Lng</th>\n",
       "      <th>Distance(mi)</th>\n",
       "      <th>Number</th>\n",
       "      <th>Temperature(F)</th>\n",
       "      <th>Wind_Chill(F)</th>\n",
       "      <th>Humidity(%)</th>\n",
       "      <th>Pressure(in)</th>\n",
       "      <th>Visibility(mi)</th>\n",
       "      <th>Wind_Speed(mph)</th>\n",
       "      <th>Precipitation(in)</th>\n",
       "    </tr>\n",
       "  </thead>\n",
       "  <tbody>\n",
       "    <tr>\n",
       "      <th>count</th>\n",
       "      <td>2.845342e+06</td>\n",
       "      <td>2.845342e+06</td>\n",
       "      <td>2.845342e+06</td>\n",
       "      <td>2.845342e+06</td>\n",
       "      <td>2.845342e+06</td>\n",
       "      <td>2.845342e+06</td>\n",
       "      <td>1.101431e+06</td>\n",
       "      <td>2.776068e+06</td>\n",
       "      <td>2.375699e+06</td>\n",
       "      <td>2.772250e+06</td>\n",
       "      <td>2.786142e+06</td>\n",
       "      <td>2.774796e+06</td>\n",
       "      <td>2.687398e+06</td>\n",
       "      <td>2.295884e+06</td>\n",
       "    </tr>\n",
       "    <tr>\n",
       "      <th>mean</th>\n",
       "      <td>2.137572e+00</td>\n",
       "      <td>3.624520e+01</td>\n",
       "      <td>-9.711463e+01</td>\n",
       "      <td>3.624532e+01</td>\n",
       "      <td>-9.711439e+01</td>\n",
       "      <td>7.026779e-01</td>\n",
       "      <td>8.089408e+03</td>\n",
       "      <td>6.179356e+01</td>\n",
       "      <td>5.965823e+01</td>\n",
       "      <td>6.436545e+01</td>\n",
       "      <td>2.947234e+01</td>\n",
       "      <td>9.099391e+00</td>\n",
       "      <td>7.395044e+00</td>\n",
       "      <td>7.016940e-03</td>\n",
       "    </tr>\n",
       "    <tr>\n",
       "      <th>std</th>\n",
       "      <td>4.787216e-01</td>\n",
       "      <td>5.363797e+00</td>\n",
       "      <td>1.831782e+01</td>\n",
       "      <td>5.363873e+00</td>\n",
       "      <td>1.831763e+01</td>\n",
       "      <td>1.560361e+00</td>\n",
       "      <td>1.836009e+04</td>\n",
       "      <td>1.862263e+01</td>\n",
       "      <td>2.116097e+01</td>\n",
       "      <td>2.287457e+01</td>\n",
       "      <td>1.045286e+00</td>\n",
       "      <td>2.717546e+00</td>\n",
       "      <td>5.527454e+00</td>\n",
       "      <td>9.348831e-02</td>\n",
       "    </tr>\n",
       "    <tr>\n",
       "      <th>min</th>\n",
       "      <td>1.000000e+00</td>\n",
       "      <td>2.456603e+01</td>\n",
       "      <td>-1.245481e+02</td>\n",
       "      <td>2.456601e+01</td>\n",
       "      <td>-1.245457e+02</td>\n",
       "      <td>0.000000e+00</td>\n",
       "      <td>0.000000e+00</td>\n",
       "      <td>-8.900000e+01</td>\n",
       "      <td>-8.900000e+01</td>\n",
       "      <td>1.000000e+00</td>\n",
       "      <td>0.000000e+00</td>\n",
       "      <td>0.000000e+00</td>\n",
       "      <td>0.000000e+00</td>\n",
       "      <td>0.000000e+00</td>\n",
       "    </tr>\n",
       "    <tr>\n",
       "      <th>25%</th>\n",
       "      <td>2.000000e+00</td>\n",
       "      <td>3.344517e+01</td>\n",
       "      <td>-1.180331e+02</td>\n",
       "      <td>3.344628e+01</td>\n",
       "      <td>-1.180333e+02</td>\n",
       "      <td>5.200000e-02</td>\n",
       "      <td>1.270000e+03</td>\n",
       "      <td>5.000000e+01</td>\n",
       "      <td>4.600000e+01</td>\n",
       "      <td>4.800000e+01</td>\n",
       "      <td>2.931000e+01</td>\n",
       "      <td>1.000000e+01</td>\n",
       "      <td>3.500000e+00</td>\n",
       "      <td>0.000000e+00</td>\n",
       "    </tr>\n",
       "    <tr>\n",
       "      <th>50%</th>\n",
       "      <td>2.000000e+00</td>\n",
       "      <td>3.609861e+01</td>\n",
       "      <td>-9.241808e+01</td>\n",
       "      <td>3.609799e+01</td>\n",
       "      <td>-9.241772e+01</td>\n",
       "      <td>2.440000e-01</td>\n",
       "      <td>4.007000e+03</td>\n",
       "      <td>6.400000e+01</td>\n",
       "      <td>6.300000e+01</td>\n",
       "      <td>6.700000e+01</td>\n",
       "      <td>2.982000e+01</td>\n",
       "      <td>1.000000e+01</td>\n",
       "      <td>7.000000e+00</td>\n",
       "      <td>0.000000e+00</td>\n",
       "    </tr>\n",
       "    <tr>\n",
       "      <th>75%</th>\n",
       "      <td>2.000000e+00</td>\n",
       "      <td>4.016024e+01</td>\n",
       "      <td>-8.037243e+01</td>\n",
       "      <td>4.016105e+01</td>\n",
       "      <td>-8.037338e+01</td>\n",
       "      <td>7.640000e-01</td>\n",
       "      <td>9.567000e+03</td>\n",
       "      <td>7.600000e+01</td>\n",
       "      <td>7.600000e+01</td>\n",
       "      <td>8.300000e+01</td>\n",
       "      <td>3.001000e+01</td>\n",
       "      <td>1.000000e+01</td>\n",
       "      <td>1.000000e+01</td>\n",
       "      <td>0.000000e+00</td>\n",
       "    </tr>\n",
       "    <tr>\n",
       "      <th>max</th>\n",
       "      <td>4.000000e+00</td>\n",
       "      <td>4.900058e+01</td>\n",
       "      <td>-6.711317e+01</td>\n",
       "      <td>4.907500e+01</td>\n",
       "      <td>-6.710924e+01</td>\n",
       "      <td>1.551860e+02</td>\n",
       "      <td>9.999997e+06</td>\n",
       "      <td>1.960000e+02</td>\n",
       "      <td>1.960000e+02</td>\n",
       "      <td>1.000000e+02</td>\n",
       "      <td>5.890000e+01</td>\n",
       "      <td>1.400000e+02</td>\n",
       "      <td>1.087000e+03</td>\n",
       "      <td>2.400000e+01</td>\n",
       "    </tr>\n",
       "  </tbody>\n",
       "</table>\n",
       "</div>"
      ],
      "text/plain": [
       "           Severity     Start_Lat     Start_Lng       End_Lat       End_Lng  \\\n",
       "count  2.845342e+06  2.845342e+06  2.845342e+06  2.845342e+06  2.845342e+06   \n",
       "mean   2.137572e+00  3.624520e+01 -9.711463e+01  3.624532e+01 -9.711439e+01   \n",
       "std    4.787216e-01  5.363797e+00  1.831782e+01  5.363873e+00  1.831763e+01   \n",
       "min    1.000000e+00  2.456603e+01 -1.245481e+02  2.456601e+01 -1.245457e+02   \n",
       "25%    2.000000e+00  3.344517e+01 -1.180331e+02  3.344628e+01 -1.180333e+02   \n",
       "50%    2.000000e+00  3.609861e+01 -9.241808e+01  3.609799e+01 -9.241772e+01   \n",
       "75%    2.000000e+00  4.016024e+01 -8.037243e+01  4.016105e+01 -8.037338e+01   \n",
       "max    4.000000e+00  4.900058e+01 -6.711317e+01  4.907500e+01 -6.710924e+01   \n",
       "\n",
       "       Distance(mi)        Number  Temperature(F)  Wind_Chill(F)  \\\n",
       "count  2.845342e+06  1.101431e+06    2.776068e+06   2.375699e+06   \n",
       "mean   7.026779e-01  8.089408e+03    6.179356e+01   5.965823e+01   \n",
       "std    1.560361e+00  1.836009e+04    1.862263e+01   2.116097e+01   \n",
       "min    0.000000e+00  0.000000e+00   -8.900000e+01  -8.900000e+01   \n",
       "25%    5.200000e-02  1.270000e+03    5.000000e+01   4.600000e+01   \n",
       "50%    2.440000e-01  4.007000e+03    6.400000e+01   6.300000e+01   \n",
       "75%    7.640000e-01  9.567000e+03    7.600000e+01   7.600000e+01   \n",
       "max    1.551860e+02  9.999997e+06    1.960000e+02   1.960000e+02   \n",
       "\n",
       "        Humidity(%)  Pressure(in)  Visibility(mi)  Wind_Speed(mph)  \\\n",
       "count  2.772250e+06  2.786142e+06    2.774796e+06     2.687398e+06   \n",
       "mean   6.436545e+01  2.947234e+01    9.099391e+00     7.395044e+00   \n",
       "std    2.287457e+01  1.045286e+00    2.717546e+00     5.527454e+00   \n",
       "min    1.000000e+00  0.000000e+00    0.000000e+00     0.000000e+00   \n",
       "25%    4.800000e+01  2.931000e+01    1.000000e+01     3.500000e+00   \n",
       "50%    6.700000e+01  2.982000e+01    1.000000e+01     7.000000e+00   \n",
       "75%    8.300000e+01  3.001000e+01    1.000000e+01     1.000000e+01   \n",
       "max    1.000000e+02  5.890000e+01    1.400000e+02     1.087000e+03   \n",
       "\n",
       "       Precipitation(in)  \n",
       "count       2.295884e+06  \n",
       "mean        7.016940e-03  \n",
       "std         9.348831e-02  \n",
       "min         0.000000e+00  \n",
       "25%         0.000000e+00  \n",
       "50%         0.000000e+00  \n",
       "75%         0.000000e+00  \n",
       "max         2.400000e+01  "
      ]
     },
     "execution_count": 10,
     "metadata": {},
     "output_type": "execute_result"
    }
   ],
   "source": [
    "df.describe()"
   ]
  },
  {
   "cell_type": "code",
   "execution_count": 11,
   "id": "5994b916",
   "metadata": {
    "execution": {
     "iopub.execute_input": "2023-01-11T12:38:13.612206Z",
     "iopub.status.busy": "2023-01-11T12:38:13.611775Z",
     "iopub.status.idle": "2023-01-11T12:38:13.730956Z",
     "shell.execute_reply": "2023-01-11T12:38:13.729854Z"
    },
    "papermill": {
     "duration": 0.14459,
     "end_time": "2023-01-11T12:38:13.733133",
     "exception": false,
     "start_time": "2023-01-11T12:38:13.588543",
     "status": "completed"
    },
    "tags": []
   },
   "outputs": [
    {
     "data": {
      "text/plain": [
       "14"
      ]
     },
     "execution_count": 11,
     "metadata": {},
     "output_type": "execute_result"
    }
   ],
   "source": [
    "# get the columns from dataset that have numeric data types\n",
    "numerics = ['int16', 'int32', 'int64', 'float16', 'float32', 'float64']\n",
    "\n",
    "numeric_df = df.select_dtypes(include=numerics)\n",
    "len(numeric_df.columns)    #we have 14 numeric columns in the dataset"
   ]
  },
  {
   "cell_type": "code",
   "execution_count": 12,
   "id": "fd24e9cb",
   "metadata": {
    "execution": {
     "iopub.execute_input": "2023-01-11T12:38:13.777621Z",
     "iopub.status.busy": "2023-01-11T12:38:13.777201Z",
     "iopub.status.idle": "2023-01-11T12:38:13.804574Z",
     "shell.execute_reply": "2023-01-11T12:38:13.803580Z"
    },
    "papermill": {
     "duration": 0.052467,
     "end_time": "2023-01-11T12:38:13.806951",
     "exception": false,
     "start_time": "2023-01-11T12:38:13.754484",
     "status": "completed"
    },
    "tags": []
   },
   "outputs": [
    {
     "data": {
      "text/html": [
       "<div>\n",
       "<style scoped>\n",
       "    .dataframe tbody tr th:only-of-type {\n",
       "        vertical-align: middle;\n",
       "    }\n",
       "\n",
       "    .dataframe tbody tr th {\n",
       "        vertical-align: top;\n",
       "    }\n",
       "\n",
       "    .dataframe thead th {\n",
       "        text-align: right;\n",
       "    }\n",
       "</style>\n",
       "<table border=\"1\" class=\"dataframe\">\n",
       "  <thead>\n",
       "    <tr style=\"text-align: right;\">\n",
       "      <th></th>\n",
       "      <th>Severity</th>\n",
       "      <th>Start_Lat</th>\n",
       "      <th>Start_Lng</th>\n",
       "      <th>End_Lat</th>\n",
       "      <th>End_Lng</th>\n",
       "      <th>Distance(mi)</th>\n",
       "      <th>Number</th>\n",
       "      <th>Temperature(F)</th>\n",
       "      <th>Wind_Chill(F)</th>\n",
       "      <th>Humidity(%)</th>\n",
       "      <th>Pressure(in)</th>\n",
       "      <th>Visibility(mi)</th>\n",
       "      <th>Wind_Speed(mph)</th>\n",
       "      <th>Precipitation(in)</th>\n",
       "    </tr>\n",
       "  </thead>\n",
       "  <tbody>\n",
       "    <tr>\n",
       "      <th>0</th>\n",
       "      <td>3</td>\n",
       "      <td>40.108910</td>\n",
       "      <td>-83.092860</td>\n",
       "      <td>40.112060</td>\n",
       "      <td>-83.031870</td>\n",
       "      <td>3.230</td>\n",
       "      <td>NaN</td>\n",
       "      <td>42.1</td>\n",
       "      <td>36.1</td>\n",
       "      <td>58.0</td>\n",
       "      <td>29.76</td>\n",
       "      <td>10.0</td>\n",
       "      <td>10.4</td>\n",
       "      <td>0.00</td>\n",
       "    </tr>\n",
       "    <tr>\n",
       "      <th>1</th>\n",
       "      <td>2</td>\n",
       "      <td>39.865420</td>\n",
       "      <td>-84.062800</td>\n",
       "      <td>39.865010</td>\n",
       "      <td>-84.048730</td>\n",
       "      <td>0.747</td>\n",
       "      <td>NaN</td>\n",
       "      <td>36.9</td>\n",
       "      <td>NaN</td>\n",
       "      <td>91.0</td>\n",
       "      <td>29.68</td>\n",
       "      <td>10.0</td>\n",
       "      <td>NaN</td>\n",
       "      <td>0.02</td>\n",
       "    </tr>\n",
       "    <tr>\n",
       "      <th>2</th>\n",
       "      <td>2</td>\n",
       "      <td>39.102660</td>\n",
       "      <td>-84.524680</td>\n",
       "      <td>39.102090</td>\n",
       "      <td>-84.523960</td>\n",
       "      <td>0.055</td>\n",
       "      <td>NaN</td>\n",
       "      <td>36.0</td>\n",
       "      <td>NaN</td>\n",
       "      <td>97.0</td>\n",
       "      <td>29.70</td>\n",
       "      <td>10.0</td>\n",
       "      <td>NaN</td>\n",
       "      <td>0.02</td>\n",
       "    </tr>\n",
       "    <tr>\n",
       "      <th>3</th>\n",
       "      <td>2</td>\n",
       "      <td>41.062130</td>\n",
       "      <td>-81.537840</td>\n",
       "      <td>41.062170</td>\n",
       "      <td>-81.535470</td>\n",
       "      <td>0.123</td>\n",
       "      <td>NaN</td>\n",
       "      <td>39.0</td>\n",
       "      <td>NaN</td>\n",
       "      <td>55.0</td>\n",
       "      <td>29.65</td>\n",
       "      <td>10.0</td>\n",
       "      <td>NaN</td>\n",
       "      <td>NaN</td>\n",
       "    </tr>\n",
       "    <tr>\n",
       "      <th>4</th>\n",
       "      <td>3</td>\n",
       "      <td>39.172393</td>\n",
       "      <td>-84.492792</td>\n",
       "      <td>39.170476</td>\n",
       "      <td>-84.501798</td>\n",
       "      <td>0.500</td>\n",
       "      <td>NaN</td>\n",
       "      <td>37.0</td>\n",
       "      <td>29.8</td>\n",
       "      <td>93.0</td>\n",
       "      <td>29.69</td>\n",
       "      <td>10.0</td>\n",
       "      <td>10.4</td>\n",
       "      <td>0.01</td>\n",
       "    </tr>\n",
       "    <tr>\n",
       "      <th>...</th>\n",
       "      <td>...</td>\n",
       "      <td>...</td>\n",
       "      <td>...</td>\n",
       "      <td>...</td>\n",
       "      <td>...</td>\n",
       "      <td>...</td>\n",
       "      <td>...</td>\n",
       "      <td>...</td>\n",
       "      <td>...</td>\n",
       "      <td>...</td>\n",
       "      <td>...</td>\n",
       "      <td>...</td>\n",
       "      <td>...</td>\n",
       "      <td>...</td>\n",
       "    </tr>\n",
       "    <tr>\n",
       "      <th>2845337</th>\n",
       "      <td>2</td>\n",
       "      <td>34.002480</td>\n",
       "      <td>-117.379360</td>\n",
       "      <td>33.998880</td>\n",
       "      <td>-117.370940</td>\n",
       "      <td>0.543</td>\n",
       "      <td>NaN</td>\n",
       "      <td>86.0</td>\n",
       "      <td>86.0</td>\n",
       "      <td>40.0</td>\n",
       "      <td>28.92</td>\n",
       "      <td>10.0</td>\n",
       "      <td>13.0</td>\n",
       "      <td>0.00</td>\n",
       "    </tr>\n",
       "    <tr>\n",
       "      <th>2845338</th>\n",
       "      <td>2</td>\n",
       "      <td>32.766960</td>\n",
       "      <td>-117.148060</td>\n",
       "      <td>32.765550</td>\n",
       "      <td>-117.153630</td>\n",
       "      <td>0.338</td>\n",
       "      <td>NaN</td>\n",
       "      <td>70.0</td>\n",
       "      <td>70.0</td>\n",
       "      <td>73.0</td>\n",
       "      <td>29.39</td>\n",
       "      <td>10.0</td>\n",
       "      <td>6.0</td>\n",
       "      <td>0.00</td>\n",
       "    </tr>\n",
       "    <tr>\n",
       "      <th>2845339</th>\n",
       "      <td>2</td>\n",
       "      <td>33.775450</td>\n",
       "      <td>-117.847790</td>\n",
       "      <td>33.777400</td>\n",
       "      <td>-117.857270</td>\n",
       "      <td>0.561</td>\n",
       "      <td>NaN</td>\n",
       "      <td>73.0</td>\n",
       "      <td>73.0</td>\n",
       "      <td>64.0</td>\n",
       "      <td>29.74</td>\n",
       "      <td>10.0</td>\n",
       "      <td>10.0</td>\n",
       "      <td>0.00</td>\n",
       "    </tr>\n",
       "    <tr>\n",
       "      <th>2845340</th>\n",
       "      <td>2</td>\n",
       "      <td>33.992460</td>\n",
       "      <td>-118.403020</td>\n",
       "      <td>33.983110</td>\n",
       "      <td>-118.395650</td>\n",
       "      <td>0.772</td>\n",
       "      <td>NaN</td>\n",
       "      <td>71.0</td>\n",
       "      <td>71.0</td>\n",
       "      <td>81.0</td>\n",
       "      <td>29.62</td>\n",
       "      <td>10.0</td>\n",
       "      <td>8.0</td>\n",
       "      <td>0.00</td>\n",
       "    </tr>\n",
       "    <tr>\n",
       "      <th>2845341</th>\n",
       "      <td>2</td>\n",
       "      <td>34.133930</td>\n",
       "      <td>-117.230920</td>\n",
       "      <td>34.137360</td>\n",
       "      <td>-117.239340</td>\n",
       "      <td>0.537</td>\n",
       "      <td>NaN</td>\n",
       "      <td>79.0</td>\n",
       "      <td>79.0</td>\n",
       "      <td>47.0</td>\n",
       "      <td>28.63</td>\n",
       "      <td>7.0</td>\n",
       "      <td>7.0</td>\n",
       "      <td>0.00</td>\n",
       "    </tr>\n",
       "  </tbody>\n",
       "</table>\n",
       "<p>2845342 rows × 14 columns</p>\n",
       "</div>"
      ],
      "text/plain": [
       "         Severity  Start_Lat   Start_Lng    End_Lat     End_Lng  Distance(mi)  \\\n",
       "0               3  40.108910  -83.092860  40.112060  -83.031870         3.230   \n",
       "1               2  39.865420  -84.062800  39.865010  -84.048730         0.747   \n",
       "2               2  39.102660  -84.524680  39.102090  -84.523960         0.055   \n",
       "3               2  41.062130  -81.537840  41.062170  -81.535470         0.123   \n",
       "4               3  39.172393  -84.492792  39.170476  -84.501798         0.500   \n",
       "...           ...        ...         ...        ...         ...           ...   \n",
       "2845337         2  34.002480 -117.379360  33.998880 -117.370940         0.543   \n",
       "2845338         2  32.766960 -117.148060  32.765550 -117.153630         0.338   \n",
       "2845339         2  33.775450 -117.847790  33.777400 -117.857270         0.561   \n",
       "2845340         2  33.992460 -118.403020  33.983110 -118.395650         0.772   \n",
       "2845341         2  34.133930 -117.230920  34.137360 -117.239340         0.537   \n",
       "\n",
       "         Number  Temperature(F)  Wind_Chill(F)  Humidity(%)  Pressure(in)  \\\n",
       "0           NaN            42.1           36.1         58.0         29.76   \n",
       "1           NaN            36.9            NaN         91.0         29.68   \n",
       "2           NaN            36.0            NaN         97.0         29.70   \n",
       "3           NaN            39.0            NaN         55.0         29.65   \n",
       "4           NaN            37.0           29.8         93.0         29.69   \n",
       "...         ...             ...            ...          ...           ...   \n",
       "2845337     NaN            86.0           86.0         40.0         28.92   \n",
       "2845338     NaN            70.0           70.0         73.0         29.39   \n",
       "2845339     NaN            73.0           73.0         64.0         29.74   \n",
       "2845340     NaN            71.0           71.0         81.0         29.62   \n",
       "2845341     NaN            79.0           79.0         47.0         28.63   \n",
       "\n",
       "         Visibility(mi)  Wind_Speed(mph)  Precipitation(in)  \n",
       "0                  10.0             10.4               0.00  \n",
       "1                  10.0              NaN               0.02  \n",
       "2                  10.0              NaN               0.02  \n",
       "3                  10.0              NaN                NaN  \n",
       "4                  10.0             10.4               0.01  \n",
       "...                 ...              ...                ...  \n",
       "2845337            10.0             13.0               0.00  \n",
       "2845338            10.0              6.0               0.00  \n",
       "2845339            10.0             10.0               0.00  \n",
       "2845340            10.0              8.0               0.00  \n",
       "2845341             7.0              7.0               0.00  \n",
       "\n",
       "[2845342 rows x 14 columns]"
      ]
     },
     "execution_count": 12,
     "metadata": {},
     "output_type": "execute_result"
    }
   ],
   "source": [
    "numeric_df"
   ]
  },
  {
   "cell_type": "code",
   "execution_count": 13,
   "id": "f36d7f94",
   "metadata": {
    "execution": {
     "iopub.execute_input": "2023-01-11T12:38:13.852235Z",
     "iopub.status.busy": "2023-01-11T12:38:13.851867Z",
     "iopub.status.idle": "2023-01-11T12:38:16.325456Z",
     "shell.execute_reply": "2023-01-11T12:38:16.324297Z"
    },
    "papermill": {
     "duration": 2.499413,
     "end_time": "2023-01-11T12:38:16.327948",
     "exception": false,
     "start_time": "2023-01-11T12:38:13.828535",
     "status": "completed"
    },
    "tags": []
   },
   "outputs": [
    {
     "data": {
      "text/plain": [
       "Number                   61.290031\n",
       "Precipitation(in)        19.310789\n",
       "Wind_Chill(F)            16.505678\n",
       "Wind_Speed(mph)           5.550967\n",
       "Wind_Direction            2.592834\n",
       "Humidity(%)               2.568830\n",
       "Weather_Condition         2.482514\n",
       "Visibility(mi)            2.479350\n",
       "Temperature(F)            2.434646\n",
       "Pressure(in)              2.080593\n",
       "Weather_Timestamp         1.783125\n",
       "Airport_Code              0.335601\n",
       "Timezone                  0.128596\n",
       "Nautical_Twilight         0.100761\n",
       "Civil_Twilight            0.100761\n",
       "Sunrise_Sunset            0.100761\n",
       "Astronomical_Twilight     0.100761\n",
       "Zipcode                   0.046356\n",
       "City                      0.004815\n",
       "Street                    0.000070\n",
       "Country                   0.000000\n",
       "Junction                  0.000000\n",
       "Start_Time                0.000000\n",
       "End_Time                  0.000000\n",
       "Start_Lat                 0.000000\n",
       "Turning_Loop              0.000000\n",
       "Traffic_Signal            0.000000\n",
       "Traffic_Calming           0.000000\n",
       "Stop                      0.000000\n",
       "Station                   0.000000\n",
       "Roundabout                0.000000\n",
       "Railway                   0.000000\n",
       "No_Exit                   0.000000\n",
       "Crossing                  0.000000\n",
       "Give_Way                  0.000000\n",
       "Bump                      0.000000\n",
       "Amenity                   0.000000\n",
       "Start_Lng                 0.000000\n",
       "End_Lat                   0.000000\n",
       "End_Lng                   0.000000\n",
       "Distance(mi)              0.000000\n",
       "Description               0.000000\n",
       "Severity                  0.000000\n",
       "Side                      0.000000\n",
       "County                    0.000000\n",
       "State                     0.000000\n",
       "ID                        0.000000\n",
       "dtype: float64"
      ]
     },
     "execution_count": 13,
     "metadata": {},
     "output_type": "execute_result"
    }
   ],
   "source": [
    "# Find missing values in dataset Percentage wise\n",
    "missing_percentages = df.isna().sum().sort_values(ascending = False)/ len(df) * 100 \n",
    "missing_percentages"
   ]
  },
  {
   "cell_type": "code",
   "execution_count": 14,
   "id": "33c6b305",
   "metadata": {
    "execution": {
     "iopub.execute_input": "2023-01-11T12:38:16.376485Z",
     "iopub.status.busy": "2023-01-11T12:38:16.376049Z",
     "iopub.status.idle": "2023-01-11T12:38:16.384956Z",
     "shell.execute_reply": "2023-01-11T12:38:16.383861Z"
    },
    "papermill": {
     "duration": 0.036622,
     "end_time": "2023-01-11T12:38:16.387501",
     "exception": false,
     "start_time": "2023-01-11T12:38:16.350879",
     "status": "completed"
    },
    "tags": []
   },
   "outputs": [
    {
     "data": {
      "text/plain": [
       "Number                   61.290031\n",
       "Precipitation(in)        19.310789\n",
       "Wind_Chill(F)            16.505678\n",
       "Wind_Speed(mph)           5.550967\n",
       "Wind_Direction            2.592834\n",
       "Humidity(%)               2.568830\n",
       "Weather_Condition         2.482514\n",
       "Visibility(mi)            2.479350\n",
       "Temperature(F)            2.434646\n",
       "Pressure(in)              2.080593\n",
       "Weather_Timestamp         1.783125\n",
       "Airport_Code              0.335601\n",
       "Timezone                  0.128596\n",
       "Nautical_Twilight         0.100761\n",
       "Civil_Twilight            0.100761\n",
       "Sunrise_Sunset            0.100761\n",
       "Astronomical_Twilight     0.100761\n",
       "Zipcode                   0.046356\n",
       "City                      0.004815\n",
       "Street                    0.000070\n",
       "dtype: float64"
      ]
     },
     "execution_count": 14,
     "metadata": {},
     "output_type": "execute_result"
    }
   ],
   "source": [
    "missing_percentages[missing_percentages!=0] "
   ]
  },
  {
   "cell_type": "code",
   "execution_count": 15,
   "id": "2c0f46a5",
   "metadata": {
    "execution": {
     "iopub.execute_input": "2023-01-11T12:38:16.434540Z",
     "iopub.status.busy": "2023-01-11T12:38:16.434112Z",
     "iopub.status.idle": "2023-01-11T12:38:16.863934Z",
     "shell.execute_reply": "2023-01-11T12:38:16.863001Z"
    },
    "papermill": {
     "duration": 0.45638,
     "end_time": "2023-01-11T12:38:16.866438",
     "exception": false,
     "start_time": "2023-01-11T12:38:16.410058",
     "status": "completed"
    },
    "tags": []
   },
   "outputs": [
    {
     "data": {
      "text/plain": [
       "<AxesSubplot:>"
      ]
     },
     "execution_count": 15,
     "metadata": {},
     "output_type": "execute_result"
    },
    {
     "data": {
      "image/png": "[encoded data removed]",
      "text/plain": [
       "<Figure size 432x288 with 1 Axes>"
      ]
     },
     "metadata": {},
     "output_type": "display_data"
    }
   ],
   "source": [
    "missing_percentages[missing_percentages!=0].plot(kind = 'barh')\n",
    "                                                "
   ]
  },
  {
   "cell_type": "markdown",
   "id": "d0edcdce",
   "metadata": {
    "papermill": {
     "duration": 0.02295,
     "end_time": "2023-01-11T12:38:16.912454",
     "exception": false,
     "start_time": "2023-01-11T12:38:16.889504",
     "status": "completed"
    },
    "tags": []
   },
   "source": [
    "Step 3: Exploratory Analysis and Data Visualization\n",
    "\n",
    "Columns Analysed:\n",
    "\n",
    "1. City\n",
    "2. States\n",
    "3. Start Time - Weeks, Months and Years\n",
    "4. Start Lat, Start Lng\n",
    "5. Weather Condition\n",
    "6. Severity\n",
    "7. Street\n",
    "8. TimeZone"
   ]
  },
  {
   "cell_type": "markdown",
   "id": "c659e4bb",
   "metadata": {
    "papermill": {
     "duration": 0.023538,
     "end_time": "2023-01-11T12:38:16.959155",
     "exception": false,
     "start_time": "2023-01-11T12:38:16.935617",
     "status": "completed"
    },
    "tags": []
   },
   "source": [
    "1. City Wise Analysis"
   ]
  },
  {
   "cell_type": "code",
   "execution_count": 16,
   "id": "c57256bc",
   "metadata": {
    "execution": {
     "iopub.execute_input": "2023-01-11T12:38:17.007392Z",
     "iopub.status.busy": "2023-01-11T12:38:17.006547Z",
     "iopub.status.idle": "2023-01-11T12:38:17.254294Z",
     "shell.execute_reply": "2023-01-11T12:38:17.253478Z"
    },
    "papermill": {
     "duration": 0.274245,
     "end_time": "2023-01-11T12:38:17.256412",
     "exception": false,
     "start_time": "2023-01-11T12:38:16.982167",
     "status": "completed"
    },
    "tags": []
   },
   "outputs": [
    {
     "data": {
      "text/plain": [
       "11682"
      ]
     },
     "execution_count": 16,
     "metadata": {},
     "output_type": "execute_result"
    }
   ],
   "source": [
    "cities = df.City.unique()\n",
    "len(cities)"
   ]
  },
  {
   "cell_type": "code",
   "execution_count": 17,
   "id": "c488ac6c",
   "metadata": {
    "execution": {
     "iopub.execute_input": "2023-01-11T12:38:17.304335Z",
     "iopub.status.busy": "2023-01-11T12:38:17.303896Z",
     "iopub.status.idle": "2023-01-11T12:38:17.311748Z",
     "shell.execute_reply": "2023-01-11T12:38:17.310675Z"
    },
    "papermill": {
     "duration": 0.034711,
     "end_time": "2023-01-11T12:38:17.314186",
     "exception": false,
     "start_time": "2023-01-11T12:38:17.279475",
     "status": "completed"
    },
    "tags": []
   },
   "outputs": [
    {
     "data": {
      "text/plain": [
       "array(['Dublin', 'Dayton', 'Cincinnati', 'Akron', 'Williamsburg',\n",
       "       'Cleveland', 'Lima', 'Westerville', 'Jamestown', 'Freeport',\n",
       "       'Columbus', 'Toledo', 'Roanoke', 'Ft Mitchell', 'Edinburgh',\n",
       "       'Fairborn', 'Shelbyville', 'Greensburg', 'Saint Paul',\n",
       "       'Parkersburg', 'Indianapolis', 'Dundee', 'Jeffersonville',\n",
       "       'Pittsburgh', 'Lewis Center', 'Dunkirk', 'Redkey', 'Milton',\n",
       "       'Willshire', 'Straughn', 'Cambridge Springs', 'Fremont',\n",
       "       'Louisville', 'South Charleston', 'Edinboro', 'Buckhannon',\n",
       "       'Lockbourne', 'Painesville', 'Washington', 'Dunbar', 'Angola',\n",
       "       'Edon', 'Medina', 'De Mossville', 'New Albany', 'Charleston',\n",
       "       'Fort Wayne', 'Burnsville', 'Bedford', 'Clarksville', 'Lakewood',\n",
       "       'Richfield', 'Sewickley', 'Independence', 'Westlake', 'Erlanger',\n",
       "       'Grove City', 'Monroe', 'West Middlesex', 'Gaston', 'Economy',\n",
       "       'Fairmount', 'Hagerstown', 'Walton', 'Crittenden', 'Coraopolis',\n",
       "       'Holland', 'Greenfield', 'Anderson', 'Englewood', 'Knightstown',\n",
       "       'Bentleyville', 'Memphis', 'Henryville', 'Kendallville', 'Avilla',\n",
       "       'Ohio City', 'Van Wert', 'Rocky River', 'Sturgis', 'West Chester',\n",
       "       'Orient', 'Madison', 'Deputy', 'Keystone', 'Mercer', 'Bryant',\n",
       "       'Pennville', 'Kimbolton', 'Thornville', 'Wexford', 'Fishers',\n",
       "       'Noblesville', 'Macedonia', 'Youngstown', 'Fairdale', 'Sutton',\n",
       "       'Mount Sterling', 'Northwood', 'Huntington'], dtype=object)"
      ]
     },
     "execution_count": 17,
     "metadata": {},
     "output_type": "execute_result"
    }
   ],
   "source": [
    "cities[:100]   #100 City Names"
   ]
  },
  {
   "cell_type": "markdown",
   "id": "0517e551",
   "metadata": {
    "papermill": {
     "duration": 0.022998,
     "end_time": "2023-01-11T12:38:17.360846",
     "exception": false,
     "start_time": "2023-01-11T12:38:17.337848",
     "status": "completed"
    },
    "tags": []
   },
   "source": [
    "Que. Top 20 Cities with highest accident rate."
   ]
  },
  {
   "cell_type": "code",
   "execution_count": 18,
   "id": "1ce4750a",
   "metadata": {
    "execution": {
     "iopub.execute_input": "2023-01-11T12:38:17.410996Z",
     "iopub.status.busy": "2023-01-11T12:38:17.410613Z",
     "iopub.status.idle": "2023-01-11T12:38:17.695428Z",
     "shell.execute_reply": "2023-01-11T12:38:17.694322Z"
    },
    "papermill": {
     "duration": 0.313549,
     "end_time": "2023-01-11T12:38:17.697758",
     "exception": false,
     "start_time": "2023-01-11T12:38:17.384209",
     "status": "completed"
    },
    "tags": []
   },
   "outputs": [
    {
     "data": {
      "text/plain": [
       "Miami           106966\n",
       "Los Angeles      68956\n",
       "Orlando          54691\n",
       "Dallas           41979\n",
       "Houston          39448\n",
       "Charlotte        33152\n",
       "Sacramento       32559\n",
       "San Diego        26627\n",
       "Raleigh          22840\n",
       "Minneapolis      22768\n",
       "Portland         20944\n",
       "Nashville        20267\n",
       "Austin           18301\n",
       "Baton Rouge      18182\n",
       "Phoenix          17143\n",
       "Saint Paul       16869\n",
       "New Orleans      16251\n",
       "Atlanta          15622\n",
       "Jacksonville     14967\n",
       "Richmond         14349\n",
       "Name: City, dtype: int64"
      ]
     },
     "execution_count": 18,
     "metadata": {},
     "output_type": "execute_result"
    }
   ],
   "source": [
    "cities_by_accidents = df.City.value_counts()\n",
    "cities_by_accidents[:20]"
   ]
  },
  {
   "cell_type": "markdown",
   "id": "83aedb85",
   "metadata": {
    "papermill": {
     "duration": 0.023166,
     "end_time": "2023-01-11T12:38:17.744890",
     "exception": false,
     "start_time": "2023-01-11T12:38:17.721724",
     "status": "completed"
    },
    "tags": []
   },
   "source": [
    "Miami has the maximum count of accidents 106966 "
   ]
  },
  {
   "cell_type": "code",
   "execution_count": 19,
   "id": "7000a845",
   "metadata": {
    "execution": {
     "iopub.execute_input": "2023-01-11T12:38:17.793396Z",
     "iopub.status.busy": "2023-01-11T12:38:17.792962Z",
     "iopub.status.idle": "2023-01-11T12:38:18.204600Z",
     "shell.execute_reply": "2023-01-11T12:38:18.203347Z"
    },
    "papermill": {
     "duration": 0.438967,
     "end_time": "2023-01-11T12:38:18.207039",
     "exception": false,
     "start_time": "2023-01-11T12:38:17.768072",
     "status": "completed"
    },
    "tags": []
   },
   "outputs": [
    {
     "data": {
      "text/plain": [
       "<AxesSubplot:>"
      ]
     },
     "execution_count": 19,
     "metadata": {},
     "output_type": "execute_result"
    },
    {
     "data": {
      "image/png": "[encoded data removed]",
      "text/plain": [
       "<Figure size 432x288 with 1 Axes>"
      ]
     },
     "metadata": {},
     "output_type": "display_data"
    }
   ],
   "source": [
    "cities_by_accidents[:20].plot(kind = 'bar', fontsize = 10, color = 'orange')"
   ]
  },
  {
   "cell_type": "markdown",
   "id": "3c38d0b6",
   "metadata": {
    "papermill": {
     "duration": 0.022951,
     "end_time": "2023-01-11T12:38:18.253420",
     "exception": false,
     "start_time": "2023-01-11T12:38:18.230469",
     "status": "completed"
    },
    "tags": []
   },
   "source": [
    "2. State Wise Analysis"
   ]
  },
  {
   "cell_type": "markdown",
   "id": "d29f803e",
   "metadata": {
    "papermill": {
     "duration": 0.023379,
     "end_time": "2023-01-11T12:38:18.302641",
     "exception": false,
     "start_time": "2023-01-11T12:38:18.279262",
     "status": "completed"
    },
    "tags": []
   },
   "source": [
    "Que. Top 20 States with highest accident rates."
   ]
  },
  {
   "cell_type": "code",
   "execution_count": 20,
   "id": "f6e74173",
   "metadata": {
    "execution": {
     "iopub.execute_input": "2023-01-11T12:38:18.352057Z",
     "iopub.status.busy": "2023-01-11T12:38:18.351661Z",
     "iopub.status.idle": "2023-01-11T12:38:18.529152Z",
     "shell.execute_reply": "2023-01-11T12:38:18.527905Z"
    },
    "papermill": {
     "duration": 0.205936,
     "end_time": "2023-01-11T12:38:18.532157",
     "exception": false,
     "start_time": "2023-01-11T12:38:18.326221",
     "status": "completed"
    },
    "tags": []
   },
   "outputs": [
    {
     "data": {
      "text/plain": [
       "CA    795868\n",
       "FL    401388\n",
       "TX    149037\n",
       "OR    126341\n",
       "VA    113535\n",
       "NY    108049\n",
       "PA     99975\n",
       "MN     97185\n",
       "NC     91362\n",
       "SC     89216\n",
       "MD     65085\n",
       "AZ     56504\n",
       "NJ     52902\n",
       "TN     52613\n",
       "UT     49193\n",
       "LA     47232\n",
       "IL     47105\n",
       "MI     43843\n",
       "GA     40086\n",
       "WA     32554\n",
       "Name: State, dtype: int64"
      ]
     },
     "execution_count": 20,
     "metadata": {},
     "output_type": "execute_result"
    }
   ],
   "source": [
    "states_by_accidents = df.State.value_counts()\n",
    "states_by_accidents[:20]"
   ]
  },
  {
   "cell_type": "markdown",
   "id": "4ba1ec2b",
   "metadata": {
    "papermill": {
     "duration": 0.023261,
     "end_time": "2023-01-11T12:38:18.579843",
     "exception": false,
     "start_time": "2023-01-11T12:38:18.556582",
     "status": "completed"
    },
    "tags": []
   },
   "source": [
    "California State has the maximum number of accident counts of 795868"
   ]
  },
  {
   "cell_type": "code",
   "execution_count": 21,
   "id": "b5ff6283",
   "metadata": {
    "execution": {
     "iopub.execute_input": "2023-01-11T12:38:18.630866Z",
     "iopub.status.busy": "2023-01-11T12:38:18.630432Z",
     "iopub.status.idle": "2023-01-11T12:38:19.016659Z",
     "shell.execute_reply": "2023-01-11T12:38:19.015798Z"
    },
    "papermill": {
     "duration": 0.415432,
     "end_time": "2023-01-11T12:38:19.018980",
     "exception": false,
     "start_time": "2023-01-11T12:38:18.603548",
     "status": "completed"
    },
    "tags": []
   },
   "outputs": [
    {
     "data": {
      "text/plain": [
       "<AxesSubplot:>"
      ]
     },
     "execution_count": 21,
     "metadata": {},
     "output_type": "execute_result"
    },
    {
     "data": {
      "image/png": "[encoded data removed]",
      "text/plain": [
       "<Figure size 432x288 with 1 Axes>"
      ]
     },
     "metadata": {},
     "output_type": "display_data"
    }
   ],
   "source": [
    "states_by_accidents[:20].plot(kind = 'bar', color = 'red')"
   ]
  },
  {
   "cell_type": "code",
   "execution_count": 22,
   "id": "2fb8e322",
   "metadata": {
    "execution": {
     "iopub.execute_input": "2023-01-11T12:38:19.072336Z",
     "iopub.status.busy": "2023-01-11T12:38:19.071336Z",
     "iopub.status.idle": "2023-01-11T12:38:20.291955Z",
     "shell.execute_reply": "2023-01-11T12:38:20.290676Z"
    },
    "papermill": {
     "duration": 1.24923,
     "end_time": "2023-01-11T12:38:20.294590",
     "exception": false,
     "start_time": "2023-01-11T12:38:19.045360",
     "status": "completed"
    },
    "tags": []
   },
   "outputs": [
    {
     "data": {
      "text/plain": [
       "<AxesSubplot:xlabel='City', ylabel='Count'>"
      ]
     },
     "execution_count": 22,
     "metadata": {},
     "output_type": "execute_result"
    },
    {
     "data": {
      "image/png": "[encoded data removed]",
      "text/plain": [
       "<Figure size 432x288 with 1 Axes>"
      ]
     },
     "metadata": {},
     "output_type": "display_data"
    }
   ],
   "source": [
    "sns.histplot(cities_by_accidents, log_scale = True)"
   ]
  },
  {
   "cell_type": "markdown",
   "id": "6df52640",
   "metadata": {
    "papermill": {
     "duration": 0.024954,
     "end_time": "2023-01-11T12:38:20.344958",
     "exception": false,
     "start_time": "2023-01-11T12:38:20.320004",
     "status": "completed"
    },
    "tags": []
   },
   "source": [
    "The above visual represents that there are maximum cities with only one accident."
   ]
  },
  {
   "cell_type": "code",
   "execution_count": 23,
   "id": "0d0fce11",
   "metadata": {
    "execution": {
     "iopub.execute_input": "2023-01-11T12:38:20.397304Z",
     "iopub.status.busy": "2023-01-11T12:38:20.396899Z",
     "iopub.status.idle": "2023-01-11T12:38:20.405252Z",
     "shell.execute_reply": "2023-01-11T12:38:20.404522Z"
    },
    "papermill": {
     "duration": 0.036933,
     "end_time": "2023-01-11T12:38:20.407326",
     "exception": false,
     "start_time": "2023-01-11T12:38:20.370393",
     "status": "completed"
    },
    "tags": []
   },
   "outputs": [
    {
     "data": {
      "text/plain": [
       "Carney                          1\n",
       "Waverly Hall                    1\n",
       "Center Sandwich                 1\n",
       "Glen Flora                      1\n",
       "Sulphur Springs                 1\n",
       "                               ..\n",
       "Ridgedale                       1\n",
       "Sekiu                           1\n",
       "Wooldridge                      1\n",
       "Bullock                         1\n",
       "American Fork-Pleasant Grove    1\n",
       "Name: City, Length: 1110, dtype: int64"
      ]
     },
     "execution_count": 23,
     "metadata": {},
     "output_type": "execute_result"
    }
   ],
   "source": [
    "cities_by_accidents[cities_by_accidents == 1]  "
   ]
  },
  {
   "cell_type": "markdown",
   "id": "3bdfa1ea",
   "metadata": {
    "papermill": {
     "duration": 0.025067,
     "end_time": "2023-01-11T12:38:20.457746",
     "exception": false,
     "start_time": "2023-01-11T12:38:20.432679",
     "status": "completed"
    },
    "tags": []
   },
   "source": [
    "Over 1100 Cities have reported only 1 accident (This needs some investigation to verify consistency of data)"
   ]
  },
  {
   "cell_type": "code",
   "execution_count": 24,
   "id": "4e5f2934",
   "metadata": {
    "execution": {
     "iopub.execute_input": "2023-01-11T12:38:20.509556Z",
     "iopub.status.busy": "2023-01-11T12:38:20.508831Z",
     "iopub.status.idle": "2023-01-11T12:38:20.514545Z",
     "shell.execute_reply": "2023-01-11T12:38:20.513680Z"
    },
    "papermill": {
     "duration": 0.033888,
     "end_time": "2023-01-11T12:38:20.516757",
     "exception": false,
     "start_time": "2023-01-11T12:38:20.482869",
     "status": "completed"
    },
    "tags": []
   },
   "outputs": [],
   "source": [
    "high_accidents_cities = cities_by_accidents[cities_by_accidents >= 1000]\n",
    "low_accidents_cities = cities_by_accidents[cities_by_accidents < 1000]"
   ]
  },
  {
   "cell_type": "markdown",
   "id": "4e669ae7",
   "metadata": {
    "papermill": {
     "duration": 0.024645,
     "end_time": "2023-01-11T12:38:20.566699",
     "exception": false,
     "start_time": "2023-01-11T12:38:20.542054",
     "status": "completed"
    },
    "tags": []
   },
   "source": [
    "* DistPlot of Cities with Low accident rate"
   ]
  },
  {
   "cell_type": "code",
   "execution_count": 25,
   "id": "cf16cd1d",
   "metadata": {
    "execution": {
     "iopub.execute_input": "2023-01-11T12:38:20.617687Z",
     "iopub.status.busy": "2023-01-11T12:38:20.617250Z",
     "iopub.status.idle": "2023-01-11T12:38:20.623582Z",
     "shell.execute_reply": "2023-01-11T12:38:20.622788Z"
    },
    "papermill": {
     "duration": 0.034356,
     "end_time": "2023-01-11T12:38:20.625559",
     "exception": false,
     "start_time": "2023-01-11T12:38:20.591203",
     "status": "completed"
    },
    "tags": []
   },
   "outputs": [
    {
     "data": {
      "text/plain": [
       "95.74559150830338"
      ]
     },
     "execution_count": 25,
     "metadata": {},
     "output_type": "execute_result"
    }
   ],
   "source": [
    "len(low_accidents_cities)/ len (cities) *100"
   ]
  },
  {
   "cell_type": "code",
   "execution_count": 26,
   "id": "5ade1f9b",
   "metadata": {
    "execution": {
     "iopub.execute_input": "2023-01-11T12:38:20.677207Z",
     "iopub.status.busy": "2023-01-11T12:38:20.676762Z",
     "iopub.status.idle": "2023-01-11T12:38:21.152363Z",
     "shell.execute_reply": "2023-01-11T12:38:21.151182Z"
    },
    "papermill": {
     "duration": 0.50438,
     "end_time": "2023-01-11T12:38:21.154948",
     "exception": false,
     "start_time": "2023-01-11T12:38:20.650568",
     "status": "completed"
    },
    "tags": []
   },
   "outputs": [
    {
     "name": "stderr",
     "output_type": "stream",
     "text": [
      "/opt/conda/lib/python3.7/site-packages/seaborn/distributions.py:2619: FutureWarning: `distplot` is a deprecated function and will be removed in a future version. Please adapt your code to use either `displot` (a figure-level function with similar flexibility) or `histplot` (an axes-level function for histograms).\n",
      "  warnings.warn(msg, FutureWarning)\n"
     ]
    },
    {
     "data": {
      "text/plain": [
       "<AxesSubplot:xlabel='City', ylabel='Density'>"
      ]
     },
     "execution_count": 26,
     "metadata": {},
     "output_type": "execute_result"
    },
    {
     "data": {
      "image/png": "[encoded data removed]",
      "text/plain": [
       "<Figure size 432x288 with 1 Axes>"
      ]
     },
     "metadata": {},
     "output_type": "display_data"
    }
   ],
   "source": [
    "sns.distplot(low_accidents_cities)"
   ]
  },
  {
   "cell_type": "markdown",
   "id": "15053446",
   "metadata": {
    "papermill": {
     "duration": 0.025579,
     "end_time": "2023-01-11T12:38:21.206251",
     "exception": false,
     "start_time": "2023-01-11T12:38:21.180672",
     "status": "completed"
    },
    "tags": []
   },
   "source": [
    "* DistPlot of Cities with High accident rate"
   ]
  },
  {
   "cell_type": "code",
   "execution_count": 27,
   "id": "afd6dbdb",
   "metadata": {
    "execution": {
     "iopub.execute_input": "2023-01-11T12:38:21.260044Z",
     "iopub.status.busy": "2023-01-11T12:38:21.259618Z",
     "iopub.status.idle": "2023-01-11T12:38:21.266709Z",
     "shell.execute_reply": "2023-01-11T12:38:21.265557Z"
    },
    "papermill": {
     "duration": 0.03679,
     "end_time": "2023-01-11T12:38:21.268922",
     "exception": false,
     "start_time": "2023-01-11T12:38:21.232132",
     "status": "completed"
    },
    "tags": []
   },
   "outputs": [
    {
     "data": {
      "text/plain": [
       "4.245848313644924"
      ]
     },
     "execution_count": 27,
     "metadata": {},
     "output_type": "execute_result"
    }
   ],
   "source": [
    "len(high_accidents_cities)/ len (cities) *100"
   ]
  },
  {
   "cell_type": "code",
   "execution_count": 28,
   "id": "7f73af84",
   "metadata": {
    "execution": {
     "iopub.execute_input": "2023-01-11T12:38:21.322308Z",
     "iopub.status.busy": "2023-01-11T12:38:21.321605Z",
     "iopub.status.idle": "2023-01-11T12:38:21.662679Z",
     "shell.execute_reply": "2023-01-11T12:38:21.661488Z"
    },
    "papermill": {
     "duration": 0.370507,
     "end_time": "2023-01-11T12:38:21.665122",
     "exception": false,
     "start_time": "2023-01-11T12:38:21.294615",
     "status": "completed"
    },
    "tags": []
   },
   "outputs": [
    {
     "name": "stderr",
     "output_type": "stream",
     "text": [
      "/opt/conda/lib/python3.7/site-packages/seaborn/distributions.py:2619: FutureWarning: `distplot` is a deprecated function and will be removed in a future version. Please adapt your code to use either `displot` (a figure-level function with similar flexibility) or `histplot` (an axes-level function for histograms).\n",
      "  warnings.warn(msg, FutureWarning)\n"
     ]
    },
    {
     "data": {
      "text/plain": [
       "<AxesSubplot:xlabel='City', ylabel='Density'>"
      ]
     },
     "execution_count": 28,
     "metadata": {},
     "output_type": "execute_result"
    },
    {
     "data": {
      "image/png": "[encoded data removed]",
      "text/plain": [
       "<Figure size 432x288 with 1 Axes>"
      ]
     },
     "metadata": {},
     "output_type": "display_data"
    }
   ],
   "source": [
    "sns.distplot(high_accidents_cities)"
   ]
  },
  {
   "cell_type": "markdown",
   "id": "74225047",
   "metadata": {
    "papermill": {
     "duration": 0.026996,
     "end_time": "2023-01-11T12:38:21.718904",
     "exception": false,
     "start_time": "2023-01-11T12:38:21.691908",
     "status": "completed"
    },
    "tags": []
   },
   "source": [
    "95.74% of Cities have low accident rate while 4.24% of Cities have higher accident rate. So, Most of the Cities has less number of Accidents."
   ]
  },
  {
   "cell_type": "markdown",
   "id": "ad080519",
   "metadata": {
    "papermill": {
     "duration": 0.026061,
     "end_time": "2023-01-11T12:38:21.772537",
     "exception": false,
     "start_time": "2023-01-11T12:38:21.746476",
     "status": "completed"
    },
    "tags": []
   },
   "source": [
    "3. Based On Start Time"
   ]
  },
  {
   "cell_type": "code",
   "execution_count": 29,
   "id": "1aa3c24f",
   "metadata": {
    "execution": {
     "iopub.execute_input": "2023-01-11T12:38:21.827397Z",
     "iopub.status.busy": "2023-01-11T12:38:21.826533Z",
     "iopub.status.idle": "2023-01-11T12:38:23.209445Z",
     "shell.execute_reply": "2023-01-11T12:38:23.208488Z"
    },
    "papermill": {
     "duration": 1.413033,
     "end_time": "2023-01-11T12:38:23.212156",
     "exception": false,
     "start_time": "2023-01-11T12:38:21.799123",
     "status": "completed"
    },
    "tags": []
   },
   "outputs": [],
   "source": [
    "df.Start_Time = pd.to_datetime(df.Start_Time)"
   ]
  },
  {
   "cell_type": "code",
   "execution_count": 30,
   "id": "ec3f68a1",
   "metadata": {
    "execution": {
     "iopub.execute_input": "2023-01-11T12:38:23.267370Z",
     "iopub.status.busy": "2023-01-11T12:38:23.266870Z",
     "iopub.status.idle": "2023-01-11T12:38:23.273696Z",
     "shell.execute_reply": "2023-01-11T12:38:23.272888Z"
    },
    "papermill": {
     "duration": 0.037158,
     "end_time": "2023-01-11T12:38:23.275800",
     "exception": false,
     "start_time": "2023-01-11T12:38:23.238642",
     "status": "completed"
    },
    "tags": []
   },
   "outputs": [
    {
     "data": {
      "text/plain": [
       "Timestamp('2016-02-08 00:37:08')"
      ]
     },
     "execution_count": 30,
     "metadata": {},
     "output_type": "execute_result"
    }
   ],
   "source": [
    "df.Start_Time[0]"
   ]
  },
  {
   "cell_type": "markdown",
   "id": "12553dd9",
   "metadata": {
    "papermill": {
     "duration": 0.025764,
     "end_time": "2023-01-11T12:38:23.327842",
     "exception": false,
     "start_time": "2023-01-11T12:38:23.302078",
     "status": "completed"
    },
    "tags": []
   },
   "source": [
    "a. Daily Basis Analysis"
   ]
  },
  {
   "cell_type": "markdown",
   "id": "da0abaf6",
   "metadata": {
    "papermill": {
     "duration": 0.026115,
     "end_time": "2023-01-11T12:38:23.380106",
     "exception": false,
     "start_time": "2023-01-11T12:38:23.353991",
     "status": "completed"
    },
    "tags": []
   },
   "source": [
    "Que. What time of the day are accidents most frequent in?"
   ]
  },
  {
   "cell_type": "code",
   "execution_count": 31,
   "id": "89810800",
   "metadata": {
    "execution": {
     "iopub.execute_input": "2023-01-11T12:38:23.434700Z",
     "iopub.status.busy": "2023-01-11T12:38:23.433974Z",
     "iopub.status.idle": "2023-01-11T12:38:24.115802Z",
     "shell.execute_reply": "2023-01-11T12:38:24.114627Z"
    },
    "papermill": {
     "duration": 0.712132,
     "end_time": "2023-01-11T12:38:24.118372",
     "exception": false,
     "start_time": "2023-01-11T12:38:23.406240",
     "status": "completed"
    },
    "tags": []
   },
   "outputs": [
    {
     "name": "stderr",
     "output_type": "stream",
     "text": [
      "/opt/conda/lib/python3.7/site-packages/seaborn/distributions.py:2619: FutureWarning: `distplot` is a deprecated function and will be removed in a future version. Please adapt your code to use either `displot` (a figure-level function with similar flexibility) or `histplot` (an axes-level function for histograms).\n",
      "  warnings.warn(msg, FutureWarning)\n"
     ]
    },
    {
     "data": {
      "text/plain": [
       "<AxesSubplot:xlabel='Start_Time'>"
      ]
     },
     "execution_count": 31,
     "metadata": {},
     "output_type": "execute_result"
    },
    {
     "data": {
      "image/png": "[encoded data removed]",
      "text/plain": [
       "<Figure size 432x288 with 1 Axes>"
      ]
     },
     "metadata": {},
     "output_type": "display_data"
    }
   ],
   "source": [
    "sns.distplot(df.Start_Time.dt.hour, bins = 24, kde = False, norm_hist= True)"
   ]
  },
  {
   "cell_type": "markdown",
   "id": "a96b8239",
   "metadata": {
    "papermill": {
     "duration": 0.026137,
     "end_time": "2023-01-11T12:38:24.171013",
     "exception": false,
     "start_time": "2023-01-11T12:38:24.144876",
     "status": "completed"
    },
    "tags": []
   },
   "source": [
    "Maximum road accidents took place between 3 PM and 6 PM:\n",
    "The main reason for most accidents taking place between 3 PM and 6 PM could be probably because of the people driving their vehicles carelessly and recklessly due to thin vehicular traffic during these hours.\n",
    "\n",
    "5 PM is the most deadliest hour for accidents"
   ]
  },
  {
   "cell_type": "markdown",
   "id": "fe17737a",
   "metadata": {
    "papermill": {
     "duration": 0.026465,
     "end_time": "2023-01-11T12:38:24.224239",
     "exception": false,
     "start_time": "2023-01-11T12:38:24.197774",
     "status": "completed"
    },
    "tags": []
   },
   "source": [
    "b. Weekly Basis Analysis frequent for accidents"
   ]
  },
  {
   "cell_type": "markdown",
   "id": "e8224d05",
   "metadata": {
    "papermill": {
     "duration": 0.026619,
     "end_time": "2023-01-11T12:38:24.278427",
     "exception": false,
     "start_time": "2023-01-11T12:38:24.251808",
     "status": "completed"
    },
    "tags": []
   },
   "source": [
    "Que. What is the frequency of accidents in a week?"
   ]
  },
  {
   "cell_type": "code",
   "execution_count": 32,
   "id": "05f9bcbc",
   "metadata": {
    "execution": {
     "iopub.execute_input": "2023-01-11T12:38:24.334408Z",
     "iopub.status.busy": "2023-01-11T12:38:24.333381Z",
     "iopub.status.idle": "2023-01-11T12:38:25.023811Z",
     "shell.execute_reply": "2023-01-11T12:38:25.022950Z"
    },
    "papermill": {
     "duration": 0.721162,
     "end_time": "2023-01-11T12:38:25.026326",
     "exception": false,
     "start_time": "2023-01-11T12:38:24.305164",
     "status": "completed"
    },
    "tags": []
   },
   "outputs": [
    {
     "data": {
      "text/plain": [
       "<AxesSubplot:xlabel='Start_Time'>"
      ]
     },
     "execution_count": 32,
     "metadata": {},
     "output_type": "execute_result"
    },
    {
     "data": {
      "image/png": "[encoded data removed]",
      "text/plain": [
       "<Figure size 432x288 with 1 Axes>"
      ]
     },
     "metadata": {},
     "output_type": "display_data"
    }
   ],
   "source": [
    "sns.distplot(df.Start_Time.dt.dayofweek, bins = 7, kde = False, norm_hist= True)"
   ]
  },
  {
   "cell_type": "markdown",
   "id": "787a4b6e",
   "metadata": {
    "papermill": {
     "duration": 0.026379,
     "end_time": "2023-01-11T12:38:25.080897",
     "exception": false,
     "start_time": "2023-01-11T12:38:25.054518",
     "status": "completed"
    },
    "tags": []
   },
   "source": [
    "Probability of Accident rate is lower on weekends and more on weekdays\n",
    "\n",
    "Friday has the most accident cases among all weekdays"
   ]
  },
  {
   "cell_type": "markdown",
   "id": "672eaf15",
   "metadata": {
    "papermill": {
     "duration": 0.026233,
     "end_time": "2023-01-11T12:38:25.133706",
     "exception": false,
     "start_time": "2023-01-11T12:38:25.107473",
     "status": "completed"
    },
    "tags": []
   },
   "source": [
    "Que. Is the Distribution of accidents by hour the same on weekends as on weekdays."
   ]
  },
  {
   "cell_type": "code",
   "execution_count": 33,
   "id": "5d221b4e",
   "metadata": {
    "execution": {
     "iopub.execute_input": "2023-01-11T12:38:25.190435Z",
     "iopub.status.busy": "2023-01-11T12:38:25.189954Z",
     "iopub.status.idle": "2023-01-11T12:38:25.997949Z",
     "shell.execute_reply": "2023-01-11T12:38:25.996898Z"
    },
    "papermill": {
     "duration": 0.840373,
     "end_time": "2023-01-11T12:38:26.001043",
     "exception": false,
     "start_time": "2023-01-11T12:38:25.160670",
     "status": "completed"
    },
    "tags": []
   },
   "outputs": [
    {
     "data": {
      "text/plain": [
       "<AxesSubplot:xlabel='Start_Time'>"
      ]
     },
     "execution_count": 33,
     "metadata": {},
     "output_type": "execute_result"
    },
    {
     "data": {
      "image/png": "[encoded data removed]",
      "text/plain": [
       "<Figure size 432x288 with 1 Axes>"
      ]
     },
     "metadata": {},
     "output_type": "display_data"
    }
   ],
   "source": [
    "sundays_start_time = df.Start_Time[df.Start_Time.dt.dayofweek == 6]\n",
    "sns.distplot(sundays_start_time.dt.hour, bins = 24, kde = False, norm_hist= True, color = 'g')"
   ]
  },
  {
   "cell_type": "code",
   "execution_count": 34,
   "id": "18c2cda3",
   "metadata": {
    "execution": {
     "iopub.execute_input": "2023-01-11T12:38:26.056565Z",
     "iopub.status.busy": "2023-01-11T12:38:26.055848Z",
     "iopub.status.idle": "2023-01-11T12:38:26.750182Z",
     "shell.execute_reply": "2023-01-11T12:38:26.748981Z"
    },
    "papermill": {
     "duration": 0.724966,
     "end_time": "2023-01-11T12:38:26.752600",
     "exception": false,
     "start_time": "2023-01-11T12:38:26.027634",
     "status": "completed"
    },
    "tags": []
   },
   "outputs": [
    {
     "data": {
      "text/plain": [
       "<AxesSubplot:xlabel='Start_Time'>"
      ]
     },
     "execution_count": 34,
     "metadata": {},
     "output_type": "execute_result"
    },
    {
     "data": {
      "image/png": "[encoded data removed]",
      "text/plain": [
       "<Figure size 432x288 with 1 Axes>"
      ]
     },
     "metadata": {},
     "output_type": "display_data"
    }
   ],
   "source": [
    "monday_start_time = df.Start_Time[df.Start_Time.dt.dayofweek == 0]\n",
    "sns.distplot(monday_start_time.dt.hour, bins = 24, kde = False, norm_hist= True, color = 'g')"
   ]
  },
  {
   "cell_type": "code",
   "execution_count": 35,
   "id": "d90326e7",
   "metadata": {
    "execution": {
     "iopub.execute_input": "2023-01-11T12:38:26.810223Z",
     "iopub.status.busy": "2023-01-11T12:38:26.809810Z",
     "iopub.status.idle": "2023-01-11T12:38:27.503566Z",
     "shell.execute_reply": "2023-01-11T12:38:27.502135Z"
    },
    "papermill": {
     "duration": 0.725459,
     "end_time": "2023-01-11T12:38:27.506167",
     "exception": false,
     "start_time": "2023-01-11T12:38:26.780708",
     "status": "completed"
    },
    "tags": []
   },
   "outputs": [
    {
     "data": {
      "text/plain": [
       "<AxesSubplot:xlabel='Start_Time'>"
      ]
     },
     "execution_count": 35,
     "metadata": {},
     "output_type": "execute_result"
    },
    {
     "data": {
      "image/png": "[encoded data removed]",
      "text/plain": [
       "<Figure size 432x288 with 1 Axes>"
      ]
     },
     "metadata": {},
     "output_type": "display_data"
    }
   ],
   "source": [
    "friday_start_time = df.Start_Time[df.Start_Time.dt.dayofweek == 4]\n",
    "sns.distplot(friday_start_time.dt.hour, bins = 24, kde = False, norm_hist= True, color = 'g')"
   ]
  },
  {
   "cell_type": "markdown",
   "id": "9c7136cd",
   "metadata": {
    "papermill": {
     "duration": 0.027607,
     "end_time": "2023-01-11T12:38:27.562777",
     "exception": false,
     "start_time": "2023-01-11T12:38:27.535170",
     "status": "completed"
    },
    "tags": []
   },
   "source": [
    "Comparing the graphs of Weekend (Sunday) and Weekdays (Monday & Friday), we can conclude that probability of accident rate is similar - high during 2 PM to 5 PM.\n"
   ]
  },
  {
   "cell_type": "markdown",
   "id": "7e560b0b",
   "metadata": {
    "papermill": {
     "duration": 0.027717,
     "end_time": "2023-01-11T12:38:27.618566",
     "exception": false,
     "start_time": "2023-01-11T12:38:27.590849",
     "status": "completed"
    },
    "tags": []
   },
   "source": [
    "c. Monthly Basis Analysis frequent for accidents"
   ]
  },
  {
   "cell_type": "markdown",
   "id": "aabd5944",
   "metadata": {
    "papermill": {
     "duration": 0.027683,
     "end_time": "2023-01-11T12:38:27.675353",
     "exception": false,
     "start_time": "2023-01-11T12:38:27.647670",
     "status": "completed"
    },
    "tags": []
   },
   "source": [
    "Que. Which months have the most accidents?"
   ]
  },
  {
   "cell_type": "code",
   "execution_count": 36,
   "id": "e95e629e",
   "metadata": {
    "execution": {
     "iopub.execute_input": "2023-01-11T12:38:27.734162Z",
     "iopub.status.busy": "2023-01-11T12:38:27.733681Z",
     "iopub.status.idle": "2023-01-11T12:38:28.401059Z",
     "shell.execute_reply": "2023-01-11T12:38:28.400262Z"
    },
    "papermill": {
     "duration": 0.698935,
     "end_time": "2023-01-11T12:38:28.403139",
     "exception": false,
     "start_time": "2023-01-11T12:38:27.704204",
     "status": "completed"
    },
    "tags": []
   },
   "outputs": [
    {
     "data": {
      "text/plain": [
       "<AxesSubplot:xlabel='Start_Time'>"
      ]
     },
     "execution_count": 36,
     "metadata": {},
     "output_type": "execute_result"
    },
    {
     "data": {
      "image/png": "[encoded data removed]",
      "text/plain": [
       "<Figure size 432x288 with 1 Axes>"
      ]
     },
     "metadata": {},
     "output_type": "display_data"
    }
   ],
   "source": [
    "sns.distplot(df.Start_Time.dt.month, bins = 12, kde = False, norm_hist= True, color = 'r')"
   ]
  },
  {
   "cell_type": "markdown",
   "id": "80dc5faa",
   "metadata": {
    "papermill": {
     "duration": 0.027219,
     "end_time": "2023-01-11T12:38:28.458722",
     "exception": false,
     "start_time": "2023-01-11T12:38:28.431503",
     "status": "completed"
    },
    "tags": []
   },
   "source": [
    "The Month of December has highest accident rate among all.\n",
    "This higher volume of car accidents in November and December can be attributed to several reasons: Day Light Savings Time Some studies have shown that time changes that happen with Day Light Saving Time increase the risk of accidentsas people adjust to new sleep cycles."
   ]
  },
  {
   "cell_type": "markdown",
   "id": "1af76fa4",
   "metadata": {
    "papermill": {
     "duration": 0.027259,
     "end_time": "2023-01-11T12:38:28.513679",
     "exception": false,
     "start_time": "2023-01-11T12:38:28.486420",
     "status": "completed"
    },
    "tags": []
   },
   "source": [
    "Que. Explain month-wise trend of accidents for all the years from 2016 to 2020"
   ]
  },
  {
   "cell_type": "code",
   "execution_count": 37,
   "id": "2c9833a6",
   "metadata": {
    "execution": {
     "iopub.execute_input": "2023-01-11T12:38:28.571588Z",
     "iopub.status.busy": "2023-01-11T12:38:28.571153Z",
     "iopub.status.idle": "2023-01-11T12:38:29.223511Z",
     "shell.execute_reply": "2023-01-11T12:38:29.222277Z"
    },
    "papermill": {
     "duration": 0.684381,
     "end_time": "2023-01-11T12:38:29.226246",
     "exception": false,
     "start_time": "2023-01-11T12:38:28.541865",
     "status": "completed"
    },
    "tags": []
   },
   "outputs": [
    {
     "data": {
      "text/plain": [
       "<AxesSubplot:xlabel='Start_Time'>"
      ]
     },
     "execution_count": 37,
     "metadata": {},
     "output_type": "execute_result"
    },
    {
     "data": {
      "image/png": "[encoded data removed]",
      "text/plain": [
       "<Figure size 432x288 with 1 Axes>"
      ]
     },
     "metadata": {},
     "output_type": "display_data"
    }
   ],
   "source": [
    "#for year 2016: \n",
    "df_2016 = df[df.Start_Time.dt.year == 2016]\n",
    "sns.distplot(df_2016.Start_Time.dt.month, bins = 12, kde = False, norm_hist= True, color = 'purple')"
   ]
  },
  {
   "cell_type": "code",
   "execution_count": 38,
   "id": "b567f453",
   "metadata": {
    "execution": {
     "iopub.execute_input": "2023-01-11T12:38:29.284909Z",
     "iopub.status.busy": "2023-01-11T12:38:29.284531Z",
     "iopub.status.idle": "2023-01-11T12:38:29.865056Z",
     "shell.execute_reply": "2023-01-11T12:38:29.864244Z"
    },
    "papermill": {
     "duration": 0.612797,
     "end_time": "2023-01-11T12:38:29.867407",
     "exception": false,
     "start_time": "2023-01-11T12:38:29.254610",
     "status": "completed"
    },
    "tags": []
   },
   "outputs": [
    {
     "data": {
      "text/plain": [
       "<AxesSubplot:xlabel='Start_Time'>"
      ]
     },
     "execution_count": 38,
     "metadata": {},
     "output_type": "execute_result"
    },
    {
     "data": {
      "image/png": "[encoded data removed]",
      "text/plain": [
       "<Figure size 432x288 with 1 Axes>"
      ]
     },
     "metadata": {},
     "output_type": "display_data"
    }
   ],
   "source": [
    "#for year 2017: \n",
    "df_2017 = df[df.Start_Time.dt.year == 2017]\n",
    "sns.distplot(df_2017.Start_Time.dt.month, bins = 12, kde = False, norm_hist= True, color = 'purple')"
   ]
  },
  {
   "cell_type": "code",
   "execution_count": 39,
   "id": "ba2287ed",
   "metadata": {
    "execution": {
     "iopub.execute_input": "2023-01-11T12:38:29.927252Z",
     "iopub.status.busy": "2023-01-11T12:38:29.926117Z",
     "iopub.status.idle": "2023-01-11T12:38:30.519376Z",
     "shell.execute_reply": "2023-01-11T12:38:30.518260Z"
    },
    "papermill": {
     "duration": 0.625521,
     "end_time": "2023-01-11T12:38:30.521840",
     "exception": false,
     "start_time": "2023-01-11T12:38:29.896319",
     "status": "completed"
    },
    "tags": []
   },
   "outputs": [
    {
     "data": {
      "text/plain": [
       "<AxesSubplot:xlabel='Start_Time'>"
      ]
     },
     "execution_count": 39,
     "metadata": {},
     "output_type": "execute_result"
    },
    {
     "data": {
      "image/png": "[encoded data removed]",
      "text/plain": [
       "<Figure size 432x288 with 1 Axes>"
      ]
     },
     "metadata": {},
     "output_type": "display_data"
    }
   ],
   "source": [
    "#for year 2018: \n",
    "df_2018 = df[df.Start_Time.dt.year == 2018]\n",
    "sns.distplot(df_2018.Start_Time.dt.month, bins = 12, kde = False, norm_hist= True, color = 'purple')"
   ]
  },
  {
   "cell_type": "code",
   "execution_count": 40,
   "id": "0ef4853b",
   "metadata": {
    "execution": {
     "iopub.execute_input": "2023-01-11T12:38:30.581338Z",
     "iopub.status.busy": "2023-01-11T12:38:30.580236Z",
     "iopub.status.idle": "2023-01-11T12:38:31.217737Z",
     "shell.execute_reply": "2023-01-11T12:38:31.216582Z"
    },
    "papermill": {
     "duration": 0.669878,
     "end_time": "2023-01-11T12:38:31.220416",
     "exception": false,
     "start_time": "2023-01-11T12:38:30.550538",
     "status": "completed"
    },
    "tags": []
   },
   "outputs": [
    {
     "data": {
      "text/plain": [
       "<AxesSubplot:xlabel='Start_Time'>"
      ]
     },
     "execution_count": 40,
     "metadata": {},
     "output_type": "execute_result"
    },
    {
     "data": {
      "image/png": "[encoded data removed]",
      "text/plain": [
       "<Figure size 432x288 with 1 Axes>"
      ]
     },
     "metadata": {},
     "output_type": "display_data"
    }
   ],
   "source": [
    "#for year 2019: \n",
    "df_2019 = df[df.Start_Time.dt.year == 2019]\n",
    "sns.distplot(df_2019.Start_Time.dt.month, bins = 12, kde = False, norm_hist= True, color = 'purple')"
   ]
  },
  {
   "cell_type": "code",
   "execution_count": 41,
   "id": "7022a19c",
   "metadata": {
    "execution": {
     "iopub.execute_input": "2023-01-11T12:38:31.281504Z",
     "iopub.status.busy": "2023-01-11T12:38:31.281090Z",
     "iopub.status.idle": "2023-01-11T12:38:32.214798Z",
     "shell.execute_reply": "2023-01-11T12:38:32.213442Z"
    },
    "papermill": {
     "duration": 0.967434,
     "end_time": "2023-01-11T12:38:32.217548",
     "exception": false,
     "start_time": "2023-01-11T12:38:31.250114",
     "status": "completed"
    },
    "tags": []
   },
   "outputs": [
    {
     "data": {
      "text/plain": [
       "<AxesSubplot:xlabel='Start_Time'>"
      ]
     },
     "execution_count": 41,
     "metadata": {},
     "output_type": "execute_result"
    },
    {
     "data": {
      "image/png": "[encoded data removed]",
      "text/plain": [
       "<Figure size 432x288 with 1 Axes>"
      ]
     },
     "metadata": {},
     "output_type": "display_data"
    }
   ],
   "source": [
    "#for year 2020: \n",
    "df_2020 = df[df.Start_Time.dt.year == 2020]\n",
    "sns.distplot(df_2020.Start_Time.dt.month, bins = 12, kde = False, norm_hist= True, color = 'purple')"
   ]
  },
  {
   "cell_type": "markdown",
   "id": "80e6b667",
   "metadata": {
    "papermill": {
     "duration": 0.03019,
     "end_time": "2023-01-11T12:38:32.280827",
     "exception": false,
     "start_time": "2023-01-11T12:38:32.250637",
     "status": "completed"
    },
    "tags": []
   },
   "source": [
    "It seems that much data for year 2020 is missing as it could be inconsistent"
   ]
  },
  {
   "cell_type": "markdown",
   "id": "da3a902f",
   "metadata": {
    "papermill": {
     "duration": 0.033615,
     "end_time": "2023-01-11T12:38:32.345189",
     "exception": false,
     "start_time": "2023-01-11T12:38:32.311574",
     "status": "completed"
    },
    "tags": []
   },
   "source": [
    "d. Yearly Basis Analysis frequent for accidents"
   ]
  },
  {
   "cell_type": "markdown",
   "id": "7f08653b",
   "metadata": {
    "papermill": {
     "duration": 0.03644,
     "end_time": "2023-01-11T12:38:32.419419",
     "exception": false,
     "start_time": "2023-01-11T12:38:32.382979",
     "status": "completed"
    },
    "tags": []
   },
   "source": [
    "Que. Which year had the most number of accident cases?"
   ]
  },
  {
   "cell_type": "code",
   "execution_count": 42,
   "id": "ba6b88ee",
   "metadata": {
    "execution": {
     "iopub.execute_input": "2023-01-11T12:38:32.487760Z",
     "iopub.status.busy": "2023-01-11T12:38:32.487380Z",
     "iopub.status.idle": "2023-01-11T12:38:32.813559Z",
     "shell.execute_reply": "2023-01-11T12:38:32.812289Z"
    },
    "papermill": {
     "duration": 0.362987,
     "end_time": "2023-01-11T12:38:32.816148",
     "exception": false,
     "start_time": "2023-01-11T12:38:32.453161",
     "status": "completed"
    },
    "tags": []
   },
   "outputs": [
    {
     "data": {
      "text/plain": [
       "2021    1511745\n",
       "2020     625864\n",
       "2019     258615\n",
       "2017     163918\n",
       "2018     163176\n",
       "2016     122024\n",
       "Name: Start_Time, dtype: int64"
      ]
     },
     "execution_count": 42,
     "metadata": {},
     "output_type": "execute_result"
    }
   ],
   "source": [
    "year_max_acc=df.Start_Time.dt.year.value_counts()\n",
    "year_max_acc"
   ]
  },
  {
   "cell_type": "markdown",
   "id": "76e4b7d4",
   "metadata": {
    "papermill": {
     "duration": 0.03063,
     "end_time": "2023-01-11T12:38:32.877546",
     "exception": false,
     "start_time": "2023-01-11T12:38:32.846916",
     "status": "completed"
    },
    "tags": []
   },
   "source": [
    "Year 2021 has the most highest count of accidents i.e 1511745"
   ]
  },
  {
   "cell_type": "markdown",
   "id": "b745b06e",
   "metadata": {
    "papermill": {
     "duration": 0.031257,
     "end_time": "2023-01-11T12:38:32.941592",
     "exception": false,
     "start_time": "2023-01-11T12:38:32.910335",
     "status": "completed"
    },
    "tags": []
   },
   "source": [
    "Que. What is the trend of accidents year over year? (increasing / decreasing)?"
   ]
  },
  {
   "cell_type": "code",
   "execution_count": 43,
   "id": "f5fc3eeb",
   "metadata": {
    "execution": {
     "iopub.execute_input": "2023-01-11T12:38:33.003811Z",
     "iopub.status.busy": "2023-01-11T12:38:33.003404Z",
     "iopub.status.idle": "2023-01-11T12:38:33.321894Z",
     "shell.execute_reply": "2023-01-11T12:38:33.320580Z"
    },
    "papermill": {
     "duration": 0.352774,
     "end_time": "2023-01-11T12:38:33.324444",
     "exception": false,
     "start_time": "2023-01-11T12:38:32.971670",
     "status": "completed"
    },
    "tags": []
   },
   "outputs": [
    {
     "data": {
      "text/plain": [
       "Text(0, 0.5, 'No. of accidents')"
      ]
     },
     "execution_count": 43,
     "metadata": {},
     "output_type": "execute_result"
    },
    {
     "data": {
      "image/png": "[encoded data removed]",
      "text/plain": [
       "<Figure size 720x360 with 1 Axes>"
      ]
     },
     "metadata": {},
     "output_type": "display_data"
    }
   ],
   "source": [
    "plt.figure(figsize=(10,5))\n",
    "sns.lineplot(data = year_max_acc)\n",
    "plt.title(\" Accident cases yearly (2016-2021) in US \",size=12)\n",
    "plt.xlabel('Year')\n",
    "plt.ylabel('No. of accidents')"
   ]
  },
  {
   "cell_type": "markdown",
   "id": "cad85fd0",
   "metadata": {
    "papermill": {
     "duration": 0.031886,
     "end_time": "2023-01-11T12:38:33.387455",
     "exception": false,
     "start_time": "2023-01-11T12:38:33.355569",
     "status": "completed"
    },
    "tags": []
   },
   "source": [
    "The trend of accident rates year on year basis is increasing.\n"
   ]
  },
  {
   "cell_type": "markdown",
   "id": "c9744009",
   "metadata": {
    "papermill": {
     "duration": 0.030847,
     "end_time": "2023-01-11T12:38:33.449819",
     "exception": false,
     "start_time": "2023-01-11T12:38:33.418972",
     "status": "completed"
    },
    "tags": []
   },
   "source": [
    "4. Start Latitute and Longitude"
   ]
  },
  {
   "cell_type": "code",
   "execution_count": 44,
   "id": "8f580d59",
   "metadata": {
    "execution": {
     "iopub.execute_input": "2023-01-11T12:38:33.513993Z",
     "iopub.status.busy": "2023-01-11T12:38:33.513533Z",
     "iopub.status.idle": "2023-01-11T12:38:51.005238Z",
     "shell.execute_reply": "2023-01-11T12:38:51.003685Z"
    },
    "papermill": {
     "duration": 17.527882,
     "end_time": "2023-01-11T12:38:51.008675",
     "exception": false,
     "start_time": "2023-01-11T12:38:33.480793",
     "status": "completed"
    },
    "tags": []
   },
   "outputs": [
    {
     "data": {
      "text/plain": [
       "<AxesSubplot:xlabel='Start_Lng', ylabel='Start_Lat'>"
      ]
     },
     "execution_count": 44,
     "metadata": {},
     "output_type": "execute_result"
    },
    {
     "data": {
      "image/png": "[encoded data removed]",
      "text/plain": [
       "<Figure size 432x288 with 1 Axes>"
      ]
     },
     "metadata": {},
     "output_type": "display_data"
    }
   ],
   "source": [
    "sample_df = df.sample(int(0.1 * len(df)))                                   #reduced the Point size to 0.001\n",
    "sns.scatterplot(x = sample_df.Start_Lng, y = sample_df.Start_Lat, size=df.Severity, hue=df.Severity)"
   ]
  },
  {
   "cell_type": "code",
   "execution_count": 45,
   "id": "0a880e8b",
   "metadata": {
    "execution": {
     "iopub.execute_input": "2023-01-11T12:38:51.086973Z",
     "iopub.status.busy": "2023-01-11T12:38:51.085993Z",
     "iopub.status.idle": "2023-01-11T12:39:23.504532Z",
     "shell.execute_reply": "2023-01-11T12:39:23.502778Z"
    },
    "papermill": {
     "duration": 32.456336,
     "end_time": "2023-01-11T12:39:23.507163",
     "exception": false,
     "start_time": "2023-01-11T12:38:51.050827",
     "status": "completed"
    },
    "tags": []
   },
   "outputs": [
    {
     "name": "stdout",
     "output_type": "stream",
     "text": [
      "Requirement already satisfied: folium in /opt/conda/lib/python3.7/site-packages (0.14.0)\r\n",
      "Requirement already satisfied: branca>=0.6.0 in /opt/conda/lib/python3.7/site-packages (from folium) (0.6.0)\r\n",
      "Requirement already satisfied: numpy in /opt/conda/lib/python3.7/site-packages (from folium) (1.21.6)\r\n",
      "Requirement already satisfied: requests in /opt/conda/lib/python3.7/site-packages (from folium) (2.28.1)\r\n",
      "Requirement already satisfied: jinja2>=2.9 in /opt/conda/lib/python3.7/site-packages (from folium) (3.1.2)\r\n",
      "Requirement already satisfied: MarkupSafe>=2.0 in /opt/conda/lib/python3.7/site-packages (from jinja2>=2.9->folium) (2.1.1)\r\n",
      "Requirement already satisfied: idna<4,>=2.5 in /opt/conda/lib/python3.7/site-packages (from requests->folium) (3.3)\r\n",
      "Requirement already satisfied: urllib3<1.27,>=1.21.1 in /opt/conda/lib/python3.7/site-packages (from requests->folium) (1.26.13)\r\n",
      "Requirement already satisfied: charset-normalizer<3,>=2 in /opt/conda/lib/python3.7/site-packages (from requests->folium) (2.1.0)\r\n",
      "Requirement already satisfied: certifi>=2017.4.17 in /opt/conda/lib/python3.7/site-packages (from requests->folium) (2022.12.7)\r\n",
      "\u001b[33mWARNING: Running pip as the 'root' user can result in broken permissions and conflicting behaviour with the system package manager. It is recommended to use a virtual environment instead: https://pip.pypa.io/warnings/venv\u001b[0m\u001b[33m\r\n",
      "\u001b[0m\u001b[33mWARNING: There was an error checking the latest version of pip.\u001b[0m\u001b[33m\r\n",
      "\u001b[0mNote: you may need to restart the kernel to use updated packages.\n"
     ]
    }
   ],
   "source": [
    "pip install folium"
   ]
  },
  {
   "cell_type": "code",
   "execution_count": 46,
   "id": "b594ba71",
   "metadata": {
    "execution": {
     "iopub.execute_input": "2023-01-11T12:39:23.578307Z",
     "iopub.status.busy": "2023-01-11T12:39:23.576996Z",
     "iopub.status.idle": "2023-01-11T12:39:23.988072Z",
     "shell.execute_reply": "2023-01-11T12:39:23.986520Z"
    },
    "papermill": {
     "duration": 0.450847,
     "end_time": "2023-01-11T12:39:23.991893",
     "exception": false,
     "start_time": "2023-01-11T12:39:23.541046",
     "status": "completed"
    },
    "tags": []
   },
   "outputs": [],
   "source": [
    "import folium                                                 #This library is used to plot a map\n",
    "from folium.plugins import HeatMap"
   ]
  },
  {
   "cell_type": "code",
   "execution_count": 47,
   "id": "b1f7b979",
   "metadata": {
    "execution": {
     "iopub.execute_input": "2023-01-11T12:39:24.078829Z",
     "iopub.status.busy": "2023-01-11T12:39:24.078119Z",
     "iopub.status.idle": "2023-01-11T12:39:25.375114Z",
     "shell.execute_reply": "2023-01-11T12:39:25.373830Z"
    },
    "papermill": {
     "duration": 1.336781,
     "end_time": "2023-01-11T12:39:25.377957",
     "exception": false,
     "start_time": "2023-01-11T12:39:24.041176",
     "status": "completed"
    },
    "tags": []
   },
   "outputs": [],
   "source": [
    "lat_long_combine= list(zip(list(df.Start_Lat), list(df.Start_Lng)))"
   ]
  },
  {
   "cell_type": "code",
   "execution_count": 48,
   "id": "b89eadf9",
   "metadata": {
    "execution": {
     "iopub.execute_input": "2023-01-11T12:39:25.446724Z",
     "iopub.status.busy": "2023-01-11T12:39:25.446197Z",
     "iopub.status.idle": "2023-01-11T12:39:25.488166Z",
     "shell.execute_reply": "2023-01-11T12:39:25.487096Z"
    },
    "papermill": {
     "duration": 0.079653,
     "end_time": "2023-01-11T12:39:25.491148",
     "exception": false,
     "start_time": "2023-01-11T12:39:25.411495",
     "status": "completed"
    },
    "tags": []
   },
   "outputs": [
    {
     "data": {
      "text/html": [
       "<div style=\"width:100%;\"><div style=\"position:relative;width:100%;height:0;padding-bottom:60%;\"><span style=\"color:#565656\">Make this Notebook Trusted to load map: File -> Trust Notebook</span><iframe srcdoc=\"&lt;!DOCTYPE html&gt;\n",
       "&lt;html&gt;\n",
       "&lt;head&gt;\n",
       "    \n",
       "    &lt;meta http-equiv=&quot;content-type&quot; content=&quot;text/html; charset=UTF-8&quot; /&gt;\n",
       "    \n",
       "        &lt;script&gt;\n",
       "            L_NO_TOUCH = false;\n",
       "            L_DISABLE_3D = false;\n",
       "        &lt;/script&gt;\n",
       "    \n",
       "    &lt;style&gt;html, body {width: 100%;height: 100%;margin: 0;padding: 0;}&lt;/style&gt;\n",
       "    &lt;style&gt;#map {position:absolute;top:0;bottom:0;right:0;left:0;}&lt;/style&gt;\n",
       "    &lt;script src=&quot;https://cdn.jsdelivr.net/npm/leaflet@1.9.3/dist/leaflet.js&quot;&gt;&lt;/script&gt;\n",
       "    &lt;script src=&quot;https://code.jquery.com/jquery-1.12.4.min.js&quot;&gt;&lt;/script&gt;\n",
       "    &lt;script src=&quot;https://cdn.jsdelivr.net/npm/bootstrap@5.2.2/dist/js/bootstrap.bundle.min.js&quot;&gt;&lt;/script&gt;\n",
       "    &lt;script src=&quot;https://cdnjs.cloudflare.com/ajax/libs/Leaflet.awesome-markers/2.0.2/leaflet.awesome-markers.js&quot;&gt;&lt;/script&gt;\n",
       "    &lt;link rel=&quot;stylesheet&quot; href=&quot;https://cdn.jsdelivr.net/npm/leaflet@1.9.3/dist/leaflet.css&quot;/&gt;\n",
       "    &lt;link rel=&quot;stylesheet&quot; href=&quot;https://cdn.jsdelivr.net/npm/bootstrap@5.2.2/dist/css/bootstrap.min.css&quot;/&gt;\n",
       "    &lt;link rel=&quot;stylesheet&quot; href=&quot;https://netdna.bootstrapcdn.com/bootstrap/3.0.0/css/bootstrap.min.css&quot;/&gt;\n",
       "    &lt;link rel=&quot;stylesheet&quot; href=&quot;https://cdn.jsdelivr.net/npm/@fortawesome/fontawesome-free@6.2.0/css/all.min.css&quot;/&gt;\n",
       "    &lt;link rel=&quot;stylesheet&quot; href=&quot;https://cdnjs.cloudflare.com/ajax/libs/Leaflet.awesome-markers/2.0.2/leaflet.awesome-markers.css&quot;/&gt;\n",
       "    &lt;link rel=&quot;stylesheet&quot; href=&quot;https://cdn.jsdelivr.net/gh/python-visualization/folium/folium/templates/leaflet.awesome.rotate.min.css&quot;/&gt;\n",
       "    \n",
       "            &lt;meta name=&quot;viewport&quot; content=&quot;width=device-width,\n",
       "                initial-scale=1.0, maximum-scale=1.0, user-scalable=no&quot; /&gt;\n",
       "            &lt;style&gt;\n",
       "                #map_0c491b13f3b8479a54d9071fc846292f {\n",
       "                    position: relative;\n",
       "                    width: 100.0%;\n",
       "                    height: 100.0%;\n",
       "                    left: 0.0%;\n",
       "                    top: 0.0%;\n",
       "                }\n",
       "                .leaflet-container { font-size: 1rem; }\n",
       "            &lt;/style&gt;\n",
       "        \n",
       "    &lt;script src=&quot;https://cdn.jsdelivr.net/gh/python-visualization/folium@main/folium/templates/leaflet_heat.min.js&quot;&gt;&lt;/script&gt;\n",
       "&lt;/head&gt;\n",
       "&lt;body&gt;\n",
       "    \n",
       "    \n",
       "            &lt;div class=&quot;folium-map&quot; id=&quot;map_0c491b13f3b8479a54d9071fc846292f&quot; &gt;&lt;/div&gt;\n",
       "        \n",
       "&lt;/body&gt;\n",
       "&lt;script&gt;\n",
       "    \n",
       "    \n",
       "            var map_0c491b13f3b8479a54d9071fc846292f = L.map(\n",
       "                &quot;map_0c491b13f3b8479a54d9071fc846292f&quot;,\n",
       "                {\n",
       "                    center: [0, 0],\n",
       "                    crs: L.CRS.EPSG3857,\n",
       "                    zoom: 1,\n",
       "                    zoomControl: true,\n",
       "                    preferCanvas: false,\n",
       "                }\n",
       "            );\n",
       "\n",
       "            \n",
       "\n",
       "        \n",
       "    \n",
       "            var tile_layer_f2c36803ae6f3683d875db1aef4e100a = L.tileLayer(\n",
       "                &quot;https://{s}.tile.openstreetmap.org/{z}/{x}/{y}.png&quot;,\n",
       "                {&quot;attribution&quot;: &quot;Data by \\u0026copy; \\u003ca target=\\&quot;_blank\\&quot; href=\\&quot;http://openstreetmap.org\\&quot;\\u003eOpenStreetMap\\u003c/a\\u003e, under \\u003ca target=\\&quot;_blank\\&quot; href=\\&quot;http://www.openstreetmap.org/copyright\\&quot;\\u003eODbL\\u003c/a\\u003e.&quot;, &quot;detectRetina&quot;: false, &quot;maxNativeZoom&quot;: 18, &quot;maxZoom&quot;: 18, &quot;minZoom&quot;: 0, &quot;noWrap&quot;: false, &quot;opacity&quot;: 1, &quot;subdomains&quot;: &quot;abc&quot;, &quot;tms&quot;: false}\n",
       "            ).addTo(map_0c491b13f3b8479a54d9071fc846292f);\n",
       "        \n",
       "    \n",
       "            var heat_map_60401ba6cb830ce7f45fbdb8fbd681e8 = L.heatLayer(\n",
       "                [[40.10891, -83.09286], [39.86542, -84.0628], [39.10266, -84.52468], [41.06213, -81.53784], [39.172393, -84.49279200000002], [39.06324, -84.03243], [39.77565, -84.18603], [41.37531, -81.82016999999998], [40.702247, -84.075887], [40.10931, -82.96849], [39.19288, -84.47723], [39.13877, -84.53394], [41.4739, -81.704233], [39.582242, -83.677814], [40.151785, -81.312635], [40.151747, -81.312682], [39.97241, -82.84695], [39.9838, -82.85656999999998], [40.02664, -82.9944], [41.679361, -83.573037], [40.99613, -85.26613], [39.0381, -84.59243000000002], [40.03386, -82.99601], [39.85798, -84.28181], [39.15267, -84.5395], [39.30732, -85.95982], [39.77572, -84.04815], [39.97643, -83.12306], [39.58595, -85.82518], [39.3638, -85.51659000000002], [39.45132, -85.62516], [39.75067, -84.14148], [39.2675, -81.49929], [39.86025, -85.96623000000002], [41.95677, -83.67214], [38.27401, -85.74844], [41.95677, -83.67214], [40.52225, -80.06666], [40.487814, -80.009439], [40.156298, -83.018431], [41.47461, -81.71181999999997], [41.0618, -81.54608], [40.45112, -85.15048], [40.35429, -85.14993], [39.75855, -85.13715], [39.74408, -85.13749], [39.965148, -83.020499], [40.72813, -84.78965], [39.85223, -85.25846999999997], [41.46747, -81.75909], [41.83193, -80.10143000000002], [39.744287, -84.204939], [39.71548, -84.22033], [39.7504, -84.20561], [41.72316, -84.96444], [40.04376, -82.99708000000003], [38.1781, -85.71946], [38.18577, -85.80678], [38.27191, -85.80838], [39.923905, -82.87008], [41.035566, -81.569917], [39.9239, -83.68767], [41.851914, -80.175232], [39.93849, -82.84849], [38.96943, -80.1096], [41.66805, -83.57063000000002], [41.48339, -81.66297], [41.50127, -81.4804], [39.789093, -82.989106], [41.67073, -81.24561], [41.70846, -81.17636], [41.44246, -81.78485], [39.77128, -84.1923], [41.50499, -81.47417], [40.109653, -80.2029], [38.38852, -81.7687], [41.03572, -81.57809], [41.47487, -81.72095], [41.62845, -84.80559000000002], [41.62894, -84.80373], [41.16102, -81.78573], [41.628232, -84.808858], [41.62986, -84.76619000000002], [39.74729, -84.21426], [41.42099, -81.69051999999998], [41.42318, -81.84674], [38.79691, -84.48273], [38.80878, -84.49638], [38.30155, -85.85499], [38.33667, -81.65623000000002], [38.33614, -81.65623000000002], [41.0961, -81.58593], [41.12155, -85.18715999999998], [38.829993, -80.667067], [40.05642, -83.03097], [41.37717, -81.5139], [39.17397, -84.49031], [39.75513, -84.16614], [39.17397, -84.49031], [41.12624, -81.65299], [38.33667, -81.65623000000002], [41.10389, -81.5], [39.16417, -84.45275], [40.11184, -83.00883], [38.31922, -85.75301999999998], [39.09881, -84.50801], [41.473859, -81.708409], [41.039988, -81.565332], [41.73565, -84.99082], [39.26566, -84.43965], [41.46981, -81.81104], [41.25666, -81.63157], [40.58919, -80.09885], [41.06356, -81.49078], [41.06218, -81.50595], [39.17736, -84.4873], [38.33956, -81.60991999999997], [41.47889, -81.6934], [40.58919, -80.09885], [41.41119000000001, -81.64414000000002], [39.24907, -84.44561999999998], [39.28775, -84.40073000000002], [41.47379, -81.89631], [41.54941, -81.60676], [39.03347, -84.603], [39.74903, -84.20106], [39.89473, -83.044], [39.19641, -84.47331], [39.22461, -84.45364000000002], [39.15306, -84.44283], [39.97262, -82.98368], [40.535447, -80.03596], [40.529455, -80.03506999999998], [41.49647, -81.67733], [41.0634, -81.49079], [39.74284, -84.20479], [41.46822, -81.9476], [41.92479, -83.36026], [41.184738, -80.432713], [40.27317, -85.5577], [39.98264, -85.14301999999998], [40.27317, -85.5577], [40.42667, -85.54968000000002], [39.97527, -85.14018], [39.09889, -84.52118], [38.88012, -84.62527], [38.79256, -84.60423], [39.74284, -84.20479], [40.484222, -80.13755400000002], [41.20104, -80.06859], [39.05528, -84.39072], [41.623325, -83.692226], [40.53024, -80.00957], [40.06527, -82.99591], [40.43954, -80.00971], [41.422004, -81.730092], [39.3638, -85.51659000000002], [39.82083, -85.7749], [40.0366, -85.72561999999998], [39.855691, -84.29079200000002], [40.049152, -85.682047], [39.83939, -85.55752], [40.13386, -80.00666], [40.43954, -80.00971], [40.13386, -80.00666], [40.13386, -80.00666], [39.97859, -82.9763], [39.95459, -83.04255], [39.68291, -85.97372], [38.49304, -85.77156], [38.33428, -85.82177], [39.99921, -83.02875], [38.53844, -85.77702], [38.1781, -85.71946], [39.87433, -82.99882], [41.39546, -85.32855], [41.39469, -85.28893000000002], [41.90473, -83.36986], [40.77137000000001, -84.62203000000002], [40.80059, -84.61374], [39.87433, -82.99882], [40.78593, -84.61787], [40.80059, -84.61374], [41.67487, -83.57266], [41.47376, -81.86113], [38.33465, -85.75389], [39.14014, -84.53495], [41.80143, -85.34888000000002], [41.35761, -81.81988], [39.34392, -84.39043000000002], [39.816154, -83.18010500000003], [38.824929, -85.47449499999998], [38.82415, -85.63794], [40.593244, -85.150017], [40.600487, -85.150502], [41.19362, -80.2374], [40.55267, -85.14974000000002], [40.56744000000001, -85.14993], [40.14212, -81.55153], [39.94397, -82.41127], [39.96893, -83.11922], [40.6126, -80.09494000000002], [40.11184, -83.00883], [41.06347, -81.50372], [39.972931, -85.965783], [39.95459, -83.04255], [40.11184, -83.00883], [39.97241, -82.84695], [39.9912, -85.9188], [41.34965, -81.51146], [41.11987, -80.69004], [41.11851, -80.69242], [40.05642, -83.03097], [38.117487, -85.760397], [41.44134, -81.65055], [38.61531, -80.76034], [41.124052, -80.677589], [39.95085, -82.94428], [41.06257, -81.52228000000002], [40.11212, -83.03905999999998], [39.887033, -83.043909], [40.04916, -83.03336], [41.12906, -85.1612], [41.17798, -85.10323000000002], [38.08783, -83.90263], [41.63316, -83.54203000000003], [39.149639, -84.539381], [40.9605, -85.3528], [40.96051, -85.34522], [41.08204, -80.64846999999997], [41.61791, -83.54106999999998], [38.41592, -82.3465], [41.67571, -83.69385], [39.08272, -84.52264], [39.280947, -80.278075], [38.36387, -81.73867], [40.0187, -82.90465999999998], [41.53757, -81.64083000000002], [41.16522, -81.47454], [39.52352, -82.02360999999998], [39.517216, -82.025802], [40.322818, -83.071034], [41.73565, -84.99082], [39.14648, -84.45455], [39.82122, -85.76482], [41.11889, -81.65406999999998], [40.121557, -83.151457], [40.11017, -83.15876999999998], [41.57777, -81.54987], [40.121557, -83.151457], [40.11017, -83.15876999999998], [41.04592, -81.69463], [41.42099, -81.69051999999998], [39.27486, -84.346], [39.28266, -84.56742], [39.9467, -82.22232], [39.17397, -84.49031], [39.17736, -84.4873], [39.9467, -82.22232], [39.9467, -82.22232], [41.68518, -83.5678], [41.66572, -83.5652], [39.27125, -84.35176], [41.47395, -81.69931], [39.98505, -80.74006], [39.95813, -80.76219], [41.56544, -81.5835], [38.32587, -83.11389], [38.25869, -85.7622], [38.29322, -85.654625], [39.78609, -83.24606999999997], [41.53968, -81.62795], [39.08927, -84.5227], [38.25922, -85.76632], [41.55264, -81.60032], [39.02187, -84.50492], [41.06755, -81.57421], [40.49223, -80.01029], [41.48836, -81.66471], [39.95085, -82.94428], [41.42063, -81.80859], [41.06755, -81.57421], [40.82949, -81.39732], [41.40091, -81.81724], [41.13355, -85.13584], [38.870386, -84.624429], [41.47974, -81.6667], [40.30095, -80.16651999999998], [39.11543, -84.50003000000002], [41.1419, -81.47694], [39.14917, -84.44711], [39.81979000000001, -84.18908], [39.84509, -84.1899], [41.47461, -81.71181999999997], [39.17304, -84.47589], [39.1021, -84.49754], [41.49873, -81.67260999999998], [39.12627, -84.53509], [41.47394600000001, -81.699011], [39.9745, -83.09654], [39.85911, -84.2808], [39.24943, -84.36541], [38.31179, -85.58773000000002], [39.27486, -84.346], [39.29287, -84.31981], [39.15267, -84.5395], [41.4675, -81.49014], [39.26661, -84.35605], [39.27125, -84.35176], [38.20674, -85.74846], [40.13804, -82.97112], [41.47965, -81.66758], [39.08887, -84.52271], [41.6882, -83.64064], [40.06527, -82.99591], [39.86536, -84.05238], [38.420223, -82.293065], [41.47414000000001, -81.69893], [41.47542, -81.68721], [40.07297, -83.1347], [40.05609000000001, -80.679211], [38.19105, -85.71902], [38.25454000000001, -85.71969], [39.171694, -84.494399], [41.06239, -81.52229], [39.259254, -84.440978], [39.905178, -82.895471], [40.0988, -83.13331], [41.33991, -81.81739], [40.0999, -82.92089], [39.4728, -80.11963], [41.46631, -81.77065999999998], [38.34109, -81.70017], [41.160072, -85.232647], [41.163626, -85.24482900000002], [39.14014, -84.53495], [40.94537, -81.15473], [41.68591, -83.911307], [41.704523, -83.9136], [40.945772, -81.17219399999998], [38.82445, -82.98299], [38.84111, -82.98432], [39.00079, -84.42043000000002], [39.96071, -85.35383], [39.2675, -81.49929], [40.27317, -85.5577], [40.42667, -85.54968000000002], [38.130782, -81.388878], [38.545195, -85.778613], [38.362427, -81.714434], [38.39115, -81.58664], [40.08978, -82.98725999999998], [40.0122, -82.99188000000002], [41.68918, -83.53681999999998], [39.3781, -84.365], [39.11919, -84.53539], [39.05029, -83.77673], [39.04827, -83.77199], [40.0717, -82.90821], [39.09655, -84.48312], [40.43077, -80.02638], [41.443708, -85.19285], [41.438119, -85.15969399999999], [41.46747, -81.75909], [39.044435, -84.465864], [39.22461, -84.45364000000002], [41.104217, -81.499987], [41.1003, -81.4999], [39.1021, -84.49754], [41.46375, -81.69353000000002], [41.52134, -83.45642], [41.52549000000001, -83.46344], [41.43166, -81.68160999999998], [38.22363, -85.50532], [40.85466, -81.41646999999998], [38.22272, -85.50111], [39.12424, -84.53501], [39.09858, -84.51974], [39.63551, -84.19519], [40.39715, -80.10368000000003], [41.56709, -81.57816], [41.18225, -84.94275999999998], [39.10148, -84.52341], [41.55245, -83.60061999999998], [38.52006, -81.35221], [41.3513, -83.62276], [39.25015, -81.30566], [41.345031, -82.285379], [41.351335, -82.26144599999998], [38.38457, -81.804429], [40.41528, -80.01234000000002], [40.03598, -83.12479], [41.03669, -81.50492], [41.68971, -83.53045999999998], [39.587784, -83.723939], [39.626237, -83.73105], [41.06243, -81.49904000000002], [39.97262, -82.98368], [39.93658, -83.00941999999998], [41.208579, -82.807829], [41.4051, -81.8184], [39.29035, -84.39078], [39.90524, -82.89541], [40.04376, -82.99708000000003], [39.98793, -82.98568], [41.874915, -85.409527], [41.890234, -85.409642], [39.9335, -82.78939], [40.04916, -83.03336], [39.99493, -82.93332], [39.83727, -83.09326999999998], [40.98954000000001, -81.49372], [38.53844, -85.77702], [41.10389, -81.5], [38.577894, -85.77896], [41.42099, -81.69051999999998], [38.58054600000001, -85.77866], [39.833935, -84.061832], [38.30344, -85.88893], [39.93654, -83.40048], [39.95612, -83.37499], [39.17766, -84.39780999999998], [40.02155, -83.0354], [39.97518, -85.63374], [39.94576, -85.63454], [40.27744000000001, -85.72518000000002], [39.17304, -84.47589], [41.68648, -83.5669], [41.66267, -85.03312], [41.68976, -83.666], [39.94594, -82.9432], [41.4758, -81.66036], [41.628312, -84.812135], [39.96724, -83.02459], [41.96429000000001, -83.35018000000002], [41.282993, -83.638931], [41.63126, -83.48336], [41.427584, -85.8495], [41.471378, -85.839527], [41.46747, -81.75909], [39.18364, -84.48373000000002], [41.94495, -80.40234], [39.53078, -84.310264], [41.438774, -81.80341999999997], [39.9838, -82.85656999999998], [40.44413400000001, -80.028261], [39.97727, -83.15445], [39.9745, -83.09654], [39.97865, -83.11698], [39.97327, -83.12002], [39.22571, -84.36832], [39.986342, -83.118881], [39.73629, -84.20489], [41.4051, -81.8184], [41.41101, -81.66634], [39.24464, -84.44835], [40.11212, -83.03905999999998], [40.30095, -80.16651999999998], [41.49243, -81.67554], [40.1827, -80.26148], [39.95459, -83.04255], [39.97527, -85.14018], [39.98511, -85.14406], [38.29514, -85.75655], [39.93654, -83.40048], [39.11543, -84.50003000000002], [41.030684, -81.885739], [41.43166, -81.68160999999998], [40.6664, -80.227514], [40.67137, -80.22581], [41.305199, -81.438626], [40.354252, -85.843032], [40.402251, -85.842969], [41.26752000000001, -85.85673], [39.97307, -82.98405], [39.9672, -81.28699999999998], [39.96392, -81.27197], [41.52631, -83.62123000000003], [39.93292, -82.83025], [39.08272, -84.52264], [39.8552, -84.32502], [41.65404, -85.70526], [41.39465, -81.65326], [41.06211, -81.53053], [41.09598, -81.49976], [41.85222, -85.67843], [38.148808, -80.929665], [41.52447, -85.57791], [41.5105, -85.57781], [39.90524, -82.89541], [41.23598, -81.49325999999998], [38.70101, -80.66483000000002], [39.22498, -84.38094], [40.776023, -80.12718100000002], [38.86027, -80.65729], [39.88203, -83.04748000000002], [39.89253400000001, -83.038786], [39.89698, -83.03428000000002], [41.67439, -83.693727], [41.12999, -85.15503000000002], [39.09889, -84.52118], [41.52631, -83.62123000000003], [39.088552, -84.522724], [39.95423, -82.98879000000002], [39.21018, -84.46345], [39.95369, -82.96403000000002], [40.40934, -80.19247], [40.44126, -80.19314], [39.16161, -84.51375], [39.16161, -84.51375], [39.15141, -84.54061], [39.75855, -85.13715], [41.67571, -83.69385], [41.67571, -83.69385], [39.28805, -84.37462], [41.53618, -83.6176], [39.07202, -84.51907], [38.259133, -85.752672], [40.44425, -80.02821], [40.44278, -80.02468], [38.30155, -85.85499], [40.35405, -80.13756], [40.35449000000001, -80.13835999999998], [38.30344, -85.88893], [41.08789, -83.66011], [41.02454, -80.92163000000002], [41.02413, -80.90579], [39.08168, -84.7069], [38.18539000000001, -85.81793], [39.27734, -84.86438000000003], [39.16437, -84.43731], [39.748585, -84.226084], [39.4728, -80.11963], [41.187807, -80.149019], [41.19242, -80.15860500000002], [38.233483, -85.62671800000003], [38.33954, -81.609895], [40.07297, -83.1347], [40.08402, -83.13046], [38.34631, -83.40449], [38.35382, -83.40553], [39.04416, -84.46656], [38.41807, -81.54525], [38.309401, -85.847643], [41.64679, -83.54913], [38.198748, -85.733953], [39.97401, -82.99355], [39.17397, -84.49031], [41.68843, -83.56258000000003], [41.67904, -83.5732], [39.25249, -84.36493], [38.310736, -85.590395], [41.46941, -81.80535], [38.20674, -85.74846], [39.226317, -84.37107900000002], [41.68721, -83.55579], [40.09775, -84.22926], [41.42147, -81.70682], [38.29414600000001, -85.756847], [39.17304, -84.47589], [38.15982, -84.67308], [39.11675, -84.53355], [39.24943, -84.36541], [41.06146, -81.5049], [39.18364, -84.48373000000002], [39.98793, -82.98568], [39.95971, -83.04811], [39.1479, -84.53929000000002], [39.89555, -83.84997], [39.99226, -82.98517], [39.40983, -82.97548], [40.6126, -80.09494000000002], [39.22479000000001, -84.27783000000002], [39.11675, -84.53355], [41.43869, -81.80554000000002], [40.016819, -82.90411], [39.09757000000001, -84.51666], [41.06247000000001, -81.52405], [39.13219, -84.49464], [39.097654, -84.516019], [41.34965, -81.51146], [41.37717, -81.5139], [40.12589000000001, -80.13661], [40.13189000000001, -80.132407], [40.00507, -83.1186], [39.43794000000001, -82.53893000000002], [39.12627, -84.53509], [38.07759, -84.45711999999997], [40.09079000000001, -82.90783], [39.64731, -85.91696999999998], [39.08927, -84.5227], [38.26109, -85.73695], [38.19785, -85.70445], [39.05654000000001, -84.54283000000002], [41.42413, -81.64519], [39.28638, -84.42706], [41.37499, -83.61635], [41.06228, -81.50986999999998], [41.53907, -81.63354], [40.04916, -83.03336], [41.13613, -81.72196], [39.09891, -84.49181999999998], [39.96268, -82.84305], [39.17397, -84.49031], [39.16911, -84.42104], [39.003821, -80.391285], [39.17736, -84.4873], [39.14316, -84.47069], [39.2696, -84.34894], [40.521732, -81.64755], [40.513361, -81.651599], [41.52631, -83.62123000000003], [38.992607, -80.195782], [38.839151, -82.152877], [40.27675, -85.49916], [40.52168, -80.13163], [39.83711, -84.54392], [39.02296, -84.51784], [38.455787, -81.88205], [39.02397, -84.48039], [38.22433, -85.751], [39.05973, -84.42438], [39.27734, -84.86438000000003], [41.47965, -81.66758], [39.02257, -84.48631], [40.44846, -80.00755], [39.09891, -84.28556999999998], [41.06026, -81.55485999999998], [41.802758, -83.684687], [38.0791, -83.94591], [38.01846, -84.15159], [38.30344, -85.88893], [38.84109, -85.81618], [41.14181, -80.72015999999998], [39.14648, -84.45455], [41.04263, -81.50543], [38.21089, -85.82606], [39.75067, -84.14148], [38.28581, -85.50792], [39.15273300000001, -84.541403], [38.23585, -85.658849], [38.20249, -85.68697], [40.53491, -83.10678], [40.52035, -83.10043], [39.12965, -84.49555], [38.22811, -85.7514], [40.41233, -80.07815], [39.7504, -84.20561], [39.08272, -84.52264], [39.781457, -85.839651], [39.781457, -85.839651], [41.06076, -81.45923], [39.688148, -83.88431], [39.693164, -83.882745], [39.9488, -83.02845], [41.11584000000001, -81.61428000000002], [39.797697, -84.189677], [39.20326, -85.95763000000002], [39.24464, -84.44835], [39.73733, -84.25733000000002], [39.969853, -85.972976], [41.11889, -81.65406999999998], [39.13219, -84.49464], [41.458, -83.62201999999998], [40.09268, -83.03726], [40.066965, -83.289888], [40.045608, -83.29660799999998], [39.97307, -82.98405], [39.98248, -85.123922], [39.981095, -85.11027299999998], [40.43021, -80.02554], [40.43219000000001, -80.02781999999998], [39.976567, -83.128639], [41.256658, -85.363439], [41.37499, -83.61635], [41.252653, -85.347328], [39.93658, -83.00941999999998], [39.14014, -84.53495], [40.153014, -82.970316], [39.90524, -82.89541], [39.13219, -84.49464], [40.42581, -80.4294], [41.08789, -83.65977], [39.9488, -83.02845], [41.47585, -81.87980999999998], [39.1079, -84.50284], [38.340803, -81.680728], [40.96473, -85.28862], [38.441, -82.12679], [38.4413, -82.01529000000002], [38.441, -82.12679], [38.18977, -83.48379], [41.194131, -80.201982], [40.09601, -83.13626], [41.23632, -83.65401999999997], [38.1737, -84.81473000000003], [38.19016, -85.7616], [39.25249, -84.36493], [39.137217, -84.04718299999998], [39.141454, -84.016543], [38.344424, -81.613662], [41.93113, -83.35857], [40.89268, -84.61808], [40.46013, -80.19126], [41.119342, -80.698025], [41.117872, -80.693898], [39.15267, -84.5395], [38.27362, -85.80906], [41.458, -83.62201999999998], [39.35655, -84.26419], [38.4062, -81.54054000000002], [41.02525900000001, -81.5042], [38.27362, -85.80906], [38.11969000000001, -85.77235], [38.275406, -85.81314300000003], [38.27508, -85.81517099999998], [41.39769, -81.939], [39.46513, -80.13559000000002], [38.217994, -81.426024], [38.215401, -81.42437199999998], [39.042851, -84.612615], [38.26109, -85.73695], [39.05654000000001, -84.54283000000002], [41.840758, -84.361657], [41.841123, -84.361652], [41.63316, -83.54203000000003], [40.02874, -81.04368000000002], [41.43891, -81.80258], [41.0811, -81.50348000000002], [38.35575, -81.65420999999998], [39.94585, -82.94293], [41.69017, -83.5181], [40.11212, -83.03905999999998], [41.50259000000001, -81.66974], [39.989994, -83.02512], [41.480458, -81.692932], [39.22461, -84.45364000000002], [40.04376, -82.99708000000003], [39.93621, -82.88318000000002], [39.167788, -82.524172], [39.20655, -82.48212], [41.36576, -81.51602], [39.977322, -81.183327], [39.961933, -81.175436], [39.68292, -84.23004], [40.02664, -82.9944], [38.583372, -81.994824], [38.58119600000001, -82.004356], [40.07297, -83.1347], [41.58689, -83.56234], [38.31714, -85.57677], [40.07297, -83.1347], [39.07202, -84.51907], [41.46747, -81.75909], [40.82645, -81.39675], [40.82645, -81.39675], [39.05654000000001, -84.54283000000002], [39.06272, -84.65728], [39.03368, -84.59527], [40.02121, -82.99503], [39.866695, -84.9305], [39.05654000000001, -84.54283000000002], [39.03232, -84.59137], [41.04058, -81.61256999999998], [40.98884, -83.64875], [39.95658, -83.37075], [39.89857, -83.72139], [39.896448, -83.72312099999998], [41.47965, -81.66758], [39.71548, -84.22033], [40.0389, -85.71828000000002], [41.17516, -81.23116999999998], [41.15107, -81.21375], [40.0389, -85.71828000000002], [39.99336, -85.83861999999998], [40.46013, -80.19126], [41.68976, -83.666], [39.97326, -83.00690999999998], [39.48572, -83.94191], [39.83355, -85.99635], [39.79721, -85.97153], [39.98056, -83.11924], [41.458, -83.62243000000002], [39.905352, -82.995352], [39.99921, -83.02875], [40.869049, -81.95845600000001], [41.419021, -81.519515], [39.34392, -84.39043000000002], [39.9454, -82.60271], [38.353957, -81.73513100000002], [38.354505, -81.731585], [41.501623, -81.479519], [39.86477, -83.99871], [38.737813, -85.250959], [40.00507, -83.1186], [39.91978, -82.93149], [39.09757000000001, -84.51666], [41.07995, -81.50389], [41.63316, -83.54203000000003], [39.82529, -83.03175999999998], [39.83209, -82.99884], [39.83208, -83.000447], [38.416631, -84.861968], [40.55549, -80.11634000000002], [39.17736, -84.4873], [41.484589, -81.691778], [41.22734000000001, -81.62705], [39.04695, -84.57498000000002], [39.25595, -84.44287], [39.8888, -82.88181999999998], [39.74729, -84.21426], [39.97415, -83.09486], [39.08272, -84.52264], [39.949808, -83.02289300000002], [39.95141, -83.0137], [38.7056, -80.66107], [39.1479, -84.53929000000002], [41.7573, -83.48075], [39.98946, -85.9299], [39.98894, -83.025012], [41.110996, -80.82384], [41.68685900000001, -83.554005], [41.53907, -81.63354], [39.300562, -84.518869], [41.202543, -85.7011], [39.19288, -84.47723], [40.07297, -83.1347], [39.140991, -84.483618], [41.121599, -80.789503], [41.31438, -81.51286], [39.85922, -84.27762], [40.42005, -80.03531], [39.9589, -82.98257], [39.89087, -83.85382], [39.89862, -83.85353], [40.03938, -83.050567], [41.41218, -81.61371], [38.306159, -80.833765], [40.104, -82.94154], [38.24178, -85.62212], [41.55264, -81.60032], [39.99226, -82.98517], [38.31553, -85.58313000000003], [38.400331, -85.371049], [38.31251, -85.57741999999998], [38.400331, -85.371049], [39.88938, -82.88316], [38.15873, -80.90504], [39.9745, -83.09654], [41.47487, -81.72095], [39.26931, -84.4307], [38.2201, -85.82223], [41.48339, -81.66297], [39.16161, -84.51375], [41.42734, -82.08322], [41.52631, -83.62123000000003], [39.91732, -83.012335], [41.60867, -81.48891], [41.20554, -85.17116], [41.507189, -81.67124], [39.97415, -83.09486], [39.97043, -83.01961999999997], [39.93849, -82.84849], [39.89698, -83.03428000000002], [39.71452, -84.22281], [40.11468, -83.01644], [38.34244, -85.80447], [41.47036, -81.65984], [38.30056, -85.84703], [39.169389, -84.50389], [39.936838, -83.042661], [39.937567, -83.04209200000003], [39.9425, -82.53536], [39.27125, -84.35176], [41.398877, -83.616108], [39.24422, -84.30224], [40.412997, -80.07973299999998], [39.021521, -84.50784300000002], [41.12367, -80.76913], [41.073876, -83.66091999999998], [39.01992, -83.65886], [38.97914, -83.65465], [40.09927, -83.15793000000002], [39.93658, -83.00941999999998], [39.11543, -84.50003000000002], [41.474552, -81.711522], [39.78517, -84.18457], [41.47974, -81.6667], [38.27719, -85.69383], [38.495124, -85.771118], [39.73277, -84.20522], [41.458, -83.62243000000002], [39.045381, -84.462312], [41.526, -81.65974], [40.78725, -81.38592], [38.3657, -85.75495], [39.02575, -84.61272], [40.90923, -81.79765], [40.91649, -81.78869], [39.10051, -80.39199], [40.082643, -82.91367199999998], [41.47162, -81.90626], [40.08155, -82.91859000000002], [40.07976, -82.92689], [38.27511, -85.81238], [39.02908, -84.53565], [39.04455, -84.57798000000003], [39.83026, -81.45434], [39.81436, -81.46898], [38.41336, -82.3483], [38.20674, -85.74846], [38.10937, -85.70123000000002], [40.26758, -82.92745], [38.22285, -85.57436], [40.43827, -80.00527], [39.08272, -84.52264], [40.046599, -85.99359], [41.67904, -83.5732], [40.52225, -80.06666], [41.041763, -81.3932], [39.02541, -85.88784], [39.887572, -84.047499], [39.90803, -84.03969000000002], [39.8181, -81.45925], [39.8181, -81.45925], [39.81447, -81.46769], [41.47307, -80.36586], [41.460561, -80.366376], [39.75022, -84.19668], [39.16161, -84.51375], [39.82329, -84.166569], [39.818751, -84.167637], [39.15267, -84.5395], [40.480209, -85.719799], [39.02676, -84.61421], [40.480209, -85.719799], [40.48013, -85.72942900000002], [38.24863, -85.70467], [39.24907, -84.44561999999998], [39.18364, -84.48373000000002], [41.420898, -81.69322], [39.18976, -84.26285], [40.00921, -83.03149], [41.12369, -80.75595], [41.09705, -81.50012], [41.03011, -81.40292099999998], [39.9533, -83.0032], [39.91404, -83.01729], [39.11811, -84.49975], [39.73277, -84.20522], [41.47379, -81.69592], [41.47395, -81.69931], [39.62334, -81.83577], [39.98233, -82.98449000000002], [40.15106, -80.03243], [41.66332, -83.56385999999998], [39.35245, -84.37507], [41.67178, -83.6939], [38.38018, -82.60993], [39.03347, -84.603], [40.42116, -80.0438], [41.341147, -83.347543], [41.34131, -83.376561], [40.26758, -82.92745], [40.432459, -80.023538], [39.9912, -85.9188], [39.05654000000001, -84.54283000000002], [38.39328, -85.76223], [39.97165800000001, -80.017133], [39.98381, -80.01011], [39.84457, -85.51639399999998], [38.399528, -85.76430500000002], [38.38981, -81.76937], [41.47965, -81.66758], [39.97859, -82.9763], [40.68109000000001, -80.24616999999998], [41.47487, -81.72095], [40.68109000000001, -80.24616999999998], [40.1412, -82.97121], [39.85942, -84.27778], [39.10838, -84.50296999999998], [39.32662, -84.42002], [39.24907, -84.44561999999998], [41.11959, -81.64568], [39.04455, -84.57798000000003], [38.26109, -85.73695], [38.21911, -85.50582], [39.94976, -83.04032], [38.82584, -120.029214], [37.358209, -121.840017], [37.881943, -122.307987], [37.881038, -122.307788], [38.518811, -121.101664], [38.518811, -121.101664], [36.9903, -119.71146], [37.42592, -122.09879], [37.75745, -122.21131], [37.31648, -121.96746], [37.44415, -122.2688], [37.71981, -121.65943], [37.827434, -122.29103700000002], [37.589091, -122.3599], [37.377536, -121.945376], [37.74508, -122.40493], [38.4498, -122.6878], [37.886875, -122.309331], [37.616444, -122.157178], [38.00979, -122.02371], [37.895515, -122.308355], [37.891932, -122.063207], [37.85139, -122.29956], [38.51928, -122.773446], [37.556444, -121.950327], [38.500342, -121.431106], [37.554454, -121.946955], [37.74987, -122.20439], [38.59486, -121.44422], [37.854629, -122.217305], [38.6061, -121.43255], [36.98829, -122.00633], [35.56127, -119.19851], [38.47782, -121.42671], [38.151056, -122.448699], [37.854629, -122.217305], [37.68872, -122.10838], [37.3647, -121.8439], [38.76974000000001, -121.2488], [37.769009, -122.405144], [38.24584, -122.6257], [37.62953, -122.42966], [37.98429, -122.31564], [37.45976, -122.1395], [37.25045, -121.91057], [37.15594, -121.65561], [37.37231, -121.92109], [37.84131, -122.29735], [37.68749, -121.91726], [38.23439000000001, -122.10477], [37.80791, -122.3674], [37.64538, -122.0948], [37.12418, -120.24864], [38.618901, -121.416952], [37.3603, -121.84157], [37.93985, -122.32493], [37.63196, -122.43701], [37.57459, -122.26125], [37.70679000000001, -121.723], [37.81917, -122.25381000000002], [37.84131, -122.29735], [37.29667, -121.93973], [37.41334000000001, -121.9829], [37.33369, -121.93726], [38.57493, -121.55161], [37.78606, -122.3909], [37.84821, -122.02782], [37.88124000000001, -122.30814], [37.824567, -122.313086], [38.533628, -120.759758], [38.533386, -120.761061], [37.31916, -121.99202], [37.36142, -121.91656], [37.35036, -121.91619], [37.27353, -121.86269], [37.31494, -122.18693], [37.38433, -121.97167], [37.886983, -122.30876299999998], [37.74987, -122.20439], [37.7017, -121.88372], [37.74987, -122.20439], [37.6907, -122.09411], [39.153469, -121.587801], [39.155182, -121.588055], [38.57219, -121.50906], [38.64362, -121.10956000000002], [37.564363, -122.037722], [37.854709, -122.217323], [37.70641, -121.92649], [38.121, -122.56549], [37.42158, -122.18092], [38.013156, -122.235801], [38.21474, -122.13774], [37.82334, -122.3167], [38.5791, -121.46456], [37.861675, -122.209268], [38.04312, -122.2409], [38.58695, -121.50351], [38.10965, -122.23058], [38.53757, -121.73843], [38.24027, -122.06638999999998], [37.70028, -121.77725], [37.44075, -121.8901], [38.56997, -121.46853], [37.59, -122.36133999999998], [37.81972, -121.99311000000002], [38.47782, -121.42671], [37.559521, -122.279822], [38.13642, -122.25851000000002], [38.61124, -121.27046], [37.94581, -122.05813], [37.53126, -122.00514], [38.66096, -121.34728], [37.98293, -122.04173], [37.94209, -122.47547], [37.59769, -122.42135], [38.61761, -121.14002], [37.70891, -121.72378], [37.70225, -121.7446], [35.31775, -119.03484], [37.47843, -121.93342], [37.9019, -122.31158], [36.771933, -119.83942], [36.77191, -119.84427], [37.54937, -122.29225], [37.36686, -121.99602], [37.422193, -121.930303], [37.33934, -121.85157], [37.8936, -121.28238], [37.910986, -122.067588], [38.246, -122.07826], [37.562592, -122.271191], [37.8936, -121.28238], [37.561746, -122.269573], [37.8936, -121.28238], [37.562592, -122.271191], [37.99373, -122.07206], [36.53297, -120.4911], [37.147921, -122.343516], [37.147935, -122.343558], [37.76215, -122.40566], [37.337054, -121.995573], [37.76215, -122.40566], [37.953477, -122.054365], [37.75232000000001, -122.40303], [37.57529, -122.04697], [38.220768, -122.131757], [36.781548, -121.779072], [37.99437, -122.07118], [38.555677, -121.474509], [38.43086, -121.48853], [37.48701, -121.94133], [38.24035900000001, -122.091113], [37.70162, -121.90858], [36.71551, -119.78425], [38.57219, -121.50906], [37.33422, -122.03654], [37.15594, -121.65561], [36.25693, -120.24593], [37.80628, -122.23731], [38.02368, -121.97127], [36.68009, -119.74419], [37.70069, -122.02557], [37.71922, -121.6604], [37.99373, -122.07206], [37.70078, -121.80808], [37.57459, -122.26125], [37.91493, -122.06574], [37.44622, -122.12037], [37.83792, -122.29639], [37.5808, -122.32493], [38.246, -122.07826], [38.57569, -121.56774], [38.38617, -122.71611], [38.708064, -121.308638], [37.149294, -122.347247], [37.16777800000001, -122.361547], [38.27081, -122.05172], [38.222293, -122.129574], [35.26314, -119.02179], [37.74544, -122.14896], [37.312289, -122.275852], [37.31654, -122.30186], [37.312289, -122.275852], [37.83882, -122.22245], [38.231472, -122.112049], [37.31648, -121.96746], [37.73706, -122.40286], [38.02320200000001, -121.966354], [38.47428, -121.4227], [38.64137, -121.45188], [38.6361, -121.49634], [37.46163, -122.1431], [37.75153, -121.1401], [37.42017, -122.09118], [37.82301, -122.26173], [37.99417, -122.29681], [38.49746, -122.966972], [37.69128, -122.13865], [36.5076, -121.110719], [38.63911, -121.34597], [37.29658, -121.87396], [39.329449, -120.188379], [39.32977, -120.29231], [38.496555, -122.964289], [38.539453, -122.468673], [38.539453, -122.468673], [38.671229, -121.234985], [38.221572, -122.608484], [38.673031, -121.235015], [38.452615, -121.389969], [37.997082, -120.266712], [37.814821, -122.251329], [38.06801, -122.18236], [37.333291, -121.937792], [37.94534, -122.05841], [37.327557, -121.877795], [38.63985, -121.48438], [37.429774, -121.918596], [37.307632, -121.821246], [38.642447, -121.163585], [37.555668, -122.286574], [37.817284, -122.252347], [36.914307, -121.786708], [37.348908, -121.86062], [37.79444, -122.26581000000002], [38.53378, -123.275712], [37.3472, -121.84175], [38.087531, -119.182316], [38.5752, -121.57057], [38.65838, -121.53471], [38.21474, -122.13781000000002], [37.29338, -121.87228], [37.99417, -122.29681], [37.82487, -122.31409], [37.29338, -121.87228], [38.59901, -122.58397], [37.33934, -121.85157], [38.66387, -121.35723], [38.71912, -121.54051], [37.92233, -122.34755], [38.6298, -121.51947], [37.71981, -121.65943], [38.22931, -122.117087], [37.4159, -121.97743], [37.43353, -121.91924], [37.394906, -122.008945], [37.701, -121.7737], [38.25995, -122.06122], [37.36686, -121.99602], [37.4905, -121.94552], [37.35245, -121.96868], [37.75745, -122.21131], [37.81497, -122.2995], [37.61535, -120.98157], [39.049702, -121.035226], [38.00465, -121.84087], [38.572067, -121.589865], [37.35622, -121.9092], [37.913043, -122.06686299999998], [38.55445200000001, -121.372555], [38.6361, -121.49634], [37.385481, -121.97636], [38.555113, -121.371235], [38.560182, -121.456874], [37.861176, -122.033003], [38.64133, -121.45691], [37.50492, -121.96424], [38.563618, -121.336346], [39.0951, -120.94974], [38.426758, -121.396895], [37.64217, -121.88649], [38.595568, -121.401507], [37.76971, -121.32876], [38.27081, -122.05172], [38.57531, -121.53345], [37.393331, -121.919364], [37.39009, -121.991945], [38.06004, -121.37356], [37.698132, -121.941015], [37.701861, -121.902563], [38.70741, -122.0489], [37.65402, -121.89852], [37.93118, -122.32487], [37.621942, -122.426719], [37.30245, -121.87754], [37.45976, -122.1395], [37.82487, -122.31409], [38.00979, -122.02371], [37.932265, -122.401755], [37.29364, -121.80974], [36.841194, -121.51044], [37.932265, -122.401755], [38.16759, -122.20244], [37.78122000000001, -122.39795], [38.737213, -120.71804], [37.85493, -122.02954], [38.598987, -121.470446], [38.60021, -121.457923], [38.58108, -121.3039], [37.8889, -122.05775], [37.83792, -122.29639], [37.68778, -122.13391], [37.40392, -122.02264], [37.669681, -122.392979], [38.57498, -121.57376], [37.35121, -121.83662], [38.61726, -121.53215], [38.63663, -121.32812], [37.76508, -122.21774], [38.46699, -122.81643400000002], [36.87820900000001, -119.729861], [37.969714, -121.923189], [37.808154, -122.476653], [37.92819, -122.51548], [37.543751, -122.368252], [37.60389, -122.38264], [35.315, -119.03536], [37.54598, -122.32525], [37.25933, -121.95377], [37.33422, -122.03654], [37.29433, -121.96087], [36.97122, -121.87544], [37.86576, -122.03828], [37.70225, -121.7446], [37.518426, -122.352791], [38.54359, -121.50945], [38.57657, -121.46566], [38.555677, -121.474509], [38.64133, -121.45691], [37.70028, -121.77725], [38.24493, -122.44568], [38.68218, -121.53999], [37.89697, -122.10155], [38.5738, -121.57985], [37.42592, -122.09879], [37.31674, -121.92108], [37.89259000000001, -122.1594], [38.5802, -121.50501], [37.63432, -122.08649], [38.60463, -121.27586], [37.8221, -122.32895], [38.24027, -122.06638999999998], [37.37716, -121.94437], [37.40717, -122.06382], [37.37414, -121.9299], [37.302169, -120.634748], [37.300355, -120.681174], [37.690712, -122.107939], [37.69081, -122.107838], [37.35555, -121.86749], [38.67367, -121.73279], [38.758768, -121.261341], [38.06907, -122.22655], [37.37571, -121.93602], [37.35555, -121.86749], [37.70199, -121.91745], [38.01912, -121.9395], [38.34945, -121.9889], [38.74118, -121.27255], [38.21486, -122.547128], [38.212665, -122.54815], [37.731995, -122.415327], [38.67367, -121.73279], [37.37571, -121.93602], [39.31199, -120.49822], [38.47701, -122.73221], [38.74749, -121.26864], [37.39036, -121.9929], [37.29338, -121.87228], [37.2916, -121.93686], [37.650691, -122.453011], [38.10047, -122.16091000000002], [36.672577, -121.811318], [37.63939, -121.00693], [37.18973, -121.99257], [37.39896, -121.90827], [37.82807, -121.9982], [37.70162, -121.90858], [37.84821, -122.02782], [37.80937, -122.36581], [38.64112, -121.38188], [37.86688, -122.3039], [38.64693, -121.38309], [38.05089, -122.5314], [37.33577, -121.93475], [37.63432, -122.08649], [37.34102, -121.92787], [37.86722, -122.20021], [38.64157, -121.42491], [38.795204, -121.300755], [38.79527, -121.31192], [38.79527, -121.31192], [37.230652, -121.74954], [38.12766, -122.25155], [37.36394, -122.12389], [37.145841, -121.985271], [37.158684, -121.982494], [37.39488400000001, -121.943], [37.48761, -122.21397], [39.10357, -121.55], [37.9331, -122.41447], [38.20485, -120.69738999999998], [38.25446, -122.06589], [38.68405, -121.36376], [37.3341, -122.06485], [38.49607, -121.43745], [38.68203, -121.33527], [37.80937, -122.36581], [38.72511, -121.36459], [38.47927, -122.81622], [36.754676, -119.682156], [37.50775, -121.96808], [38.57634, -121.5487], [38.57642, -121.52185], [38.62647, -121.41071], [38.35779, -122.76938], [37.86688, -122.3039], [38.57425, -121.41522], [38.66099000000001, -121.35055], [37.42592, -122.09879], [38.42596, -122.84832], [37.62025, -122.07644], [38.6361, -121.49634], [37.92534000000001, -121.73284], [36.988097, -121.384382], [37.65279, -122.09915], [38.56205, -121.48775], [38.5791, -121.46456], [37.77534, -122.40601], [38.5802, -121.50501], [38.55068, -121.42408], [37.76508, -122.21774], [37.86432, -122.30287], [37.31674, -121.92108], [38.55489, -121.40464], [37.80791, -122.3674], [38.529113, -122.4894], [38.529101, -122.489383], [37.12879, -122.12304], [38.00465, -121.84087], [38.6642, -121.23499], [38.11386, -122.5644], [38.58883, -121.29074], [37.70028, -121.77725], [38.5791, -121.46456], [37.32345, -121.94058], [38.70413, -121.38186], [38.5738, -121.57985], [37.40392, -122.02264], [38.59486, -121.44422], [38.661438, -121.346208], [38.49635, -121.37217], [37.71067, -122.12607], [36.98288, -121.9688], [38.57657, -121.46566], [38.49615, -121.37217], [37.89336, -122.1231], [38.52793, -121.46937], [37.33375, -122.05064], [37.56233, -122.30458], [38.14602, -122.2169], [37.99072, -122.06755], [37.74227, -122.19797], [37.70225, -121.7446], [37.917696, -122.039152], [37.71576, -121.70767], [37.86432, -122.30287], [36.98743, -121.98838], [37.06314, -122.0036], [38.019529, -122.729951], [38.0499, -122.7589], [37.69058, -122.1367], [38.47428, -121.4227], [38.37539, -121.95432], [38.594363, -121.550775], [37.18973, -121.99257], [37.82334, -122.3167], [35.60783, -120.69196], [37.83184, -122.29336], [38.028256, -121.751566], [38.02368, -121.97127], [35.38415, -120.629691], [37.99417, -122.29681], [37.50854, -122.33563999999998], [37.49576, -122.36859], [37.42592, -122.09879], [38.888999, -122.238766], [38.55183, -121.69884], [37.690037, -122.492286], [36.87839, -121.56504], [37.32041, -121.83361], [37.82973, -122.29408], [37.82552, -122.30473], [37.35245, -121.96868], [38.47428, -121.4227], [37.49476, -122.36835], [38.34651, -121.99711], [38.33586, -122.01733], [37.84457, -122.29773], [37.92801, -122.32289], [38.229612, -122.116388], [37.90514, -122.51556], [38.674861, -121.742515], [37.30173, -121.81518], [38.672285, -121.35648700000002], [37.62862, -122.43277], [38.60589, -121.50761], [37.33363, -122.05064], [37.31644, -121.9555], [38.74118, -121.27255], [37.37836, -121.9657], [37.40392, -122.02264], [37.42017, -122.09118], [37.81498, -122.29964], [37.70078, -121.80808], [37.82487, -122.31409], [37.411478, -122.076522], [37.99081, -122.04005], [37.689572, -122.10041499999998], [37.0361, -122.02065], [37.76215, -122.40566], [39.21299000000001, -120.77958], [37.86688, -122.3039], [37.85413, -122.22072], [38.04312, -122.2409], [36.780863, -121.312839], [36.780886, -121.31285], [37.76508, -122.21774], [37.7014, -121.87628], [39.21299000000001, -120.77958], [37.339323, -121.851869], [37.203081, -121.711774], [37.325192, -121.886316], [37.814821, -121.993224], [37.89173, -122.0622], [35.38572, -118.98731], [37.345414, -121.857793], [37.70225, -121.7446], [38.560761, -121.464412], [38.01097, -122.08861], [37.49074, -122.21789], [37.78606, -122.3909], [38.002171, -122.281459], [37.64458, -121.63056], [38.41729, -121.89621], [37.53886, -121.92657], [37.931131, -122.060372], [37.99417, -122.29681], [37.42592, -122.09879], [37.42055, -122.09171299999998], [37.89807, -122.09116000000002], [38.228198, -122.119575], [37.57592, -121.88129], [37.60452, -122.06495], [36.76847, -121.74313], [37.24844, -121.83185], [37.27353, -121.86269], [37.39515, -122.01006], [37.41037, -121.99379], [37.69551, -122.1045], [38.59312, -121.28405], [38.01042, -122.01975], [37.717431, -121.703956], [37.74247, -121.53016], [37.41037, -121.99379], [38.68354, -121.33599], [38.55389, -121.40801], [37.53257, -121.93906], [37.69811, -121.93698], [38.01247, -121.86922], [37.88124000000001, -122.30814], [38.551634, -121.43241299999998], [37.41946, -121.95702], [37.25611, -121.87282], [37.78354, -121.21586], [37.392938, -121.946985], [37.41351, -121.88297], [37.6907, -122.09411], [37.84131, -122.29735], [37.83894, -122.29678], [38.65365, -121.53176], [37.6907, -122.09411], [37.37438, -121.9595], [37.38866, -122.15822], [37.80441, -122.30255], [38.337013, -121.89696], [37.910986, -122.067588], [37.71108, -121.71938], [37.91986, -122.06267], [37.70091, -121.79529], [37.06582, -120.5395], [37.67196, -119.7907], [37.91986, -122.06267], [38.01689, -121.990679], [37.410898, -122.075895], [37.992836, -122.124303], [36.962228, -121.540368], [36.959995, -121.534693], [37.97295, -122.31945], [37.3353, -121.89724], [37.36142, -121.91656], [37.63456, -122.10438], [37.972311, -121.969345], [37.47807, -121.93342], [37.25611, -121.87282], [37.973329, -121.9681], [37.700483, -122.39306100000002], [37.84867, -122.23309], [37.84490200000001, -122.227241], [37.362735, -121.889594], [37.799251, -122.276495], [37.82272800000001, -122.320037], [37.926216, -122.514616], [37.84628, -122.24708], [38.6361, -121.49634], [36.356671, -121.902545], [37.502312, -122.330521], [37.14609, -121.98586], [38.595512, -121.48077], [38.594672, -121.478941], [38.64322, -121.43444], [38.77296, -121.25454], [38.53757, -121.73843], [37.78606, -122.3909], [37.831588, -122.294175], [37.766264, -122.404906], [37.88339000000001, -122.18032], [37.7412, -121.58183], [38.59484000000001, -121.50396], [37.62916, -122.1185], [38.07988, -122.54625], [37.66502, -122.10668], [37.71981, -121.65943], [38.12314, -122.2732], [37.59645, -122.05921], [38.56787, -121.33274], [38.68354, -121.33599], [37.56097000000001, -122.03558999999998], [38.646, -121.37892], [37.7788, -122.16959], [37.41946, -121.95702], [38.13535, -122.2216], [37.59645, -122.05921], [37.56314, -122.03892], [37.398848, -121.931926], [37.41933, -121.94382], [37.14627, -121.98632], [37.79351, -122.2636], [37.70982, -122.16547], [37.96434, -122.51348], [37.21237, -121.72598], [37.76508, -122.21774], [38.09717, -122.25507], [37.48779, -122.2073], [37.49074, -122.21789], [37.80937, -122.36581], [37.79298, -122.18121], [37.14609, -121.98586], [37.794368, -122.469533], [38.63735, -121.40364], [37.82608, -121.99587], [37.57711, -121.97097], [37.91435, -122.06634], [38.22116, -122.1312], [37.44885, -122.12282], [38.31996, -120.93776], [38.31921, -120.9387], [37.81972, -121.99311000000002], [37.4116, -122.07684], [38.47782, -121.42671], [37.597266, -121.951984], [37.57711, -121.97097], [38.48214, -122.73665], [38.6421, -121.16086], [37.36394, -122.12389], [38.6061, -121.43255], [38.53904, -121.4737], [36.830337, -121.771185], [37.53039, -122.33039], [38.37686, -122.20229], [37.94134, -122.05976], [38.44556, -122.19661], [38.3444, -122.71289], [38.30377, -122.70817], [36.834614, -121.770983], [36.831375, -121.770981], [37.62889000000001, -122.08236], [38.54359, -121.50945], [38.67108, -121.59564], [38.150117, -122.450713], [35.38059000000001, -119.01296], [38.11386, -122.5644], [35.33779000000001, -118.84042], [37.82593, -122.27597], [38.31852, -122.71421], [37.66158, -122.40233], [37.10464, -121.12941399999998], [37.05665, -120.97391], [37.84821, -122.02782], [37.4987, -121.92697], [37.33961, -121.85178], [37.53886, -121.92657], [37.0836, -122.26758], [38.251947, -122.577954], [38.250735, -122.561001], [38.40145, -122.82383], [37.31609, -121.94043], [38.252757, -122.577219], [38.236886, -122.528087], [38.236886, -122.528087], [38.252757, -122.577219], [38.49849, -122.75967], [37.71922, -121.6604], [38.42073, -122.715476], [37.949435, -122.512279], [37.80791, -122.3674], [37.76971, -121.32876], [38.19825, -121.06817], [37.7172, -122.17467], [37.69269, -122.14103], [38.47428, -121.4227], [37.73139000000001, -122.42325], [37.71922, -121.6604], [37.9019, -122.31158], [38.13775, -122.21645], [37.77482, -122.23258], [37.45805, -121.92395], [37.69068, -122.127717], [38.68925, -121.54028], [38.648065, -121.33704], [38.6581, -121.36307], [38.23619, -122.52658999999998], [38.254296, -122.574852], [37.76824000000001, -122.39638], [37.86389000000001, -122.20925], [37.42089, -122.09251], [37.79917, -122.22101], [37.38024, -121.85829], [37.27353, -121.86269], [38.5783, -121.50717], [37.33422, -122.03654], [37.32584, -122.05082], [37.55214, -122.30846], [37.82807, -121.9982], [38.43526, -121.40051], [37.22206, -122.40621000000002], [37.48651, -122.14272], [37.55125, -122.31063], [38.331497, -122.714526], [38.331307, -122.71311], [38.594428, -121.346728], [37.99498, -122.29047], [37.70149, -122.47135], [37.70069, -122.02557], [35.374077, -118.91423], [37.34826, -121.9188], [35.35344, -119.0031], [35.35257, -119.00127], [38.1415, -122.22927], [37.07878, -121.97975], [37.127986, -121.976076], [37.51194, -122.34939], [37.98186, -121.34218], [35.76938, -120.70431], [37.7172, -122.17467], [37.56612, -122.04143], [37.50775, -121.96808], [37.66779, -122.10868], [37.35231, -121.96848], [38.53942, -121.51191], [37.44885, -122.12282], [37.57238, -122.3158], [37.586333, -121.872044], [37.37414, -121.9299], [37.515974, -121.940663], [37.34938, -122.05985], [37.29338, -121.87228], [37.394764, -122.008331], [37.39857, -122.02563], [37.35541, -121.8677], [37.68981, -122.09805], [37.38433, -121.97167], [37.92534000000001, -121.73284], [37.54904000000001, -122.31496], [38.01775, -121.89332], [36.80712, -119.73461], [36.75336, -119.72393999999998], [38.56244, -121.51444], [39.042414, -121.098605], [39.05266, -121.10878999999998], [38.8751, -121.13115], [37.70287, -122.01694], [38.57657, -121.46566], [37.4252, -121.91758], [38.54359, -121.50945], [38.83157, -121.17124], [38.21717, -122.13741], [38.60385, -121.43289], [38.6061, -121.43255], [38.6114, -121.26442], [38.5752, -121.57057], [37.31896, -121.88975], [37.83792, -122.29639], [38.01471, -122.24941], [39.10994, -123.1968], [38.304319, -121.57445], [38.305231, -121.574696], [38.77918, -121.26957], [38.776485, -121.263721], [38.432664, -122.715875], [37.93118, -122.32487], [37.83894, -122.29678], [37.84131, -122.29735], [37.8379, -122.296384], [37.38495, -121.90516], [37.854339, -122.493425], [37.52324, -122.26653], [38.21046, -122.14708], [37.996875, -122.038736], [37.78908, -122.25359], [37.6442, -122.4061], [35.43756, -119.07493], [37.82593, -122.27573], [38.48274, -122.4428], [37.09938, -120.93067], [38.59486, -121.44422], [37.51658, -122.25932], [37.2543, -121.94924], [37.44297, -121.89024], [37.5231, -121.98913], [38.00051, -122.28301], [38.01773, -122.26701], [37.315, -122.18729], [37.44875, -121.92168999999998], [37.631158, -122.453236], [38.16759, -122.20244], [37.36221, -121.90303], [38.242843, -122.27413], [37.29718, -122.02835], [37.98915, -122.3128], [38.04506, -122.23731], [37.70187, -121.90582], [37.41747, -122.21268], [37.77332, -122.40654], [37.64801, -122.09625], [37.92509, -122.06096], [37.78606, -122.3909], [37.80791, -122.3674], [38.583688, -121.5032], [37.957546, -121.240571], [37.14609, -121.98586], [37.388001, -122.262971], [37.96957, -122.3208], [37.70069, -122.02557], [37.8313, -122.26686], [37.95369, -121.30977], [37.91838, -122.31734], [37.80791, -122.3674], [38.55389, -121.40801], [36.83067, -121.77108], [37.99645, -121.78792], [37.94307, -122.32383], [37.74227, -122.19797], [37.52244, -122.26612], [37.72127, -121.93827], [38.191515, -120.829111], [38.02368, -121.97127], [38.83157, -121.17124], [38.66387, -121.35723], [37.90967, -122.32179], [38.47782, -121.42671], [38.33576, -122.01707], [38.49797, -121.44812], [37.36394, -122.12389], [36.769185, -121.765101], [37.89697, -122.10155], [36.975239, -121.892246], [37.99931, -122.07582], [37.88339000000001, -122.18032], [37.80706, -122.47557], [38.22248, -122.61016], [37.7412, -121.58183], [38.02368, -121.36018], [38.01042, -122.01975], [37.70069, -122.02557], [38.4498, -122.6878], [37.25081, -121.95893999999998], [37.842337, -122.485822], [37.80706, -122.47557], [37.83894, -122.29678], [37.84131, -122.29735], [37.798777, -122.275241], [38.00991, -122.54211], [37.7719, -122.22442], [38.68354, -121.33599], [38.55342, -121.43682], [38.01912, -121.9395], [38.55342, -121.43682], [37.56469, -122.27235], [38.35403, -121.97915], [37.423082, -121.924673], [38.588883, -121.414067], [37.9269, -122.36756], [38.49164, -121.80055], [38.6581, -121.36307], [38.42024, -122.71557], [37.89336, -122.1231], [38.244949, -122.080661], [38.52929, -121.75614], [37.85139, -122.29956], [37.91069, -121.28851], [37.32789, -122.05122], [37.34502, -121.84407], [37.56143, -122.03589], [37.73221, -122.43226], [37.51602000000001, -121.94069], [38.069244, -122.183209], [37.484267, -122.183803], [38.42763, -122.341155], [38.42772, -122.341237], [38.58883, -121.29074], [38.55796, -121.38558], [37.583671, -122.251499], [37.20655, -121.7179], [37.323087, -122.002344], [35.320635, -119.03710900000002], [37.71922, -121.6604], [37.88124000000001, -122.30814], [37.68872, -122.10838], [37.62916, -122.1185], [38.09598, -122.56165], [38.64842, -121.37355], [38.63766, -121.4163], [37.65279, -122.09915], [38.56267, -121.48895], [37.80728, -121.99105], [37.56469, -122.27235], [37.58214, -122.04966], [37.38036, -121.95779], [37.743816, -122.405713], [37.51224000000001, -121.93817], [37.70187, -121.90582], [38.021999, -121.960014], [37.73929, -122.19505], [38.49797, -121.44812], [37.7017, -121.88372], [37.399014, -121.93202], [37.369189, -121.965284], [37.80791, -122.3674], [37.656556, -122.406302], [38.53904, -121.4737], [39.324493, -120.393865], [38.70541, -121.31152], [37.80937, -122.36581], [37.948891, -122.512406], [37.321956, -121.890827], [38.61307, -121.42481], [37.31131, -121.88411], [37.24691, -121.96075], [38.41475, -122.71612], [36.883661, -121.560802], [38.5783, -121.50717], [37.36327, -121.89519], [38.039598, -122.536778], [37.75232000000001, -122.40303], [38.40105, -121.3715], [38.55183, -121.69884], [38.682841, -121.336497], [38.77093, -121.24725], [37.14609, -121.98586], [38.62195, -121.51526], [37.89722, -122.07124], [38.62013, -121.52625], [37.26181, -121.92234], [36.727523, -119.462885], [36.75484, -119.82814], [37.70252, -122.39352], [37.56233, -122.30458], [37.31648, -121.96746], [38.5189, -121.52199], [37.7805, -121.97704], [38.572828, -121.586536], [37.35492, -122.06203], [37.31648, -121.96746], [37.71922, -121.6604], [38.51391, -121.46197], [37.83792, -122.29639], [37.50775, -121.96808], [37.33361, -121.86159], [37.50492, -121.96424], [38.496213, -121.459502], [36.83133, -121.77098], [38.58936, -121.38297], [38.29359, -121.31377], [37.49576, -122.36859], [37.50711, -122.3391], [37.95332, -122.27219], [38.07324000000001, -122.22961], [38.235195, -121.51631], [38.15242, -120.64219], [37.57238, -122.3158], [37.55759000000001, -122.30023], [37.887806, -122.308628], [37.157197, -121.982129], [37.14609, -121.98586], [38.66387, -121.35723], [38.57306, -121.50902], [37.08027, -121.622699], [37.74446, -122.1962], [37.55405, -122.29208], [37.57529, -122.04697]],\n",
       "                {&quot;blur&quot;: 15, &quot;maxZoom&quot;: 18, &quot;minOpacity&quot;: 0.5, &quot;radius&quot;: 25}\n",
       "            ).addTo(map_0c491b13f3b8479a54d9071fc846292f);\n",
       "        \n",
       "&lt;/script&gt;\n",
       "&lt;/html&gt;\" style=\"position:absolute;width:100%;height:100%;left:0;top:0;border:none !important;\" allowfullscreen webkitallowfullscreen mozallowfullscreen></iframe></div></div>"
      ],
      "text/plain": [
       "<folium.folium.Map at 0x7f0503c71f50>"
      ]
     },
     "execution_count": 48,
     "metadata": {},
     "output_type": "execute_result"
    }
   ],
   "source": [
    "map= folium.Map()\n",
    "HeatMap(lat_long_combine[:2000]).add_to(map)                 #plotted upto 2000 count of accidents on a Map using folium\n",
    "map"
   ]
  },
  {
   "cell_type": "markdown",
   "id": "a99114d9",
   "metadata": {
    "papermill": {
     "duration": 0.034001,
     "end_time": "2023-01-11T12:39:25.559025",
     "exception": false,
     "start_time": "2023-01-11T12:39:25.525024",
     "status": "completed"
    },
    "tags": []
   },
   "source": [
    "5. Based on Weather Condition"
   ]
  },
  {
   "cell_type": "markdown",
   "id": "c6230255",
   "metadata": {
    "papermill": {
     "duration": 0.035863,
     "end_time": "2023-01-11T12:39:25.628656",
     "exception": false,
     "start_time": "2023-01-11T12:39:25.592793",
     "status": "completed"
    },
    "tags": []
   },
   "source": [
    "Que. Is there any effect of Weather on accidents?"
   ]
  },
  {
   "cell_type": "code",
   "execution_count": 49,
   "id": "ad7d65be",
   "metadata": {
    "execution": {
     "iopub.execute_input": "2023-01-11T12:39:25.699316Z",
     "iopub.status.busy": "2023-01-11T12:39:25.698401Z",
     "iopub.status.idle": "2023-01-11T12:39:25.890729Z",
     "shell.execute_reply": "2023-01-11T12:39:25.889858Z"
    },
    "papermill": {
     "duration": 0.230638,
     "end_time": "2023-01-11T12:39:25.893144",
     "exception": false,
     "start_time": "2023-01-11T12:39:25.662506",
     "status": "completed"
    },
    "tags": []
   },
   "outputs": [
    {
     "data": {
      "text/plain": [
       "Fair                1107194\n",
       "Mostly Cloudy        363959\n",
       "Cloudy               348767\n",
       "Partly Cloudy        249939\n",
       "Clear                173823\n",
       "Light Rain           128403\n",
       "Overcast              84882\n",
       "Scattered Clouds      45132\n",
       "Light Snow            43752\n",
       "Fog                   41226\n",
       "Name: Weather_Condition, dtype: int64"
      ]
     },
     "execution_count": 49,
     "metadata": {},
     "output_type": "execute_result"
    }
   ],
   "source": [
    "Weather_Condition_aff = df.Weather_Condition.value_counts()\n",
    "Weather_Condition_aff.head(10)"
   ]
  },
  {
   "cell_type": "code",
   "execution_count": 50,
   "id": "760feea1",
   "metadata": {
    "execution": {
     "iopub.execute_input": "2023-01-11T12:39:25.962710Z",
     "iopub.status.busy": "2023-01-11T12:39:25.962260Z",
     "iopub.status.idle": "2023-01-11T12:39:26.250433Z",
     "shell.execute_reply": "2023-01-11T12:39:26.249513Z"
    },
    "papermill": {
     "duration": 0.326067,
     "end_time": "2023-01-11T12:39:26.252685",
     "exception": false,
     "start_time": "2023-01-11T12:39:25.926618",
     "status": "completed"
    },
    "tags": []
   },
   "outputs": [
    {
     "data": {
      "text/plain": [
       "<AxesSubplot:>"
      ]
     },
     "execution_count": 50,
     "metadata": {},
     "output_type": "execute_result"
    },
    {
     "data": {
      "image/png": "[encoded data removed]",
      "text/plain": [
       "<Figure size 432x288 with 1 Axes>"
      ]
     },
     "metadata": {},
     "output_type": "display_data"
    }
   ],
   "source": [
    "Weather_Condition_aff.head(10).plot(kind = 'bar', color = 'yellow')"
   ]
  },
  {
   "cell_type": "markdown",
   "id": "56f4c61c",
   "metadata": {
    "papermill": {
     "duration": 0.034055,
     "end_time": "2023-01-11T12:39:26.321085",
     "exception": false,
     "start_time": "2023-01-11T12:39:26.287030",
     "status": "completed"
    },
    "tags": []
   },
   "source": [
    "1107194 Accidents were caused when the weather was Fair (clear), hence weather cannot be the cause of accidents occured."
   ]
  },
  {
   "cell_type": "markdown",
   "id": "8a750ebe",
   "metadata": {
    "papermill": {
     "duration": 0.034293,
     "end_time": "2023-01-11T12:39:26.389995",
     "exception": false,
     "start_time": "2023-01-11T12:39:26.355702",
     "status": "completed"
    },
    "tags": []
   },
   "source": [
    "6. Based on Severity "
   ]
  },
  {
   "cell_type": "markdown",
   "id": "b4f8e354",
   "metadata": {
    "papermill": {
     "duration": 0.035079,
     "end_time": "2023-01-11T12:39:26.461235",
     "exception": false,
     "start_time": "2023-01-11T12:39:26.426156",
     "status": "completed"
    },
    "tags": []
   },
   "source": [
    "Que. Which Severity of accidents occured the most?"
   ]
  },
  {
   "cell_type": "code",
   "execution_count": 51,
   "id": "61bdbe6c",
   "metadata": {
    "execution": {
     "iopub.execute_input": "2023-01-11T12:39:26.532257Z",
     "iopub.status.busy": "2023-01-11T12:39:26.531625Z",
     "iopub.status.idle": "2023-01-11T12:39:26.877105Z",
     "shell.execute_reply": "2023-01-11T12:39:26.875701Z"
    },
    "papermill": {
     "duration": 0.384182,
     "end_time": "2023-01-11T12:39:26.879797",
     "exception": false,
     "start_time": "2023-01-11T12:39:26.495615",
     "status": "completed"
    },
    "tags": []
   },
   "outputs": [
    {
     "data": {
      "text/plain": [
       "<AxesSubplot:>"
      ]
     },
     "execution_count": 51,
     "metadata": {},
     "output_type": "execute_result"
    },
    {
     "data": {
      "image/png": "[encoded data removed]",
      "text/plain": [
       "<Figure size 432x288 with 1 Axes>"
      ]
     },
     "metadata": {},
     "output_type": "display_data"
    }
   ],
   "source": [
    "df.Severity.hist(bins=4)"
   ]
  },
  {
   "cell_type": "markdown",
   "id": "61ff0c03",
   "metadata": {
    "papermill": {
     "duration": 0.034597,
     "end_time": "2023-01-11T12:39:26.950160",
     "exception": false,
     "start_time": "2023-01-11T12:39:26.915563",
     "status": "completed"
    },
    "tags": []
   },
   "source": [
    "The Graph clearly indicates that 2 nd type of severity is caused highest among all."
   ]
  },
  {
   "cell_type": "markdown",
   "id": "bf091876",
   "metadata": {
    "papermill": {
     "duration": 0.034558,
     "end_time": "2023-01-11T12:39:27.020031",
     "exception": false,
     "start_time": "2023-01-11T12:39:26.985473",
     "status": "completed"
    },
    "tags": []
   },
   "source": [
    "7. Street Wise Analysis for frequent Accidents"
   ]
  },
  {
   "cell_type": "markdown",
   "id": "78065bad",
   "metadata": {
    "papermill": {
     "duration": 0.035139,
     "end_time": "2023-01-11T12:39:27.090429",
     "exception": false,
     "start_time": "2023-01-11T12:39:27.055290",
     "status": "completed"
    },
    "tags": []
   },
   "source": [
    "Which street had most accident in US?"
   ]
  },
  {
   "cell_type": "code",
   "execution_count": 52,
   "id": "b44e6ae2",
   "metadata": {
    "execution": {
     "iopub.execute_input": "2023-01-11T12:39:27.164031Z",
     "iopub.status.busy": "2023-01-11T12:39:27.163312Z",
     "iopub.status.idle": "2023-01-11T12:39:27.780743Z",
     "shell.execute_reply": "2023-01-11T12:39:27.779875Z"
    },
    "papermill": {
     "duration": 0.656622,
     "end_time": "2023-01-11T12:39:27.782885",
     "exception": false,
     "start_time": "2023-01-11T12:39:27.126263",
     "status": "completed"
    },
    "tags": []
   },
   "outputs": [
    {
     "data": {
      "text/plain": [
       "I-95 N     39853\n",
       "I-5 N      39402\n",
       "I-95 S     36425\n",
       "I-5 S      30229\n",
       "I-10 E     26164\n",
       "I-10 W     25298\n",
       "I-80 W     17545\n",
       "I-80 E     16873\n",
       "I-405 N    13708\n",
       "I-15 N     12675\n",
       "Name: Street, dtype: int64"
      ]
     },
     "execution_count": 52,
     "metadata": {},
     "output_type": "execute_result"
    }
   ],
   "source": [
    "streets = df.Street.value_counts()\n",
    "streets_top = streets.head(10)\n",
    "streets_top"
   ]
  },
  {
   "cell_type": "markdown",
   "id": "30c3dad4",
   "metadata": {
    "papermill": {
     "duration": 0.034896,
     "end_time": "2023-01-11T12:39:27.852619",
     "exception": false,
     "start_time": "2023-01-11T12:39:27.817723",
     "status": "completed"
    },
    "tags": []
   },
   "source": [
    "I-95 N  street has caused the highest count of accidents i.e 39853"
   ]
  },
  {
   "cell_type": "code",
   "execution_count": 53,
   "id": "6e2b3d79",
   "metadata": {
    "execution": {
     "iopub.execute_input": "2023-01-11T12:39:27.925665Z",
     "iopub.status.busy": "2023-01-11T12:39:27.924993Z",
     "iopub.status.idle": "2023-01-11T12:39:28.261125Z",
     "shell.execute_reply": "2023-01-11T12:39:28.259891Z"
    },
    "papermill": {
     "duration": 0.376176,
     "end_time": "2023-01-11T12:39:28.264095",
     "exception": false,
     "start_time": "2023-01-11T12:39:27.887919",
     "status": "completed"
    },
    "tags": []
   },
   "outputs": [
    {
     "data": {
      "text/plain": [
       "Text(0, 0.5, 'No. of accidents')"
      ]
     },
     "execution_count": 53,
     "metadata": {},
     "output_type": "execute_result"
    },
    {
     "data": {
      "image/png": "[encoded data removed]",
      "text/plain": [
       "<Figure size 720x360 with 1 Axes>"
      ]
     },
     "metadata": {},
     "output_type": "display_data"
    }
   ],
   "source": [
    "plt.figure(figsize=(10,5))\n",
    "sns.barplot(y=streets_top.index, x=streets_top)\n",
    "plt.title(\"Top 10 Accident Prone Streets in US \",size=10,color=\"grey\")\n",
    "plt.xlabel('Streets')\n",
    "plt.ylabel('No. of accidents')"
   ]
  },
  {
   "cell_type": "markdown",
   "id": "cf8ce24b",
   "metadata": {
    "papermill": {
     "duration": 0.036198,
     "end_time": "2023-01-11T12:39:28.337141",
     "exception": false,
     "start_time": "2023-01-11T12:39:28.300943",
     "status": "completed"
    },
    "tags": []
   },
   "source": [
    "8. Time Zone Wise Analysis"
   ]
  },
  {
   "cell_type": "markdown",
   "id": "0391b7f7",
   "metadata": {
    "papermill": {
     "duration": 0.035738,
     "end_time": "2023-01-11T12:39:28.409449",
     "exception": false,
     "start_time": "2023-01-11T12:39:28.373711",
     "status": "completed"
    },
    "tags": []
   },
   "source": [
    "Que. Which timezone reported the most number of accident cases?"
   ]
  },
  {
   "cell_type": "code",
   "execution_count": 54,
   "id": "8b624198",
   "metadata": {
    "execution": {
     "iopub.execute_input": "2023-01-11T12:39:28.484768Z",
     "iopub.status.busy": "2023-01-11T12:39:28.484374Z",
     "iopub.status.idle": "2023-01-11T12:39:28.663588Z",
     "shell.execute_reply": "2023-01-11T12:39:28.662347Z"
    },
    "papermill": {
     "duration": 0.220343,
     "end_time": "2023-01-11T12:39:28.666029",
     "exception": false,
     "start_time": "2023-01-11T12:39:28.445686",
     "status": "completed"
    },
    "tags": []
   },
   "outputs": [
    {
     "data": {
      "text/plain": [
       "US/Eastern     1221927\n",
       "US/Pacific      967094\n",
       "US/Central      488065\n",
       "US/Mountain     164597\n",
       "Name: Timezone, dtype: int64"
      ]
     },
     "execution_count": 54,
     "metadata": {},
     "output_type": "execute_result"
    }
   ],
   "source": [
    "timezone_acc=df['Timezone'].value_counts()\n",
    "timezone_acc"
   ]
  },
  {
   "cell_type": "markdown",
   "id": "b5bf5c06",
   "metadata": {
    "papermill": {
     "duration": 0.034637,
     "end_time": "2023-01-11T12:39:28.736018",
     "exception": false,
     "start_time": "2023-01-11T12:39:28.701381",
     "status": "completed"
    },
    "tags": []
   },
   "source": [
    "US/Eastern has caused the highest count of accidents i.e 1221927"
   ]
  },
  {
   "cell_type": "code",
   "execution_count": 55,
   "id": "41bc02f4",
   "metadata": {
    "execution": {
     "iopub.execute_input": "2023-01-11T12:39:28.807979Z",
     "iopub.status.busy": "2023-01-11T12:39:28.806827Z",
     "iopub.status.idle": "2023-01-11T12:39:28.946932Z",
     "shell.execute_reply": "2023-01-11T12:39:28.945370Z"
    },
    "papermill": {
     "duration": 0.179486,
     "end_time": "2023-01-11T12:39:28.950677",
     "exception": false,
     "start_time": "2023-01-11T12:39:28.771191",
     "status": "completed"
    },
    "tags": []
   },
   "outputs": [
    {
     "data": {
      "text/plain": [
       "<AxesSubplot:title={'center':'US Timezone wise accident counts'}, ylabel='Timezone'>"
      ]
     },
     "execution_count": 55,
     "metadata": {},
     "output_type": "execute_result"
    },
    {
     "data": {
      "image/png": "[encoded data removed]",
      "text/plain": [
       "<Figure size 432x288 with 1 Axes>"
      ]
     },
     "metadata": {},
     "output_type": "display_data"
    }
   ],
   "source": [
    "timezone_acc.plot(kind = 'pie', autopct='%1.0f%%', title='US Timezone wise accident counts' )"
   ]
  },
  {
   "cell_type": "markdown",
   "id": "1a8b166b",
   "metadata": {
    "papermill": {
     "duration": 0.036816,
     "end_time": "2023-01-11T12:39:29.063246",
     "exception": false,
     "start_time": "2023-01-11T12:39:29.026430",
     "status": "completed"
    },
    "tags": []
   },
   "source": [
    "Step 4: Report Analysis"
   ]
  },
  {
   "cell_type": "markdown",
   "id": "ed97bd8b",
   "metadata": {
    "papermill": {
     "duration": 0.037167,
     "end_time": "2023-01-11T12:39:29.137363",
     "exception": false,
     "start_time": "2023-01-11T12:39:29.100196",
     "status": "completed"
    },
    "tags": []
   },
   "source": [
    "Overall Insights :"
   ]
  },
  {
   "cell_type": "markdown",
   "id": "781c6f70",
   "metadata": {
    "papermill": {
     "duration": 0.036729,
     "end_time": "2023-01-11T12:39:29.284449",
     "exception": false,
     "start_time": "2023-01-11T12:39:29.247720",
     "status": "completed"
    },
    "tags": []
   },
   "source": [
    "- Miami has the maximum count of accidents 106966\n",
    "- California State has the maximum number of accident counts of 795868\n",
    "- 95.74% of Cities have low accident rate while 4.24% of Cities have higher accident rate. So, Most of the Cities has less number of Accidents.\n",
    "- Over 1100 Cities have reported only 1 accident (This needs some investigation for accuracy of data)\n",
    "- Maximum road accidents took place between 3 PM and 6 PM on both weekdays and weekends.\n",
    "- Weather is clearly not a cause of accidents that occured in US as most of the time weather was clear and fair.\n",
    "- Year 2021 had maximum number of accidents i.e 1511745\n",
    "- I-95 N street has caused the highest count of accidents i.e 39853\n",
    "- US/Eastern has caused the highest count of accidents i.e 1221927\n",
    "- There is sharp incline after 2020 which led to higher accident rates in 2021.\n",
    "- Trend of accident rate year on year basis is exponentially increasing.\n",
    "- 2nd type of Severity of accident is caused the highest."
   ]
  },
  {
   "cell_type": "markdown",
   "id": "be66072a",
   "metadata": {
    "papermill": {
     "duration": 0.037322,
     "end_time": "2023-01-11T12:39:29.358925",
     "exception": false,
     "start_time": "2023-01-11T12:39:29.321603",
     "status": "completed"
    },
    "tags": []
   },
   "source": [
    " Step 5: Areas of Additional research - \n",
    "1. To validate the reason - why California has comparatively higher accident rates than New York despite of NY being the highest populated State in US. \n",
    "New York City, NY (Population: 8,622,357) while Los Angeles, CA (Population: 4,085,014) as of 2020\n",
    "2. To re validate if Data of 2020 is complete or not as it seems to be inconsistent.\n",
    "3. It clearly indicates that most of the accidents occured during Fair and clear weather which cannot be the reason for cause of    accidents, need to analyse the other factors that lead to the higher accident rates.\n",
    "4. What could be the other lead causes for accidents and what projects needs to be implemented so that the accident rates can be reduced."
   ]
  },
  {
   "cell_type": "code",
   "execution_count": null,
   "id": "cd9042e6",
   "metadata": {
    "papermill": {
     "duration": 0.036098,
     "end_time": "2023-01-11T12:39:29.432095",
     "exception": false,
     "start_time": "2023-01-11T12:39:29.395997",
     "status": "completed"
    },
    "tags": []
   },
   "outputs": [],
   "source": []
  }
 ],
 "metadata": {
  "kernelspec": {
   "display_name": "Python 3",
   "language": "python",
   "name": "python3"
  },
  "language_info": {
   "codemirror_mode": {
    "name": "ipython",
    "version": 3
   },
   "file_extension": ".py",
   "mimetype": "text/x-python",
   "name": "python",
   "nbconvert_exporter": "python",
   "pygments_lexer": "ipython3",
   "version": "3.7.12"
  },
  "papermill": {
   "default_parameters": {},
   "duration": 140.308437,
   "end_time": "2023-01-11T12:39:32.090988",
   "environment_variables": {},
   "exception": null,
   "input_path": "__notebook__.ipynb",
   "output_path": "__notebook__.ipynb",
   "parameters": {},
   "start_time": "2023-01-11T12:37:11.782551",
   "version": "2.3.4"
  }
 },
 "nbformat": 4,
 "nbformat_minor": 5
}
